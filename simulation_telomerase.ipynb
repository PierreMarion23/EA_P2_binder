{
 "cells": [
  {
   "cell_type": "markdown",
   "metadata": {},
   "source": [
    "# Project EA P2"
   ]
  },
  {
   "cell_type": "markdown",
   "metadata": {},
   "source": [
    "# Simulations of the model with telomerase"
   ]
  },
  {
   "cell_type": "markdown",
   "metadata": {},
   "source": [
    "## References:\n",
    "1. The asymmetry of telomere replication contributes to replicative senescence heterogeneity\n",
    "2. The Length of the Shortest Telomere as the Major Determinant of the Onset of Replicative Senescence"
   ]
  },
  {
   "cell_type": "markdown",
   "metadata": {},
   "source": [
    "Our goal here is to determine the parameters $\\beta$ and $L_0$ of the distribution to fit the following empirical statistical parameters:\n",
    "+ [mode](https://fr.wikipedia.org/wiki/Mode_(statistiques) = 260 (taken from [1])\n",
    "+ [skewness](https://fr.wikipedia.org/wiki/Asym%C3%A9trie_(statistiques) = 0.73 (taken from [2])"
   ]
  },
  {
   "cell_type": "markdown",
   "metadata": {},
   "source": [
    "Afterwards, we simulate random draws from this distribution to compare the size of the smallest telomeres, similarly to what is done in [2]."
   ]
  },
  {
   "cell_type": "code",
   "execution_count": 1,
   "metadata": {
    "collapsed": true
   },
   "outputs": [],
   "source": [
    "from numpy import random as npr\n",
    "import random\n",
    "import numpy as np\n",
    "from scipy import stats as scs\n",
    "from ipywidgets import FloatSlider, IntSlider, Text, IntProgress, VBox, HBox\n",
    "from bqplot import pyplot as plt"
   ]
  },
  {
   "cell_type": "code",
   "execution_count": 2,
   "metadata": {
    "collapsed": true
   },
   "outputs": [],
   "source": [
    "# Parameters from the model\n",
    "s = 3.5\n",
    "p = 0.026\n",
    "L_0 = 430\n",
    "beta = 1\n",
    "n = 1700    # maximal length allowed for one telomere (>> mode length, which is around L_0)"
   ]
  },
  {
   "cell_type": "code",
   "execution_count": 3,
   "metadata": {
    "collapsed": true
   },
   "outputs": [],
   "source": [
    "# gives the probability of action of telomerase as a function of telomere length\n",
    "def P(L, L_0, beta):\n",
    "    if L >= L_0:\n",
    "        return 1./(1 + beta*(L-L_0))\n",
    "    else:\n",
    "        return 1"
   ]
  },
  {
   "cell_type": "code",
   "execution_count": 4,
   "metadata": {
    "collapsed": true
   },
   "outputs": [],
   "source": [
    "# markov chain\n",
    "def evolution(L, L_0, beta):\n",
    "    prob = P(L, L_0, beta)\n",
    "    x = random.random()\n",
    "    if x >= prob:\n",
    "        return L - 2*s\n",
    "    else:\n",
    "        return L - 2*s + 2*npr.geometric(p=p)"
   ]
  },
  {
   "cell_type": "markdown",
   "metadata": {},
   "source": [
    "**Remark**: we modified a little bit the equations found in the paper to transform the state space from half integers to integers."
   ]
  },
  {
   "cell_type": "code",
   "execution_count": 5,
   "metadata": {},
   "outputs": [
    {
     "data": {
      "application/vnd.jupyter.widget-view+json": {
       "model_id": "570a61cceb1c46618d98fe495fe45bb2",
       "version_major": 2,
       "version_minor": 0
      },
      "text/html": [
       "<p>Failed to display Jupyter Widget of type <code>VBox</code>.</p>\n",
       "<p>\n",
       "  If you're reading this message in the Jupyter Notebook or JupyterLab Notebook, it may mean\n",
       "  that the widgets JavaScript is still loading. If this message persists, it\n",
       "  likely means that the widgets JavaScript library is either not installed or\n",
       "  not enabled. See the <a href=\"https://ipywidgets.readthedocs.io/en/stable/user_install.html\">Jupyter\n",
       "  Widgets Documentation</a> for setup instructions.\n",
       "</p>\n",
       "<p>\n",
       "  If you're reading this message in another frontend (for example, a static\n",
       "  rendering on GitHub or <a href=\"https://nbviewer.jupyter.org/\">NBViewer</a>),\n",
       "  it may mean that your frontend doesn't currently support widgets.\n",
       "</p>\n"
      ],
      "text/plain": [
       "VBox(children=(Figure(axes=[Axis(scale=LinearScale()), Axis(orientation='vertical', scale=LinearScale())], fig_margin={'top': 60, 'bottom': 60, 'left': 60, 'right': 60}, layout=Layout(min_width='125px'), marks=[Lines(colors=['#1f77b4', '#ff7f0e', '#2ca02c', '#d62728', '#9467bd', '#8c564b', '#e377c2', '#7f7f7f', '#bcbd22', '#17becf'], display_legend=True, interactions={'hover': 'tooltip'}, labels=['One trajectory'], scales={'x': LinearScale(), 'y': LinearScale()}, scales_metadata={'x': {'orientation': 'horizontal', 'dimension': 'x'}, 'y': {'orientation': 'vertical', 'dimension': 'y'}, 'color': {'dimension': 'color'}}, tooltip_style={'opacity': 0.9}, x=array([  0,   1,   2,   3,   4,   5,   6,   7,   8,   9,  10,  11,  12,\n",
       "        13,  14,  15,  16,  17,  18,  19,  20,  21,  22,  23,  24,  25,\n",
       "        26,  27,  28,  29,  30,  31,  32,  33,  34,  35,  36,  37,  38,\n",
       "        39,  40,  41,  42,  43,  44,  45,  46,  47,  48,  49,  50,  51,\n",
       "        52,  53,  54,  55,  56,  57,  58,  59,  60,  61,  62,  63,  64,\n",
       "        65,  66,  67,  68,  69,  70,  71,  72,  73,  74,  75,  76,  77,\n",
       "        78,  79,  80,  81,  82,  83,  84,  85,  86,  87,  88,  89,  90,\n",
       "        91,  92,  93,  94,  95,  96,  97,  98,  99, 100]), y=array([ 450.,  443.,  436.,  429.,  506.,  499.,  492.,  485.,  478.,\n",
       "        471.,  464.,  457.,  450.,  443.,  436.,  429.,  532.,  525.,\n",
       "        518.,  511.,  504.,  497.,  490.,  483.,  476.,  469.,  462.,\n",
       "        455.,  448.,  441.,  434.,  427.,  432.,  425.,  430.,  467.,\n",
       "        460.,  453.,  446.,  439.,  432.,  441.,  434.,  427.,  516.,\n",
       "        509.,  502.,  495.,  488.,  481.,  474.,  467.,  460.,  453.,\n",
       "        446.,  439.,  432.,  425.,  526.,  519.,  512.,  505.,  498.,\n",
       "        491.,  484.,  477.,  470.,  463.,  456.,  449.,  442.,  435.,\n",
       "        428.,  545.,  538.,  531.,  524.,  517.,  510.,  503.,  496.,\n",
       "        489.,  482.,  475.,  468.,  461.,  454.,  447.,  440.,  433.,\n",
       "        426.,  475.,  468.,  461.,  454.,  447.,  440.,  529.,  522.,\n",
       "        515.,  508.])), Lines(colors=['red'], display_legend=True, interactions={'hover': 'tooltip'}, labels=['L_0'], scales={'x': LinearScale(), 'y': LinearScale()}, scales_metadata={'x': {'orientation': 'horizontal', 'dimension': 'x'}, 'y': {'orientation': 'vertical', 'dimension': 'y'}, 'color': {'dimension': 'color'}}, tooltip_style={'opacity': 0.9}, x=array([  1, 101]), y=array([430, 430]))], scale_x=LinearScale(allow_padding=False, max=1.0, min=0.0), scale_y=LinearScale(allow_padding=False, max=1.0, min=0.0), title='Example of trajectory'), Toolbar(figure=Figure(axes=[Axis(scale=LinearScale()), Axis(orientation='vertical', scale=LinearScale())], fig_margin={'top': 60, 'bottom': 60, 'left': 60, 'right': 60}, layout=Layout(min_width='125px'), marks=[Lines(colors=['#1f77b4', '#ff7f0e', '#2ca02c', '#d62728', '#9467bd', '#8c564b', '#e377c2', '#7f7f7f', '#bcbd22', '#17becf'], display_legend=True, interactions={'hover': 'tooltip'}, labels=['One trajectory'], scales={'x': LinearScale(), 'y': LinearScale()}, scales_metadata={'x': {'orientation': 'horizontal', 'dimension': 'x'}, 'y': {'orientation': 'vertical', 'dimension': 'y'}, 'color': {'dimension': 'color'}}, tooltip_style={'opacity': 0.9}, x=array([  0,   1,   2,   3,   4,   5,   6,   7,   8,   9,  10,  11,  12,\n",
       "        13,  14,  15,  16,  17,  18,  19,  20,  21,  22,  23,  24,  25,\n",
       "        26,  27,  28,  29,  30,  31,  32,  33,  34,  35,  36,  37,  38,\n",
       "        39,  40,  41,  42,  43,  44,  45,  46,  47,  48,  49,  50,  51,\n",
       "        52,  53,  54,  55,  56,  57,  58,  59,  60,  61,  62,  63,  64,\n",
       "        65,  66,  67,  68,  69,  70,  71,  72,  73,  74,  75,  76,  77,\n",
       "        78,  79,  80,  81,  82,  83,  84,  85,  86,  87,  88,  89,  90,\n",
       "        91,  92,  93,  94,  95,  96,  97,  98,  99, 100]), y=array([ 450.,  443.,  436.,  429.,  506.,  499.,  492.,  485.,  478.,\n",
       "        471.,  464.,  457.,  450.,  443.,  436.,  429.,  532.,  525.,\n",
       "        518.,  511.,  504.,  497.,  490.,  483.,  476.,  469.,  462.,\n",
       "        455.,  448.,  441.,  434.,  427.,  432.,  425.,  430.,  467.,\n",
       "        460.,  453.,  446.,  439.,  432.,  441.,  434.,  427.,  516.,\n",
       "        509.,  502.,  495.,  488.,  481.,  474.,  467.,  460.,  453.,\n",
       "        446.,  439.,  432.,  425.,  526.,  519.,  512.,  505.,  498.,\n",
       "        491.,  484.,  477.,  470.,  463.,  456.,  449.,  442.,  435.,\n",
       "        428.,  545.,  538.,  531.,  524.,  517.,  510.,  503.,  496.,\n",
       "        489.,  482.,  475.,  468.,  461.,  454.,  447.,  440.,  433.,\n",
       "        426.,  475.,  468.,  461.,  454.,  447.,  440.,  529.,  522.,\n",
       "        515.,  508.])), Lines(colors=['red'], display_legend=True, interactions={'hover': 'tooltip'}, labels=['L_0'], scales={'x': LinearScale(), 'y': LinearScale()}, scales_metadata={'x': {'orientation': 'horizontal', 'dimension': 'x'}, 'y': {'orientation': 'vertical', 'dimension': 'y'}, 'color': {'dimension': 'color'}}, tooltip_style={'opacity': 0.9}, x=array([  1, 101]), y=array([430, 430]))], scale_x=LinearScale(allow_padding=False, max=1.0, min=0.0), scale_y=LinearScale(allow_padding=False, max=1.0, min=0.0), title='Example of trajectory'))))"
      ]
     },
     "metadata": {},
     "output_type": "display_data"
    }
   ],
   "source": [
    "# an example of trajectory\n",
    "L = [450]\n",
    "n_ex = 100\n",
    "for k in range(n_ex):\n",
    "    L.append(evolution(L[-1], L_0, beta))\n",
    "plt.figure(2, title='Example of trajectory')\n",
    "plt.clear()\n",
    "plt.plot(range(n_ex+1), L, labels=['One trajectory'])\n",
    "plt.plot([1, n_ex+1], [L_0, L_0], colors=['red'], labels=['L_0'])\n",
    "plt.legend()\n",
    "plt.show()"
   ]
  },
  {
   "cell_type": "markdown",
   "metadata": {},
   "source": [
    "## Approximation of the distribution using simulation of the Markov chain"
   ]
  },
  {
   "cell_type": "markdown",
   "metadata": {},
   "source": [
    "Here we compute the distribution by a Monte Carlo method: that is simulating many independants draws of the Markov chain. It's a quite inefficient method, as the convergence is very slow. Still it's interesting to test it, and the approximate distribution found that way can be used as a starting point for the next method (see below)."
   ]
  },
  {
   "cell_type": "code",
   "execution_count": 6,
   "metadata": {},
   "outputs": [
    {
     "data": {
      "application/vnd.jupyter.widget-view+json": {
       "model_id": "20dcc54189344215b4bddcbf9cdaeba4",
       "version_major": 2,
       "version_minor": 0
      },
      "text/html": [
       "<p>Failed to display Jupyter Widget of type <code>VBox</code>.</p>\n",
       "<p>\n",
       "  If you're reading this message in the Jupyter Notebook or JupyterLab Notebook, it may mean\n",
       "  that the widgets JavaScript is still loading. If this message persists, it\n",
       "  likely means that the widgets JavaScript library is either not installed or\n",
       "  not enabled. See the <a href=\"https://ipywidgets.readthedocs.io/en/stable/user_install.html\">Jupyter\n",
       "  Widgets Documentation</a> for setup instructions.\n",
       "</p>\n",
       "<p>\n",
       "  If you're reading this message in another frontend (for example, a static\n",
       "  rendering on GitHub or <a href=\"https://nbviewer.jupyter.org/\">NBViewer</a>),\n",
       "  it may mean that your frontend doesn't currently support widgets.\n",
       "</p>\n"
      ],
      "text/plain": [
       "VBox(children=(Figure(axes=[Axis(orientation='vertical', scale=LinearScale()), Axis(scale=LinearScale())], fig_margin={'top': 60, 'bottom': 60, 'left': 60, 'right': 60}, layout=Layout(min_width='125px'), marks=[Hist(bins=86, colors=['#1f77b4', '#ff7f0e', '#2ca02c', '#d62728', '#9467bd', '#8c564b', '#e377c2', '#7f7f7f', '#bcbd22', '#17becf'], interactions={'hover': 'tooltip'}, sample=array([ 494.,  506.,  540., ...,  512.,  686.,  624.]), scales={'count': LinearScale(), 'sample': LinearScale()}, scales_metadata={'sample': {'orientation': 'horizontal', 'dimension': 'x'}, 'count': {'orientation': 'vertical', 'dimension': 'y'}}, tooltip_style={'opacity': 0.9})], scale_x=LinearScale(allow_padding=False, max=1.0, min=0.0), scale_y=LinearScale(allow_padding=False, max=1.0, min=0.0), title='Histogram of the distribution of the Markov chain'), Toolbar(figure=Figure(axes=[Axis(orientation='vertical', scale=LinearScale()), Axis(scale=LinearScale())], fig_margin={'top': 60, 'bottom': 60, 'left': 60, 'right': 60}, layout=Layout(min_width='125px'), marks=[Hist(bins=86, colors=['#1f77b4', '#ff7f0e', '#2ca02c', '#d62728', '#9467bd', '#8c564b', '#e377c2', '#7f7f7f', '#bcbd22', '#17becf'], interactions={'hover': 'tooltip'}, sample=array([ 494.,  506.,  540., ...,  512.,  686.,  624.]), scales={'count': LinearScale(), 'sample': LinearScale()}, scales_metadata={'sample': {'orientation': 'horizontal', 'dimension': 'x'}, 'count': {'orientation': 'vertical', 'dimension': 'y'}}, tooltip_style={'opacity': 0.9})], scale_x=LinearScale(allow_padding=False, max=1.0, min=0.0), scale_y=LinearScale(allow_padding=False, max=1.0, min=0.0), title='Histogram of the distribution of the Markov chain'))))"
      ]
     },
     "metadata": {},
     "output_type": "display_data"
    }
   ],
   "source": [
    "# computes histogram from many independant draws from the Markov chain\n",
    "L = 450\n",
    "L_realisation = []\n",
    "n_realisation = 10**4\n",
    "len_buffer = 500\n",
    "for i in range(n_realisation):\n",
    "    for k in range(len_buffer):\n",
    "        L = evolution(L, L_0, beta)\n",
    "    L_realisation.append(L)\n",
    "plt.figure(3, title='Histogram of the distribution of the Markov chain')\n",
    "plt.clear()\n",
    "plt.hist(L_realisation, bins=int(4*(n_realisation)**(1/3)), range=(0, max(L_realisation)))\n",
    "plt.show()"
   ]
  },
  {
   "cell_type": "code",
   "execution_count": 7,
   "metadata": {},
   "outputs": [
    {
     "data": {
      "application/vnd.jupyter.widget-view+json": {
       "model_id": "5648be7be3674d45b9343b6e7f535bc2",
       "version_major": 2,
       "version_minor": 0
      },
      "text/html": [
       "<p>Failed to display Jupyter Widget of type <code>VBox</code>.</p>\n",
       "<p>\n",
       "  If you're reading this message in the Jupyter Notebook or JupyterLab Notebook, it may mean\n",
       "  that the widgets JavaScript is still loading. If this message persists, it\n",
       "  likely means that the widgets JavaScript library is either not installed or\n",
       "  not enabled. See the <a href=\"https://ipywidgets.readthedocs.io/en/stable/user_install.html\">Jupyter\n",
       "  Widgets Documentation</a> for setup instructions.\n",
       "</p>\n",
       "<p>\n",
       "  If you're reading this message in another frontend (for example, a static\n",
       "  rendering on GitHub or <a href=\"https://nbviewer.jupyter.org/\">NBViewer</a>),\n",
       "  it may mean that your frontend doesn't currently support widgets.\n",
       "</p>\n"
      ],
      "text/plain": [
       "VBox(children=(Figure(axes=[Axis(scale=LinearScale()), Axis(orientation='vertical', scale=LinearScale())], fig_margin={'top': 60, 'bottom': 60, 'left': 60, 'right': 60}, layout=Layout(min_width='125px'), marks=[Lines(colors=['#1f77b4', '#ff7f0e', '#2ca02c', '#d62728', '#9467bd', '#8c564b', '#e377c2', '#7f7f7f', '#bcbd22', '#17becf'], interactions={'hover': 'tooltip'}, scales={'x': LinearScale(), 'y': LinearScale()}, scales_metadata={'x': {'orientation': 'horizontal', 'dimension': 'x'}, 'y': {'orientation': 'vertical', 'dimension': 'y'}, 'color': {'dimension': 'color'}}, tooltip_style={'opacity': 0.9}, x=array([    8.13953488,    24.41860465,    40.69767442,    56.97674419,\n",
       "          73.25581395,    89.53488372,   105.81395349,   122.09302326,\n",
       "         138.37209302,   154.65116279,   170.93023256,   187.20930233,\n",
       "         203.48837209,   219.76744186,   236.04651163,   252.3255814 ,\n",
       "         268.60465116,   284.88372093,   301.1627907 ,   317.44186047,\n",
       "         333.72093023,   350.        ,   366.27906977,   382.55813953,\n",
       "         398.8372093 ,   415.11627907,   431.39534884,   447.6744186 ,\n",
       "         463.95348837,   480.23255814,   496.51162791,   512.79069767,\n",
       "         529.06976744,   545.34883721,   561.62790698,   577.90697674,\n",
       "         594.18604651,   610.46511628,   626.74418605,   643.02325581,\n",
       "         659.30232558,   675.58139535,   691.86046512,   708.13953488,\n",
       "         724.41860465,   740.69767442,   756.97674419,   773.25581395,\n",
       "         789.53488372,   805.81395349,   822.09302326,   838.37209302,\n",
       "         854.65116279,   870.93023256,   887.20930233,   903.48837209,\n",
       "         919.76744186,   936.04651163,   952.3255814 ,   968.60465116,\n",
       "         984.88372093,  1001.1627907 ,  1017.44186047,  1033.72093023,\n",
       "        1050.        ,  1066.27906977,  1082.55813953,  1098.8372093 ,\n",
       "        1115.11627907,  1131.39534884,  1147.6744186 ,  1163.95348837,\n",
       "        1180.23255814,  1196.51162791,  1212.79069767,  1229.06976744,\n",
       "        1245.34883721,  1261.62790698,  1277.90697674,  1294.18604651,\n",
       "        1310.46511628,  1326.74418605,  1343.02325581,  1359.30232558,\n",
       "        1375.58139535,  1391.86046512]), y=array([  0.00000000e+00,   0.00000000e+00,   0.00000000e+00,\n",
       "         0.00000000e+00,   0.00000000e+00,   0.00000000e+00,\n",
       "         0.00000000e+00,   0.00000000e+00,   0.00000000e+00,\n",
       "         0.00000000e+00,   0.00000000e+00,   0.00000000e+00,\n",
       "         0.00000000e+00,   0.00000000e+00,   0.00000000e+00,\n",
       "         0.00000000e+00,   0.00000000e+00,   0.00000000e+00,\n",
       "         0.00000000e+00,   0.00000000e+00,   0.00000000e+00,\n",
       "         0.00000000e+00,   0.00000000e+00,   0.00000000e+00,\n",
       "         0.00000000e+00,   7.37142857e-05,   8.29900000e-03,\n",
       "         8.36657143e-03,   8.58157143e-03,   6.44385714e-03,\n",
       "         4.98185714e-03,   4.53957143e-03,   3.21885714e-03,\n",
       "         2.93628571e-03,   2.56771429e-03,   2.26671429e-03,\n",
       "         1.80600000e-03,   1.37600000e-03,   1.00128571e-03,\n",
       "         8.84571429e-04,   6.75714286e-04,   6.20428571e-04,\n",
       "         5.16000000e-04,   4.79142857e-04,   2.76428571e-04,\n",
       "         3.50142857e-04,   1.84285714e-04,   1.53571429e-04,\n",
       "         1.29000000e-04,   1.29000000e-04,   1.41285714e-04,\n",
       "         6.75714286e-05,   6.75714286e-05,   7.98571429e-05,\n",
       "         4.30000000e-05,   2.45714286e-05,   2.45714286e-05,\n",
       "         2.45714286e-05,   2.45714286e-05,   2.45714286e-05,\n",
       "         6.14285714e-06,   6.14285714e-06,   0.00000000e+00,\n",
       "         6.14285714e-06,   1.22857143e-05,   6.14285714e-06,\n",
       "         0.00000000e+00,   6.14285714e-06,   0.00000000e+00,\n",
       "         0.00000000e+00,   0.00000000e+00,   0.00000000e+00,\n",
       "         0.00000000e+00,   6.14285714e-06,   0.00000000e+00,\n",
       "         0.00000000e+00,   0.00000000e+00,   0.00000000e+00,\n",
       "         0.00000000e+00,   0.00000000e+00,   0.00000000e+00,\n",
       "         0.00000000e+00,   0.00000000e+00,   0.00000000e+00,\n",
       "         0.00000000e+00,   0.00000000e+00]))], scale_x=LinearScale(allow_padding=False, max=1.0, min=0.0), scale_y=LinearScale(allow_padding=False, max=1.0, min=0.0), title='Distribution computed from the histogram'), Toolbar(figure=Figure(axes=[Axis(scale=LinearScale()), Axis(orientation='vertical', scale=LinearScale())], fig_margin={'top': 60, 'bottom': 60, 'left': 60, 'right': 60}, layout=Layout(min_width='125px'), marks=[Lines(colors=['#1f77b4', '#ff7f0e', '#2ca02c', '#d62728', '#9467bd', '#8c564b', '#e377c2', '#7f7f7f', '#bcbd22', '#17becf'], interactions={'hover': 'tooltip'}, scales={'x': LinearScale(), 'y': LinearScale()}, scales_metadata={'x': {'orientation': 'horizontal', 'dimension': 'x'}, 'y': {'orientation': 'vertical', 'dimension': 'y'}, 'color': {'dimension': 'color'}}, tooltip_style={'opacity': 0.9}, x=array([    8.13953488,    24.41860465,    40.69767442,    56.97674419,\n",
       "          73.25581395,    89.53488372,   105.81395349,   122.09302326,\n",
       "         138.37209302,   154.65116279,   170.93023256,   187.20930233,\n",
       "         203.48837209,   219.76744186,   236.04651163,   252.3255814 ,\n",
       "         268.60465116,   284.88372093,   301.1627907 ,   317.44186047,\n",
       "         333.72093023,   350.        ,   366.27906977,   382.55813953,\n",
       "         398.8372093 ,   415.11627907,   431.39534884,   447.6744186 ,\n",
       "         463.95348837,   480.23255814,   496.51162791,   512.79069767,\n",
       "         529.06976744,   545.34883721,   561.62790698,   577.90697674,\n",
       "         594.18604651,   610.46511628,   626.74418605,   643.02325581,\n",
       "         659.30232558,   675.58139535,   691.86046512,   708.13953488,\n",
       "         724.41860465,   740.69767442,   756.97674419,   773.25581395,\n",
       "         789.53488372,   805.81395349,   822.09302326,   838.37209302,\n",
       "         854.65116279,   870.93023256,   887.20930233,   903.48837209,\n",
       "         919.76744186,   936.04651163,   952.3255814 ,   968.60465116,\n",
       "         984.88372093,  1001.1627907 ,  1017.44186047,  1033.72093023,\n",
       "        1050.        ,  1066.27906977,  1082.55813953,  1098.8372093 ,\n",
       "        1115.11627907,  1131.39534884,  1147.6744186 ,  1163.95348837,\n",
       "        1180.23255814,  1196.51162791,  1212.79069767,  1229.06976744,\n",
       "        1245.34883721,  1261.62790698,  1277.90697674,  1294.18604651,\n",
       "        1310.46511628,  1326.74418605,  1343.02325581,  1359.30232558,\n",
       "        1375.58139535,  1391.86046512]), y=array([  0.00000000e+00,   0.00000000e+00,   0.00000000e+00,\n",
       "         0.00000000e+00,   0.00000000e+00,   0.00000000e+00,\n",
       "         0.00000000e+00,   0.00000000e+00,   0.00000000e+00,\n",
       "         0.00000000e+00,   0.00000000e+00,   0.00000000e+00,\n",
       "         0.00000000e+00,   0.00000000e+00,   0.00000000e+00,\n",
       "         0.00000000e+00,   0.00000000e+00,   0.00000000e+00,\n",
       "         0.00000000e+00,   0.00000000e+00,   0.00000000e+00,\n",
       "         0.00000000e+00,   0.00000000e+00,   0.00000000e+00,\n",
       "         0.00000000e+00,   7.37142857e-05,   8.29900000e-03,\n",
       "         8.36657143e-03,   8.58157143e-03,   6.44385714e-03,\n",
       "         4.98185714e-03,   4.53957143e-03,   3.21885714e-03,\n",
       "         2.93628571e-03,   2.56771429e-03,   2.26671429e-03,\n",
       "         1.80600000e-03,   1.37600000e-03,   1.00128571e-03,\n",
       "         8.84571429e-04,   6.75714286e-04,   6.20428571e-04,\n",
       "         5.16000000e-04,   4.79142857e-04,   2.76428571e-04,\n",
       "         3.50142857e-04,   1.84285714e-04,   1.53571429e-04,\n",
       "         1.29000000e-04,   1.29000000e-04,   1.41285714e-04,\n",
       "         6.75714286e-05,   6.75714286e-05,   7.98571429e-05,\n",
       "         4.30000000e-05,   2.45714286e-05,   2.45714286e-05,\n",
       "         2.45714286e-05,   2.45714286e-05,   2.45714286e-05,\n",
       "         6.14285714e-06,   6.14285714e-06,   0.00000000e+00,\n",
       "         6.14285714e-06,   1.22857143e-05,   6.14285714e-06,\n",
       "         0.00000000e+00,   6.14285714e-06,   0.00000000e+00,\n",
       "         0.00000000e+00,   0.00000000e+00,   0.00000000e+00,\n",
       "         0.00000000e+00,   6.14285714e-06,   0.00000000e+00,\n",
       "         0.00000000e+00,   0.00000000e+00,   0.00000000e+00,\n",
       "         0.00000000e+00,   0.00000000e+00,   0.00000000e+00,\n",
       "         0.00000000e+00,   0.00000000e+00,   0.00000000e+00,\n",
       "         0.00000000e+00,   0.00000000e+00]))], scale_x=LinearScale(allow_padding=False, max=1.0, min=0.0), scale_y=LinearScale(allow_padding=False, max=1.0, min=0.0), title='Distribution computed from the histogram'))))"
      ]
     },
     "metadata": {},
     "output_type": "display_data"
    }
   ],
   "source": [
    "# compute a curve from the histogram\n",
    "plt.figure(4, title='Distribution computed from the histogram')\n",
    "plt.clear()\n",
    "hist, bin_edges = np.histogram(L_realisation, bins=int(4*(n_realisation)**(1/3)), range=(0., 1400.), density=True)\n",
    "plt.plot([0.5*(bin_edges[i]+bin_edges[i+1]) for i in range(len(bin_edges)-1)], hist)\n",
    "plt.show()"
   ]
  },
  {
   "cell_type": "code",
   "execution_count": 8,
   "metadata": {},
   "outputs": [
    {
     "name": "stdout",
     "output_type": "stream",
     "text": [
      "Skewness:1.8553971153463187\n",
      "Mode:[ 439.53488372  455.81395349]\n"
     ]
    }
   ],
   "source": [
    "# Empirical computation of the mode and the skewness\n",
    "print('Skewness:' + str(scs.skew(L_realisation)))\n",
    "print('Mode:' + str(bin_edges[np.argmax(hist)-1: np.argmax(hist)+1]))"
   ]
  },
  {
   "cell_type": "markdown",
   "metadata": {},
   "source": [
    "## Iterative computation of the distribution"
   ]
  },
  {
   "cell_type": "markdown",
   "metadata": {},
   "source": [
    "We use the following formula to compute iteratively the distribution, where $\\Pi_n$ designate the value of the distribution at the $n$-th iteration. At equal computation cost, this method yields more precise results than the previous one. We test two different initializations: piecewise constant, and initialization from the approximate distribution found above (warm start). In the latter case, the convergence is quicker (40 iterations are enough for convergence). It's logical since we start closer to the true stationary distribution."
   ]
  },
  {
   "cell_type": "markdown",
   "metadata": {},
   "source": [
    "$$\\Pi_{n+1}(i)= \\Pi_{n}(i+3.5)(1-P_{n}(i+3.5))+ \\sum_{k=1}^{i+3.5}p (1-p)^{k-1}P_{n}(i+3.5-k) \\Pi_{n}(i+3.5-k)$$"
   ]
  },
  {
   "cell_type": "code",
   "execution_count": 9,
   "metadata": {
    "collapsed": true
   },
   "outputs": [],
   "source": [
    "# useful for quick computation\n",
    "def precompute_arrays(L_0, beta):\n",
    "    geom = np.array([p*(1-p)**k for k in range(n)])\n",
    "    probas = np.array([P(k, L_0, beta) for k in range(n)])\n",
    "    return geom, probas"
   ]
  },
  {
   "cell_type": "code",
   "execution_count": 10,
   "metadata": {
    "collapsed": true
   },
   "outputs": [],
   "source": [
    "# one iteration from the distribution computation\n",
    "def iter_distr(pi, L_0, beta, geom, probas):\n",
    "    new_pi = np.array([0.]*len(pi))\n",
    "    for i in range(len(pi)-7):\n",
    "        pi_i = pi[i+7]*(1-P(i+7, L_0, beta)) + np.sum(geom[:int(i/2.+3.5)]*probas[i+5::-2]*pi[i+5::-2])\n",
    "        new_pi[i] = pi_i\n",
    "    for i in range(len(pi)-7, len(pi)):\n",
    "        new_pi[i] = 0.\n",
    "    return new_pi"
   ]
  },
  {
   "cell_type": "code",
   "execution_count": 11,
   "metadata": {
    "collapsed": true
   },
   "outputs": [],
   "source": [
    "# Many iterations for the distribution computation + graph plot + skewness and mode computation\n",
    "def evol_distr(n_iter, pi, L_0, beta, verbose=True):\n",
    "    geom, probas = precompute_arrays(L_0, beta)\n",
    "    pi2 = np.copy(pi)\n",
    "    for k in range(n_iter):\n",
    "        pi2 = iter_distr(pi2, L_0, beta, geom, probas)\n",
    "        pi2 = pi2 / np.sum(pi2)\n",
    "    \n",
    "    r = np.array(range(n))/2\n",
    "    if verbose:\n",
    "        plt.figure()\n",
    "        plt.plot(r, pi2)\n",
    "        plt.show()\n",
    "    mode = r[np.argmax(pi2)]\n",
    "    mean = np.sum(r*pi2)\n",
    "    std = np.sqrt(np.sum(r**2*pi2)-mean**2)\n",
    "    skewness = np.sum(((r-mean)/std)**3*pi2)\n",
    "    \n",
    "    if verbose:\n",
    "        print('Mode: ' + str(mode))\n",
    "        print('Skewness: ' + str(skewness))\n",
    "    return pi2, mode, skewness"
   ]
  },
  {
   "cell_type": "markdown",
   "metadata": {},
   "source": [
    "### Using a piecewise constant function as an initialization"
   ]
  },
  {
   "cell_type": "code",
   "execution_count": 22,
   "metadata": {},
   "outputs": [
    {
     "data": {
      "application/vnd.jupyter.widget-view+json": {
       "model_id": "2a91aab21a234e008af3698f7abfff32",
       "version_major": 2,
       "version_minor": 0
      },
      "text/html": [
       "<p>Failed to display Jupyter Widget of type <code>VBox</code>.</p>\n",
       "<p>\n",
       "  If you're reading this message in the Jupyter Notebook or JupyterLab Notebook, it may mean\n",
       "  that the widgets JavaScript is still loading. If this message persists, it\n",
       "  likely means that the widgets JavaScript library is either not installed or\n",
       "  not enabled. See the <a href=\"https://ipywidgets.readthedocs.io/en/stable/user_install.html\">Jupyter\n",
       "  Widgets Documentation</a> for setup instructions.\n",
       "</p>\n",
       "<p>\n",
       "  If you're reading this message in another frontend (for example, a static\n",
       "  rendering on GitHub or <a href=\"https://nbviewer.jupyter.org/\">NBViewer</a>),\n",
       "  it may mean that your frontend doesn't currently support widgets.\n",
       "</p>\n"
      ],
      "text/plain": [
       "VBox(children=(Figure(axes=[Axis(scale=LinearScale()), Axis(orientation='vertical', scale=LinearScale())], fig_margin={'top': 60, 'bottom': 60, 'left': 60, 'right': 60}, layout=Layout(min_width='125px'), marks=[Lines(colors=['#1f77b4', '#ff7f0e', '#2ca02c', '#d62728', '#9467bd', '#8c564b', '#e377c2', '#7f7f7f', '#bcbd22', '#17becf'], interactions={'hover': 'tooltip'}, scales={'x': LinearScale(), 'y': LinearScale()}, scales_metadata={'x': {'orientation': 'horizontal', 'dimension': 'x'}, 'y': {'orientation': 'vertical', 'dimension': 'y'}, 'color': {'dimension': 'color'}}, tooltip_style={'opacity': 0.9}, x=array([   0,    1,    2, ..., 1697, 1698, 1699]), y=array([ 0.,  0.,  0., ...,  0.,  0.,  0.]))], scale_x=LinearScale(allow_padding=False, max=1.0, min=0.0), scale_y=LinearScale(allow_padding=False, max=1.0, min=0.0), title='Initialization of the distribution: piecewise constant'), Toolbar(figure=Figure(axes=[Axis(scale=LinearScale()), Axis(orientation='vertical', scale=LinearScale())], fig_margin={'top': 60, 'bottom': 60, 'left': 60, 'right': 60}, layout=Layout(min_width='125px'), marks=[Lines(colors=['#1f77b4', '#ff7f0e', '#2ca02c', '#d62728', '#9467bd', '#8c564b', '#e377c2', '#7f7f7f', '#bcbd22', '#17becf'], interactions={'hover': 'tooltip'}, scales={'x': LinearScale(), 'y': LinearScale()}, scales_metadata={'x': {'orientation': 'horizontal', 'dimension': 'x'}, 'y': {'orientation': 'vertical', 'dimension': 'y'}, 'color': {'dimension': 'color'}}, tooltip_style={'opacity': 0.9}, x=array([   0,    1,    2, ..., 1697, 1698, 1699]), y=array([ 0.,  0.,  0., ...,  0.,  0.,  0.]))], scale_x=LinearScale(allow_padding=False, max=1.0, min=0.0), scale_y=LinearScale(allow_padding=False, max=1.0, min=0.0), title='Initialization of the distribution: piecewise constant'))))"
      ]
     },
     "metadata": {},
     "output_type": "display_data"
    }
   ],
   "source": [
    "pi = np.array([0.]*n)\n",
    "for k in range(L_0, 2*L_0):\n",
    "    pi[k] = 1./L_0\n",
    "plt.figure(title='Initialization of the distribution: piecewise constant')\n",
    "plt.plot(range(n), pi)\n",
    "plt.show()"
   ]
  },
  {
   "cell_type": "code",
   "execution_count": 23,
   "metadata": {},
   "outputs": [
    {
     "data": {
      "application/vnd.jupyter.widget-view+json": {
       "model_id": "060daed458414aa1b1fe5cb6bc4628db",
       "version_major": 2,
       "version_minor": 0
      },
      "text/html": [
       "<p>Failed to display Jupyter Widget of type <code>VBox</code>.</p>\n",
       "<p>\n",
       "  If you're reading this message in the Jupyter Notebook or JupyterLab Notebook, it may mean\n",
       "  that the widgets JavaScript is still loading. If this message persists, it\n",
       "  likely means that the widgets JavaScript library is either not installed or\n",
       "  not enabled. See the <a href=\"https://ipywidgets.readthedocs.io/en/stable/user_install.html\">Jupyter\n",
       "  Widgets Documentation</a> for setup instructions.\n",
       "</p>\n",
       "<p>\n",
       "  If you're reading this message in another frontend (for example, a static\n",
       "  rendering on GitHub or <a href=\"https://nbviewer.jupyter.org/\">NBViewer</a>),\n",
       "  it may mean that your frontend doesn't currently support widgets.\n",
       "</p>\n"
      ],
      "text/plain": [
       "VBox(children=(Figure(axes=[Axis(scale=LinearScale()), Axis(orientation='vertical', scale=LinearScale())], fig_margin={'top': 60, 'bottom': 60, 'left': 60, 'right': 60}, layout=Layout(min_width='125px'), marks=[Lines(colors=['#1f77b4', '#ff7f0e', '#2ca02c', '#d62728', '#9467bd', '#8c564b', '#e377c2', '#7f7f7f', '#bcbd22', '#17becf'], interactions={'hover': 'tooltip'}, scales={'x': LinearScale(), 'y': LinearScale()}, scales_metadata={'x': {'orientation': 'horizontal', 'dimension': 'x'}, 'y': {'orientation': 'vertical', 'dimension': 'y'}, 'color': {'dimension': 'color'}}, tooltip_style={'opacity': 0.9}, x=array([  0.00000000e+00,   5.00000000e-01,   1.00000000e+00, ...,\n",
       "         8.48500000e+02,   8.49000000e+02,   8.49500000e+02]), y=array([ 0.,  0.,  0., ...,  0.,  0.,  0.]))], scale_x=LinearScale(allow_padding=False, max=1.0, min=0.0), scale_y=LinearScale(allow_padding=False, max=1.0, min=0.0)), Toolbar(figure=Figure(axes=[Axis(scale=LinearScale()), Axis(orientation='vertical', scale=LinearScale())], fig_margin={'top': 60, 'bottom': 60, 'left': 60, 'right': 60}, layout=Layout(min_width='125px'), marks=[Lines(colors=['#1f77b4', '#ff7f0e', '#2ca02c', '#d62728', '#9467bd', '#8c564b', '#e377c2', '#7f7f7f', '#bcbd22', '#17becf'], interactions={'hover': 'tooltip'}, scales={'x': LinearScale(), 'y': LinearScale()}, scales_metadata={'x': {'orientation': 'horizontal', 'dimension': 'x'}, 'y': {'orientation': 'vertical', 'dimension': 'y'}, 'color': {'dimension': 'color'}}, tooltip_style={'opacity': 0.9}, x=array([  0.00000000e+00,   5.00000000e-01,   1.00000000e+00, ...,\n",
       "         8.48500000e+02,   8.49000000e+02,   8.49500000e+02]), y=array([ 0.,  0.,  0., ...,  0.,  0.,  0.]))], scale_x=LinearScale(allow_padding=False, max=1.0, min=0.0), scale_y=LinearScale(allow_padding=False, max=1.0, min=0.0)))))"
      ]
     },
     "metadata": {},
     "output_type": "display_data"
    },
    {
     "name": "stdout",
     "output_type": "stream",
     "text": [
      "Mode: 219.5\n",
      "Skewness: 1.82959136316\n"
     ]
    }
   ],
   "source": [
    "n_iter = 40\n",
    "print('After 40 iterations:')\n",
    "pi_final, m, s = evol_distr(n_iter, pi, L_0, beta)"
   ]
  },
  {
   "cell_type": "code",
   "execution_count": 24,
   "metadata": {},
   "outputs": [
    {
     "data": {
      "application/vnd.jupyter.widget-view+json": {
       "model_id": "0484223e6f6c4f258eefbf857c3aa2d9",
       "version_major": 2,
       "version_minor": 0
      },
      "text/html": [
       "<p>Failed to display Jupyter Widget of type <code>VBox</code>.</p>\n",
       "<p>\n",
       "  If you're reading this message in the Jupyter Notebook or JupyterLab Notebook, it may mean\n",
       "  that the widgets JavaScript is still loading. If this message persists, it\n",
       "  likely means that the widgets JavaScript library is either not installed or\n",
       "  not enabled. See the <a href=\"https://ipywidgets.readthedocs.io/en/stable/user_install.html\">Jupyter\n",
       "  Widgets Documentation</a> for setup instructions.\n",
       "</p>\n",
       "<p>\n",
       "  If you're reading this message in another frontend (for example, a static\n",
       "  rendering on GitHub or <a href=\"https://nbviewer.jupyter.org/\">NBViewer</a>),\n",
       "  it may mean that your frontend doesn't currently support widgets.\n",
       "</p>\n"
      ],
      "text/plain": [
       "VBox(children=(Figure(axes=[Axis(scale=LinearScale()), Axis(orientation='vertical', scale=LinearScale())], fig_margin={'top': 60, 'bottom': 60, 'left': 60, 'right': 60}, layout=Layout(min_width='125px'), marks=[Lines(colors=['#1f77b4', '#ff7f0e', '#2ca02c', '#d62728', '#9467bd', '#8c564b', '#e377c2', '#7f7f7f', '#bcbd22', '#17becf'], interactions={'hover': 'tooltip'}, scales={'x': LinearScale(), 'y': LinearScale()}, scales_metadata={'x': {'orientation': 'horizontal', 'dimension': 'x'}, 'y': {'orientation': 'vertical', 'dimension': 'y'}, 'color': {'dimension': 'color'}}, tooltip_style={'opacity': 0.9}, x=array([  0.00000000e+00,   5.00000000e-01,   1.00000000e+00, ...,\n",
       "         8.48500000e+02,   8.49000000e+02,   8.49500000e+02]), y=array([  6.49346942e-127,   1.28625825e-126,   2.51821692e-126, ...,\n",
       "         0.00000000e+000,   0.00000000e+000,   0.00000000e+000]))], scale_x=LinearScale(allow_padding=False, max=1.0, min=0.0), scale_y=LinearScale(allow_padding=False, max=1.0, min=0.0)), Toolbar(figure=Figure(axes=[Axis(scale=LinearScale()), Axis(orientation='vertical', scale=LinearScale())], fig_margin={'top': 60, 'bottom': 60, 'left': 60, 'right': 60}, layout=Layout(min_width='125px'), marks=[Lines(colors=['#1f77b4', '#ff7f0e', '#2ca02c', '#d62728', '#9467bd', '#8c564b', '#e377c2', '#7f7f7f', '#bcbd22', '#17becf'], interactions={'hover': 'tooltip'}, scales={'x': LinearScale(), 'y': LinearScale()}, scales_metadata={'x': {'orientation': 'horizontal', 'dimension': 'x'}, 'y': {'orientation': 'vertical', 'dimension': 'y'}, 'color': {'dimension': 'color'}}, tooltip_style={'opacity': 0.9}, x=array([  0.00000000e+00,   5.00000000e-01,   1.00000000e+00, ...,\n",
       "         8.48500000e+02,   8.49000000e+02,   8.49500000e+02]), y=array([  6.49346942e-127,   1.28625825e-126,   2.51821692e-126, ...,\n",
       "         0.00000000e+000,   0.00000000e+000,   0.00000000e+000]))], scale_x=LinearScale(allow_padding=False, max=1.0, min=0.0), scale_y=LinearScale(allow_padding=False, max=1.0, min=0.0)))))"
      ]
     },
     "metadata": {},
     "output_type": "display_data"
    },
    {
     "name": "stdout",
     "output_type": "stream",
     "text": [
      "Mode: 218.5\n",
      "Skewness: 1.86825163703\n"
     ]
    }
   ],
   "source": [
    "n_iter = 200\n",
    "print('After 200 iterations:')\n",
    "pi_final, m, s = evol_distr(n_iter, pi, L_0, beta)"
   ]
  },
  {
   "cell_type": "markdown",
   "metadata": {},
   "source": [
    "### Using the empirical distribution as an initialization"
   ]
  },
  {
   "cell_type": "code",
   "execution_count": 26,
   "metadata": {},
   "outputs": [
    {
     "data": {
      "application/vnd.jupyter.widget-view+json": {
       "model_id": "9723ce0a93d64793ba7ac039ecfbf058",
       "version_major": 2,
       "version_minor": 0
      },
      "text/html": [
       "<p>Failed to display Jupyter Widget of type <code>VBox</code>.</p>\n",
       "<p>\n",
       "  If you're reading this message in the Jupyter Notebook or JupyterLab Notebook, it may mean\n",
       "  that the widgets JavaScript is still loading. If this message persists, it\n",
       "  likely means that the widgets JavaScript library is either not installed or\n",
       "  not enabled. See the <a href=\"https://ipywidgets.readthedocs.io/en/stable/user_install.html\">Jupyter\n",
       "  Widgets Documentation</a> for setup instructions.\n",
       "</p>\n",
       "<p>\n",
       "  If you're reading this message in another frontend (for example, a static\n",
       "  rendering on GitHub or <a href=\"https://nbviewer.jupyter.org/\">NBViewer</a>),\n",
       "  it may mean that your frontend doesn't currently support widgets.\n",
       "</p>\n"
      ],
      "text/plain": [
       "VBox(children=(Figure(axes=[Axis(scale=LinearScale()), Axis(orientation='vertical', scale=LinearScale())], fig_margin={'top': 60, 'bottom': 60, 'left': 60, 'right': 60}, layout=Layout(min_width='125px'), marks=[Lines(colors=['#1f77b4', '#ff7f0e', '#2ca02c', '#d62728', '#9467bd', '#8c564b', '#e377c2', '#7f7f7f', '#bcbd22', '#17becf'], interactions={'hover': 'tooltip'}, scales={'x': LinearScale(), 'y': LinearScale()}, scales_metadata={'x': {'orientation': 'horizontal', 'dimension': 'x'}, 'y': {'orientation': 'vertical', 'dimension': 'y'}, 'color': {'dimension': 'color'}}, tooltip_style={'opacity': 0.9}, x=array([   0,    1,    2, ..., 1697, 1698, 1699]), y=array([ 0.,  0.,  0., ...,  0.,  0.,  0.]))], scale_x=LinearScale(allow_padding=False, max=1.0, min=0.0), scale_y=LinearScale(allow_padding=False, max=1.0, min=0.0), title='Initialization of the distribution: empirical distribution'), Toolbar(figure=Figure(axes=[Axis(scale=LinearScale()), Axis(orientation='vertical', scale=LinearScale())], fig_margin={'top': 60, 'bottom': 60, 'left': 60, 'right': 60}, layout=Layout(min_width='125px'), marks=[Lines(colors=['#1f77b4', '#ff7f0e', '#2ca02c', '#d62728', '#9467bd', '#8c564b', '#e377c2', '#7f7f7f', '#bcbd22', '#17becf'], interactions={'hover': 'tooltip'}, scales={'x': LinearScale(), 'y': LinearScale()}, scales_metadata={'x': {'orientation': 'horizontal', 'dimension': 'x'}, 'y': {'orientation': 'vertical', 'dimension': 'y'}, 'color': {'dimension': 'color'}}, tooltip_style={'opacity': 0.9}, x=array([   0,    1,    2, ..., 1697, 1698, 1699]), y=array([ 0.,  0.,  0., ...,  0.,  0.,  0.]))], scale_x=LinearScale(allow_padding=False, max=1.0, min=0.0), scale_y=LinearScale(allow_padding=False, max=1.0, min=0.0), title='Initialization of the distribution: empirical distribution'))))"
      ]
     },
     "metadata": {},
     "output_type": "display_data"
    }
   ],
   "source": [
    "pi = np.array([0.]*n)\n",
    "for k in range(n):\n",
    "    i = 0\n",
    "    while i<len(bin_edges)-1 and bin_edges[i] < k:\n",
    "        i += 1\n",
    "    pi[k] = hist[i-1]\n",
    "# Renormalize to take into account small errors\n",
    "s = np.sum(pi)\n",
    "for k in range(n):\n",
    "    pi[k] = pi[k]/s\n",
    "plt.figure(title='Initialization of the distribution: empirical distribution')\n",
    "plt.plot(range(n), pi)\n",
    "plt.show()"
   ]
  },
  {
   "cell_type": "code",
   "execution_count": 27,
   "metadata": {
    "scrolled": false
   },
   "outputs": [
    {
     "data": {
      "application/vnd.jupyter.widget-view+json": {
       "model_id": "c89934952a6c4e9cb1decdccf8861619",
       "version_major": 2,
       "version_minor": 0
      },
      "text/html": [
       "<p>Failed to display Jupyter Widget of type <code>VBox</code>.</p>\n",
       "<p>\n",
       "  If you're reading this message in the Jupyter Notebook or JupyterLab Notebook, it may mean\n",
       "  that the widgets JavaScript is still loading. If this message persists, it\n",
       "  likely means that the widgets JavaScript library is either not installed or\n",
       "  not enabled. See the <a href=\"https://ipywidgets.readthedocs.io/en/stable/user_install.html\">Jupyter\n",
       "  Widgets Documentation</a> for setup instructions.\n",
       "</p>\n",
       "<p>\n",
       "  If you're reading this message in another frontend (for example, a static\n",
       "  rendering on GitHub or <a href=\"https://nbviewer.jupyter.org/\">NBViewer</a>),\n",
       "  it may mean that your frontend doesn't currently support widgets.\n",
       "</p>\n"
      ],
      "text/plain": [
       "VBox(children=(Figure(axes=[Axis(scale=LinearScale()), Axis(orientation='vertical', scale=LinearScale())], fig_margin={'top': 60, 'bottom': 60, 'left': 60, 'right': 60}, layout=Layout(min_width='125px'), marks=[Lines(colors=['#1f77b4', '#ff7f0e', '#2ca02c', '#d62728', '#9467bd', '#8c564b', '#e377c2', '#7f7f7f', '#bcbd22', '#17becf'], interactions={'hover': 'tooltip'}, scales={'x': LinearScale(), 'y': LinearScale()}, scales_metadata={'x': {'orientation': 'horizontal', 'dimension': 'x'}, 'y': {'orientation': 'vertical', 'dimension': 'y'}, 'color': {'dimension': 'color'}}, tooltip_style={'opacity': 0.9}, x=array([  0.00000000e+00,   5.00000000e-01,   1.00000000e+00, ...,\n",
       "         8.48500000e+02,   8.49000000e+02,   8.49500000e+02]), y=array([ 0.,  0.,  0., ...,  0.,  0.,  0.]))], scale_x=LinearScale(allow_padding=False, max=1.0, min=0.0), scale_y=LinearScale(allow_padding=False, max=1.0, min=0.0)), Toolbar(figure=Figure(axes=[Axis(scale=LinearScale()), Axis(orientation='vertical', scale=LinearScale())], fig_margin={'top': 60, 'bottom': 60, 'left': 60, 'right': 60}, layout=Layout(min_width='125px'), marks=[Lines(colors=['#1f77b4', '#ff7f0e', '#2ca02c', '#d62728', '#9467bd', '#8c564b', '#e377c2', '#7f7f7f', '#bcbd22', '#17becf'], interactions={'hover': 'tooltip'}, scales={'x': LinearScale(), 'y': LinearScale()}, scales_metadata={'x': {'orientation': 'horizontal', 'dimension': 'x'}, 'y': {'orientation': 'vertical', 'dimension': 'y'}, 'color': {'dimension': 'color'}}, tooltip_style={'opacity': 0.9}, x=array([  0.00000000e+00,   5.00000000e-01,   1.00000000e+00, ...,\n",
       "         8.48500000e+02,   8.49000000e+02,   8.49500000e+02]), y=array([ 0.,  0.,  0., ...,  0.,  0.,  0.]))], scale_x=LinearScale(allow_padding=False, max=1.0, min=0.0), scale_y=LinearScale(allow_padding=False, max=1.0, min=0.0)))))"
      ]
     },
     "metadata": {},
     "output_type": "display_data"
    },
    {
     "name": "stdout",
     "output_type": "stream",
     "text": [
      "Mode: 218.0\n",
      "Skewness: 1.87223966963\n"
     ]
    }
   ],
   "source": [
    "n_iter = 40\n",
    "print('After 40 iterations:')\n",
    "pi_final, m, s = evol_distr(n_iter, pi, L_0, beta)"
   ]
  },
  {
   "cell_type": "code",
   "execution_count": 28,
   "metadata": {},
   "outputs": [
    {
     "data": {
      "application/vnd.jupyter.widget-view+json": {
       "model_id": "15717823a9e3401db0c024c19c287544",
       "version_major": 2,
       "version_minor": 0
      },
      "text/html": [
       "<p>Failed to display Jupyter Widget of type <code>VBox</code>.</p>\n",
       "<p>\n",
       "  If you're reading this message in the Jupyter Notebook or JupyterLab Notebook, it may mean\n",
       "  that the widgets JavaScript is still loading. If this message persists, it\n",
       "  likely means that the widgets JavaScript library is either not installed or\n",
       "  not enabled. See the <a href=\"https://ipywidgets.readthedocs.io/en/stable/user_install.html\">Jupyter\n",
       "  Widgets Documentation</a> for setup instructions.\n",
       "</p>\n",
       "<p>\n",
       "  If you're reading this message in another frontend (for example, a static\n",
       "  rendering on GitHub or <a href=\"https://nbviewer.jupyter.org/\">NBViewer</a>),\n",
       "  it may mean that your frontend doesn't currently support widgets.\n",
       "</p>\n"
      ],
      "text/plain": [
       "VBox(children=(Figure(axes=[Axis(scale=LinearScale()), Axis(orientation='vertical', scale=LinearScale())], fig_margin={'top': 60, 'bottom': 60, 'left': 60, 'right': 60}, layout=Layout(min_width='125px'), marks=[Lines(colors=['#1f77b4', '#ff7f0e', '#2ca02c', '#d62728', '#9467bd', '#8c564b', '#e377c2', '#7f7f7f', '#bcbd22', '#17becf'], interactions={'hover': 'tooltip'}, scales={'x': LinearScale(), 'y': LinearScale()}, scales_metadata={'x': {'orientation': 'horizontal', 'dimension': 'x'}, 'y': {'orientation': 'vertical', 'dimension': 'y'}, 'color': {'dimension': 'color'}}, tooltip_style={'opacity': 0.9}, x=array([  0.00000000e+00,   5.00000000e-01,   1.00000000e+00, ...,\n",
       "         8.48500000e+02,   8.49000000e+02,   8.49500000e+02]), y=array([  6.53570568e-127,   1.27770364e-126,   2.53460286e-126, ...,\n",
       "         0.00000000e+000,   0.00000000e+000,   0.00000000e+000]))], scale_x=LinearScale(allow_padding=False, max=1.0, min=0.0), scale_y=LinearScale(allow_padding=False, max=1.0, min=0.0)), Toolbar(figure=Figure(axes=[Axis(scale=LinearScale()), Axis(orientation='vertical', scale=LinearScale())], fig_margin={'top': 60, 'bottom': 60, 'left': 60, 'right': 60}, layout=Layout(min_width='125px'), marks=[Lines(colors=['#1f77b4', '#ff7f0e', '#2ca02c', '#d62728', '#9467bd', '#8c564b', '#e377c2', '#7f7f7f', '#bcbd22', '#17becf'], interactions={'hover': 'tooltip'}, scales={'x': LinearScale(), 'y': LinearScale()}, scales_metadata={'x': {'orientation': 'horizontal', 'dimension': 'x'}, 'y': {'orientation': 'vertical', 'dimension': 'y'}, 'color': {'dimension': 'color'}}, tooltip_style={'opacity': 0.9}, x=array([  0.00000000e+00,   5.00000000e-01,   1.00000000e+00, ...,\n",
       "         8.48500000e+02,   8.49000000e+02,   8.49500000e+02]), y=array([  6.53570568e-127,   1.27770364e-126,   2.53460286e-126, ...,\n",
       "         0.00000000e+000,   0.00000000e+000,   0.00000000e+000]))], scale_x=LinearScale(allow_padding=False, max=1.0, min=0.0), scale_y=LinearScale(allow_padding=False, max=1.0, min=0.0)))))"
      ]
     },
     "metadata": {},
     "output_type": "display_data"
    },
    {
     "name": "stdout",
     "output_type": "stream",
     "text": [
      "Mode: 218.0\n",
      "Skewness: 1.86824701755\n"
     ]
    }
   ],
   "source": [
    "n_iter = 200\n",
    "print('After 200 iterations:')\n",
    "pi_final, m, s = evol_distr(n_iter, pi, L_0, beta)"
   ]
  },
  {
   "cell_type": "markdown",
   "metadata": {
    "collapsed": true
   },
   "source": [
    "## Determination of $\\beta$ and $L_0$"
   ]
  },
  {
   "cell_type": "markdown",
   "metadata": {},
   "source": [
    "We provide a graphical user interface to study the influence of $\\beta$ and $L_0$ on the statistical parameters of the distribution (mode and skewness). The following values of $\\beta$ and $L_0$ seem to fit best the parameters given at the beginning:\n",
    "\n",
    "+ $beta = 0.0236$\n",
    "+ $L_0 = 101$\n",
    "\n",
    "When the user changes the value of $beta$ or $L_0$, the stationnary distribution is recomputed starting from the previous distribution (hot restart). The `n_iter` slider controls the number of iterations on the distribution done at each update of the parameters. You may consider increasing it for instance if the distribution has not yet converged at the end of the computation.\n",
    "\n",
    "The first computation is longer (800 iterations) to ensure we start from a correct stationnary distribution."
   ]
  },
  {
   "cell_type": "markdown",
   "metadata": {},
   "source": [
    "*Remark* : the value of $beta$ and $L_0$ are close to the one found in [2] (they find $beta = 0.045$ and $L_0 = 90$, but we renormalized our Markov chain to take integer values instead of half-integers, which explains why we find a $beta$ approximately twice smaller)."
   ]
  },
  {
   "cell_type": "code",
   "execution_count": 31,
   "metadata": {},
   "outputs": [
    {
     "data": {
      "application/vnd.jupyter.widget-view+json": {
       "model_id": "5ae0a4c714d6456c85708834f7512526",
       "version_major": 2,
       "version_minor": 0
      },
      "text/html": [
       "<p>Failed to display Jupyter Widget of type <code>HBox</code>.</p>\n",
       "<p>\n",
       "  If you're reading this message in the Jupyter Notebook or JupyterLab Notebook, it may mean\n",
       "  that the widgets JavaScript is still loading. If this message persists, it\n",
       "  likely means that the widgets JavaScript library is either not installed or\n",
       "  not enabled. See the <a href=\"https://ipywidgets.readthedocs.io/en/stable/user_install.html\">Jupyter\n",
       "  Widgets Documentation</a> for setup instructions.\n",
       "</p>\n",
       "<p>\n",
       "  If you're reading this message in another frontend (for example, a static\n",
       "  rendering on GitHub or <a href=\"https://nbviewer.jupyter.org/\">NBViewer</a>),\n",
       "  it may mean that your frontend doesn't currently support widgets.\n",
       "</p>\n"
      ],
      "text/plain": [
       "HBox(children=(VBox(children=(FloatSlider(value=0.0236, continuous_update=False, description='beta:', max=0.03, min=0.02, readout_format='.4f', step=0.0001), IntSlider(value=101, continuous_update=False, description='L_0:', max=150, min=80), IntSlider(value=300, continuous_update=False, description='n_iter:', max=1500, min=100, step=50))), VBox(children=(IntProgress(value=0, bar_style='success', description='Progress:', max=300), Text(value='0.0', description='Mode:', placeholder='Type something'), Text(value='0.0', description='Skewness:', placeholder='Type something')))))"
      ]
     },
     "metadata": {},
     "output_type": "display_data"
    },
    {
     "data": {
      "application/vnd.jupyter.widget-view+json": {
       "model_id": "e1599a4316c84f0c809a20c44e414aeb",
       "version_major": 2,
       "version_minor": 0
      },
      "text/html": [
       "<p>Failed to display Jupyter Widget of type <code>VBox</code>.</p>\n",
       "<p>\n",
       "  If you're reading this message in the Jupyter Notebook or JupyterLab Notebook, it may mean\n",
       "  that the widgets JavaScript is still loading. If this message persists, it\n",
       "  likely means that the widgets JavaScript library is either not installed or\n",
       "  not enabled. See the <a href=\"https://ipywidgets.readthedocs.io/en/stable/user_install.html\">Jupyter\n",
       "  Widgets Documentation</a> for setup instructions.\n",
       "</p>\n",
       "<p>\n",
       "  If you're reading this message in another frontend (for example, a static\n",
       "  rendering on GitHub or <a href=\"https://nbviewer.jupyter.org/\">NBViewer</a>),\n",
       "  it may mean that your frontend doesn't currently support widgets.\n",
       "</p>\n"
      ],
      "text/plain": [
       "VBox(children=(Figure(axes=[Axis(scale=LinearScale(), side='bottom'), Axis(orientation='vertical', scale=LinearScale(), side='left')], fig_margin={'top': 60, 'bottom': 60, 'left': 60, 'right': 60}, layout=Layout(min_width='125px'), marks=[Lines(colors=['#1f77b4', '#ff7f0e', '#2ca02c', '#d62728', '#9467bd', '#8c564b', '#e377c2', '#7f7f7f', '#bcbd22', '#17becf'], interactions={'hover': 'tooltip'}, scales={'x': LinearScale(), 'y': LinearScale()}, scales_metadata={'x': {'orientation': 'horizontal', 'dimension': 'x'}, 'y': {'orientation': 'vertical', 'dimension': 'y'}, 'color': {'dimension': 'color'}}, tooltip_style={'opacity': 0.9}, x=array([  0.00000000e+00,   5.00000000e-01,   1.00000000e+00, ...,\n",
       "         8.48500000e+02,   8.49000000e+02,   8.49500000e+02]), y=array([  2.01241175e-41,   3.98853389e-41,   7.80561502e-41, ...,\n",
       "         0.00000000e+00,   0.00000000e+00,   0.00000000e+00]))], scale_x=LinearScale(allow_padding=False, max=1.0, min=0.0), scale_y=LinearScale(allow_padding=False, max=1.0, min=0.0), title='Current distribution'), Toolbar(figure=Figure(axes=[Axis(scale=LinearScale(), side='bottom'), Axis(orientation='vertical', scale=LinearScale(), side='left')], fig_margin={'top': 60, 'bottom': 60, 'left': 60, 'right': 60}, layout=Layout(min_width='125px'), marks=[Lines(colors=['#1f77b4', '#ff7f0e', '#2ca02c', '#d62728', '#9467bd', '#8c564b', '#e377c2', '#7f7f7f', '#bcbd22', '#17becf'], interactions={'hover': 'tooltip'}, scales={'x': LinearScale(), 'y': LinearScale()}, scales_metadata={'x': {'orientation': 'horizontal', 'dimension': 'x'}, 'y': {'orientation': 'vertical', 'dimension': 'y'}, 'color': {'dimension': 'color'}}, tooltip_style={'opacity': 0.9}, x=array([  0.00000000e+00,   5.00000000e-01,   1.00000000e+00, ...,\n",
       "         8.48500000e+02,   8.49000000e+02,   8.49500000e+02]), y=array([  2.01241175e-41,   3.98853389e-41,   7.80561502e-41, ...,\n",
       "         0.00000000e+00,   0.00000000e+00,   0.00000000e+00]))], scale_x=LinearScale(allow_padding=False, max=1.0, min=0.0), scale_y=LinearScale(allow_padding=False, max=1.0, min=0.0), title='Current distribution'))))"
      ]
     },
     "metadata": {},
     "output_type": "display_data"
    }
   ],
   "source": [
    "# GUI construction\n",
    "slider_beta = FloatSlider(min=0.02, max=0.03, value=0.0236, step=0.0001, readout_format='.4f', description='beta:', continuous_update=False)\n",
    "slider_L_0 = IntSlider(min=80, max=150, value=101, step=1, description='L_0:', continuous_update=False)\n",
    "slider_n_iter = IntSlider(min=100, max=1500, value=300, step=50, description='n_iter:', continuous_update=False)\n",
    "mode_output = Text(value='0.0', placeholder='Type something', description='Mode:', disabled=False)\n",
    "skewness_output = Text(value='0.0', placeholder='Type something', description='Skewness:', disabled=False)\n",
    "\n",
    "n_iter_initial = 800\n",
    "progress_bar = IntProgress(value=0, min=0, max=slider_n_iter.value, step=1,description='Progress:', bar_style='success')\n",
    "items = []\n",
    "left_box = VBox([slider_beta, slider_L_0, slider_n_iter])\n",
    "right_box = VBox([progress_bar, mode_output, skewness_output])\n",
    "box = HBox([left_box, right_box])\n",
    "display(box)\n",
    "\n",
    "# Initialization of the distribution: piecewise constant\n",
    "global pi\n",
    "pi = np.array([0.]*n)\n",
    "for k in range(L_0, 2*L_0):\n",
    "    pi[k] = 1./L_0\n",
    "\n",
    "plt.figure(1, title='Current distribution')\n",
    "plt.show()\n",
    "\n",
    "# Callback when the user changes one of the GUI values: the distribution is recomputed\n",
    "def on_value_change(change, **kwargs):\n",
    "    global pi\n",
    "    beta = slider_beta.value\n",
    "    L_0 = slider_L_0.value\n",
    "    geom, probas = precompute_arrays(L_0, beta)\n",
    "    \n",
    "    r = np.array(range(n))/2\n",
    "    \n",
    "    if 'init' in kwargs:\n",
    "        n_iter = n_iter_initial\n",
    "    else:\n",
    "        n_iter = slider_n_iter.value\n",
    "    progress_bar.max = n_iter\n",
    "    for k in range(n_iter):\n",
    "        pi = iter_distr(pi, L_0, beta, geom, probas)\n",
    "        pi = pi / np.sum(pi)\n",
    "        if k % 50 == 0:\n",
    "            plt.clear()\n",
    "            plt.plot(r, pi)\n",
    "        \n",
    "            mode = r[np.argmax(pi)]\n",
    "            mean = np.sum(r*pi)\n",
    "            std = np.sqrt(np.sum(r**2*pi)-mean**2)\n",
    "            skewness = np.sum(((r-mean)/std)**3*pi)\n",
    "            mode_output.value = str(mode)\n",
    "            skewness_output.value = str(skewness)\n",
    "        progress_bar.value = k+1\n",
    "        \n",
    "slider_beta.observe(on_value_change, names='value')\n",
    "slider_L_0.observe(on_value_change, names='value')\n",
    "#slider_n_iter.observe(on_value_change, names='value')\n",
    "on_value_change(None, init=True)"
   ]
  },
  {
   "cell_type": "markdown",
   "metadata": {
    "collapsed": true
   },
   "source": [
    "## About the size of the smallest telomeres"
   ]
  },
  {
   "cell_type": "markdown",
   "metadata": {},
   "source": [
    "Here we simulate according to the stationary distribution found above. We want to study the mean and variance of the size of the smallest telomeres in a cell. As in [2], we find that the smallest telomere's size has a higher variance than the one of the subsequent telomeres."
   ]
  },
  {
   "cell_type": "code",
   "execution_count": 12,
   "metadata": {
    "collapsed": true
   },
   "outputs": [],
   "source": [
    "# Redifining the parameters with the values found above\n",
    "L_0 = 101\n",
    "beta = 0.0236"
   ]
  },
  {
   "cell_type": "code",
   "execution_count": 14,
   "metadata": {},
   "outputs": [
    {
     "name": "stdout",
     "output_type": "stream",
     "text": [
      "Stationary distribution (one thousand iteration, takes a dozen seconds):\n"
     ]
    },
    {
     "data": {
      "application/vnd.jupyter.widget-view+json": {
       "model_id": "b17e49492ce54ac484f5838526738bf3",
       "version_major": 2,
       "version_minor": 0
      },
      "text/html": [
       "<p>Failed to display Jupyter Widget of type <code>VBox</code>.</p>\n",
       "<p>\n",
       "  If you're reading this message in the Jupyter Notebook or JupyterLab Notebook, it may mean\n",
       "  that the widgets JavaScript is still loading. If this message persists, it\n",
       "  likely means that the widgets JavaScript library is either not installed or\n",
       "  not enabled. See the <a href=\"https://ipywidgets.readthedocs.io/en/stable/user_install.html\">Jupyter\n",
       "  Widgets Documentation</a> for setup instructions.\n",
       "</p>\n",
       "<p>\n",
       "  If you're reading this message in another frontend (for example, a static\n",
       "  rendering on GitHub or <a href=\"https://nbviewer.jupyter.org/\">NBViewer</a>),\n",
       "  it may mean that your frontend doesn't currently support widgets.\n",
       "</p>\n"
      ],
      "text/plain": [
       "VBox(children=(Figure(axes=[Axis(scale=LinearScale()), Axis(orientation='vertical', scale=LinearScale())], fig_margin={'top': 60, 'bottom': 60, 'left': 60, 'right': 60}, layout=Layout(min_width='125px'), marks=[Lines(colors=['#1f77b4', '#ff7f0e', '#2ca02c', '#d62728', '#9467bd', '#8c564b', '#e377c2', '#7f7f7f', '#bcbd22', '#17becf'], interactions={'hover': 'tooltip'}, scales={'x': LinearScale(), 'y': LinearScale()}, scales_metadata={'x': {'orientation': 'horizontal', 'dimension': 'x'}, 'y': {'orientation': 'vertical', 'dimension': 'y'}, 'color': {'dimension': 'color'}}, tooltip_style={'opacity': 0.9}, x=array([  0.00000000e+00,   5.00000000e-01,   1.00000000e+00, ...,\n",
       "         8.48500000e+02,   8.49000000e+02,   8.49500000e+02]), y=array([  1.22655329e-37,   2.48080074e-37,   4.75631411e-37, ...,\n",
       "         0.00000000e+00,   0.00000000e+00,   0.00000000e+00]))], scale_x=LinearScale(allow_padding=False, max=1.0, min=0.0), scale_y=LinearScale(allow_padding=False, max=1.0, min=0.0)), Toolbar(figure=Figure(axes=[Axis(scale=LinearScale()), Axis(orientation='vertical', scale=LinearScale())], fig_margin={'top': 60, 'bottom': 60, 'left': 60, 'right': 60}, layout=Layout(min_width='125px'), marks=[Lines(colors=['#1f77b4', '#ff7f0e', '#2ca02c', '#d62728', '#9467bd', '#8c564b', '#e377c2', '#7f7f7f', '#bcbd22', '#17becf'], interactions={'hover': 'tooltip'}, scales={'x': LinearScale(), 'y': LinearScale()}, scales_metadata={'x': {'orientation': 'horizontal', 'dimension': 'x'}, 'y': {'orientation': 'vertical', 'dimension': 'y'}, 'color': {'dimension': 'color'}}, tooltip_style={'opacity': 0.9}, x=array([  0.00000000e+00,   5.00000000e-01,   1.00000000e+00, ...,\n",
       "         8.48500000e+02,   8.49000000e+02,   8.49500000e+02]), y=array([  1.22655329e-37,   2.48080074e-37,   4.75631411e-37, ...,\n",
       "         0.00000000e+00,   0.00000000e+00,   0.00000000e+00]))], scale_x=LinearScale(allow_padding=False, max=1.0, min=0.0), scale_y=LinearScale(allow_padding=False, max=1.0, min=0.0)))))"
      ]
     },
     "metadata": {},
     "output_type": "display_data"
    },
    {
     "name": "stdout",
     "output_type": "stream",
     "text": [
      "Mode: 260.5\n",
      "Skewness: 0.729789529549\n",
      "Cumulated sum of the stationary distribution:\n"
     ]
    },
    {
     "data": {
      "application/vnd.jupyter.widget-view+json": {
       "model_id": "4d809c1fdc254d0298d4aeeb19721d1b",
       "version_major": 2,
       "version_minor": 0
      },
      "text/html": [
       "<p>Failed to display Jupyter Widget of type <code>VBox</code>.</p>\n",
       "<p>\n",
       "  If you're reading this message in the Jupyter Notebook or JupyterLab Notebook, it may mean\n",
       "  that the widgets JavaScript is still loading. If this message persists, it\n",
       "  likely means that the widgets JavaScript library is either not installed or\n",
       "  not enabled. See the <a href=\"https://ipywidgets.readthedocs.io/en/stable/user_install.html\">Jupyter\n",
       "  Widgets Documentation</a> for setup instructions.\n",
       "</p>\n",
       "<p>\n",
       "  If you're reading this message in another frontend (for example, a static\n",
       "  rendering on GitHub or <a href=\"https://nbviewer.jupyter.org/\">NBViewer</a>),\n",
       "  it may mean that your frontend doesn't currently support widgets.\n",
       "</p>\n"
      ],
      "text/plain": [
       "VBox(children=(Figure(axes=[Axis(scale=LinearScale()), Axis(orientation='vertical', scale=LinearScale())], fig_margin={'top': 60, 'bottom': 60, 'left': 60, 'right': 60}, layout=Layout(min_width='125px'), marks=[Lines(colors=['#1f77b4', '#ff7f0e', '#2ca02c', '#d62728', '#9467bd', '#8c564b', '#e377c2', '#7f7f7f', '#bcbd22', '#17becf'], interactions={'hover': 'tooltip'}, scales={'x': LinearScale(), 'y': LinearScale()}, scales_metadata={'x': {'orientation': 'horizontal', 'dimension': 'x'}, 'y': {'orientation': 'vertical', 'dimension': 'y'}, 'color': {'dimension': 'color'}}, tooltip_style={'opacity': 0.9}, x=array([  0.00000000e+00,   5.00000000e-01,   1.00000000e+00, ...,\n",
       "         8.48500000e+02,   8.49000000e+02,   8.49500000e+02]), y=array([  1.22655329e-37,   3.70735403e-37,   8.46366814e-37, ...,\n",
       "         1.00000000e+00,   1.00000000e+00,   1.00000000e+00]))], scale_x=LinearScale(allow_padding=False, max=1.0, min=0.0), scale_y=LinearScale(allow_padding=False, max=1.0, min=0.0)), Toolbar(figure=Figure(axes=[Axis(scale=LinearScale()), Axis(orientation='vertical', scale=LinearScale())], fig_margin={'top': 60, 'bottom': 60, 'left': 60, 'right': 60}, layout=Layout(min_width='125px'), marks=[Lines(colors=['#1f77b4', '#ff7f0e', '#2ca02c', '#d62728', '#9467bd', '#8c564b', '#e377c2', '#7f7f7f', '#bcbd22', '#17becf'], interactions={'hover': 'tooltip'}, scales={'x': LinearScale(), 'y': LinearScale()}, scales_metadata={'x': {'orientation': 'horizontal', 'dimension': 'x'}, 'y': {'orientation': 'vertical', 'dimension': 'y'}, 'color': {'dimension': 'color'}}, tooltip_style={'opacity': 0.9}, x=array([  0.00000000e+00,   5.00000000e-01,   1.00000000e+00, ...,\n",
       "         8.48500000e+02,   8.49000000e+02,   8.49500000e+02]), y=array([  1.22655329e-37,   3.70735403e-37,   8.46366814e-37, ...,\n",
       "         1.00000000e+00,   1.00000000e+00,   1.00000000e+00]))], scale_x=LinearScale(allow_padding=False, max=1.0, min=0.0), scale_y=LinearScale(allow_padding=False, max=1.0, min=0.0)))))"
      ]
     },
     "metadata": {},
     "output_type": "display_data"
    }
   ],
   "source": [
    "# Initialization\n",
    "pi = np.array([0.]*n)\n",
    "for k in range(L_0, 2*L_0):\n",
    "    pi[k] = 1./L_0\n",
    "    \n",
    "# Computation of the stationary distribution\n",
    "n_iter = 1000\n",
    "print('Stationary distribution (one thousand iteration, takes a dozen seconds):')\n",
    "pi_final, m, s = evol_distr(n_iter, pi, L_0, beta)\n",
    "cdf = np.cumsum(pi_final)\n",
    "print('Cumulated sum of the stationary distribution:')\n",
    "plt.figure()\n",
    "plt.plot(np.arange(0, 850, step=0.5), cdf)\n",
    "plt.show()"
   ]
  },
  {
   "cell_type": "code",
   "execution_count": 15,
   "metadata": {
    "collapsed": true
   },
   "outputs": [],
   "source": [
    "# Initialization of the simulation: a random variable following the above distribution\n",
    "def initialization_from_distr():\n",
    "    u = npr.rand()\n",
    "    return np.where(cdf>u)[0][0] / 2."
   ]
  },
  {
   "cell_type": "code",
   "execution_count": 57,
   "metadata": {
    "collapsed": true
   },
   "outputs": [],
   "source": [
    "# simulation of the distribution computed above\n",
    "L_1 = []\n",
    "L_2 = []\n",
    "L_3 = []\n",
    "L_4 = []\n",
    "L_all = []\n",
    "\n",
    "for k in range(n_realisation):\n",
    "    list_lengths = [initialization_from_distr() for k in range(32)]\n",
    "    L_all.extend(list_lengths)\n",
    "    list_lengths = np.sort(list_lengths)\n",
    "    L_1.append(list_lengths[0])\n",
    "    L_2.append(list_lengths[1])\n",
    "    L_3.append(list_lengths[2])\n",
    "    L_4.append(list_lengths[3])"
   ]
  },
  {
   "cell_type": "code",
   "execution_count": 70,
   "metadata": {},
   "outputs": [
    {
     "data": {
      "application/vnd.jupyter.widget-view+json": {
       "model_id": "7ee6c96093194ff4bdbdd62a36579b3a",
       "version_major": 2,
       "version_minor": 0
      },
      "text/html": [
       "<p>Failed to display Jupyter Widget of type <code>VBox</code>.</p>\n",
       "<p>\n",
       "  If you're reading this message in the Jupyter Notebook or JupyterLab Notebook, it may mean\n",
       "  that the widgets JavaScript is still loading. If this message persists, it\n",
       "  likely means that the widgets JavaScript library is either not installed or\n",
       "  not enabled. See the <a href=\"https://ipywidgets.readthedocs.io/en/stable/user_install.html\">Jupyter\n",
       "  Widgets Documentation</a> for setup instructions.\n",
       "</p>\n",
       "<p>\n",
       "  If you're reading this message in another frontend (for example, a static\n",
       "  rendering on GitHub or <a href=\"https://nbviewer.jupyter.org/\">NBViewer</a>),\n",
       "  it may mean that your frontend doesn't currently support widgets.\n",
       "</p>\n"
      ],
      "text/plain": [
       "VBox(children=(Figure(axes=[Axis(scale=LinearScale()), Axis(orientation='vertical', scale=LinearScale())], fig_margin={'top': 60, 'bottom': 60, 'left': 60, 'right': 60}, layout=Layout(min_width='125px'), marks=[Lines(colors=['red'], display_legend=True, interactions={'hover': 'tooltip'}, labels=['smallest'], scales={'x': LinearScale(), 'y': LinearScale()}, scales_metadata={'x': {'orientation': 'horizontal', 'dimension': 'x'}, 'y': {'orientation': 'vertical', 'dimension': 'y'}, 'color': {'dimension': 'color'}}, tooltip_style={'opacity': 0.9}, x=array([  51.75,   55.25,   58.75,   62.25,   65.75,   69.25,   72.75,\n",
       "         76.25,   79.75,   83.25,   86.75,   90.25,   93.75,   97.25,\n",
       "        100.75,  104.25,  107.75,  111.25,  114.75,  118.25,  121.75,\n",
       "        125.25,  128.75,  132.25,  135.75,  139.25,  142.75,  146.25,\n",
       "        149.75,  153.25,  156.75,  160.25,  163.75,  167.25,  170.75,\n",
       "        174.25,  177.75,  181.25,  184.75,  188.25,  191.75,  195.25,\n",
       "        198.75,  202.25,  205.75,  209.25,  212.75,  216.25,  219.75,\n",
       "        223.25,  226.75,  230.25,  233.75,  237.25,  240.75,  244.25,\n",
       "        247.75,  251.25,  254.75,  258.25,  261.75,  265.25,  268.75,\n",
       "        272.25,  275.75,  279.25,  282.75,  286.25,  289.75,  293.25,\n",
       "        296.75,  300.25,  303.75,  307.25,  310.75,  314.25,  317.75,\n",
       "        321.25,  324.75,  328.25,  331.75,  335.25,  338.75,  342.25,\n",
       "        345.75,  349.25,  352.75,  356.25,  359.75,  363.25,  366.75,\n",
       "        370.25,  373.75,  377.25,  380.75,  384.25,  387.75,  391.25,\n",
       "        394.75,  398.25]), y=array([  0.00000000e+00,   0.00000000e+00,   5.71428571e-05,\n",
       "         5.71428571e-05,   1.14285714e-04,   1.71428571e-04,\n",
       "         3.42857143e-04,   5.42857143e-04,   1.02857143e-03,\n",
       "         9.42857143e-04,   2.05714286e-03,   2.31428571e-03,\n",
       "         2.82857143e-03,   3.28571429e-03,   5.08571429e-03,\n",
       "         5.62857143e-03,   8.22857143e-03,   9.45714286e-03,\n",
       "         1.04571429e-02,   1.15142857e-02,   1.25714286e-02,\n",
       "         1.38857143e-02,   1.57142857e-02,   1.60857143e-02,\n",
       "         1.57428571e-02,   1.67714286e-02,   1.72571429e-02,\n",
       "         1.51428571e-02,   1.44857143e-02,   1.30285714e-02,\n",
       "         1.31428571e-02,   1.09142857e-02,   9.02857143e-03,\n",
       "         8.08571429e-03,   6.57142857e-03,   5.62857143e-03,\n",
       "         4.65714286e-03,   3.02857143e-03,   2.45714286e-03,\n",
       "         2.20000000e-03,   1.80000000e-03,   1.08571429e-03,\n",
       "         8.28571429e-04,   6.57142857e-04,   4.28571429e-04,\n",
       "         1.42857143e-04,   8.57142857e-05,   1.14285714e-04,\n",
       "         0.00000000e+00,   2.85714286e-05,   0.00000000e+00,\n",
       "         2.85714286e-05,   0.00000000e+00,   0.00000000e+00,\n",
       "         0.00000000e+00,   0.00000000e+00,   0.00000000e+00,\n",
       "         0.00000000e+00,   0.00000000e+00,   0.00000000e+00,\n",
       "         0.00000000e+00,   0.00000000e+00,   0.00000000e+00,\n",
       "         0.00000000e+00,   0.00000000e+00,   0.00000000e+00,\n",
       "         0.00000000e+00,   0.00000000e+00,   0.00000000e+00,\n",
       "         0.00000000e+00,   0.00000000e+00,   0.00000000e+00,\n",
       "         0.00000000e+00,   0.00000000e+00,   0.00000000e+00,\n",
       "         0.00000000e+00,   0.00000000e+00,   0.00000000e+00,\n",
       "         0.00000000e+00,   0.00000000e+00,   0.00000000e+00,\n",
       "         0.00000000e+00,   0.00000000e+00,   0.00000000e+00,\n",
       "         0.00000000e+00,   0.00000000e+00,   0.00000000e+00,\n",
       "         0.00000000e+00,   0.00000000e+00,   0.00000000e+00,\n",
       "         0.00000000e+00,   0.00000000e+00,   0.00000000e+00,\n",
       "         0.00000000e+00,   0.00000000e+00,   0.00000000e+00,\n",
       "         0.00000000e+00,   0.00000000e+00,   0.00000000e+00,\n",
       "         0.00000000e+00])), Lines(colors=['magenta'], display_legend=True, interactions={'hover': 'tooltip'}, labels=['2nd smallest'], scales={'x': LinearScale(), 'y': LinearScale()}, scales_metadata={'x': {'orientation': 'horizontal', 'dimension': 'x'}, 'y': {'orientation': 'vertical', 'dimension': 'y'}, 'color': {'dimension': 'color'}}, tooltip_style={'opacity': 0.9}, x=array([  51.75,   55.25,   58.75,   62.25,   65.75,   69.25,   72.75,\n",
       "         76.25,   79.75,   83.25,   86.75,   90.25,   93.75,   97.25,\n",
       "        100.75,  104.25,  107.75,  111.25,  114.75,  118.25,  121.75,\n",
       "        125.25,  128.75,  132.25,  135.75,  139.25,  142.75,  146.25,\n",
       "        149.75,  153.25,  156.75,  160.25,  163.75,  167.25,  170.75,\n",
       "        174.25,  177.75,  181.25,  184.75,  188.25,  191.75,  195.25,\n",
       "        198.75,  202.25,  205.75,  209.25,  212.75,  216.25,  219.75,\n",
       "        223.25,  226.75,  230.25,  233.75,  237.25,  240.75,  244.25,\n",
       "        247.75,  251.25,  254.75,  258.25,  261.75,  265.25,  268.75,\n",
       "        272.25,  275.75,  279.25,  282.75,  286.25,  289.75,  293.25,\n",
       "        296.75,  300.25,  303.75,  307.25,  310.75,  314.25,  317.75,\n",
       "        321.25,  324.75,  328.25,  331.75,  335.25,  338.75,  342.25,\n",
       "        345.75,  349.25,  352.75,  356.25,  359.75,  363.25,  366.75,\n",
       "        370.25,  373.75,  377.25,  380.75,  384.25,  387.75,  391.25,\n",
       "        394.75,  398.25]), y=array([  0.00000000e+00,   0.00000000e+00,   0.00000000e+00,\n",
       "         0.00000000e+00,   0.00000000e+00,   0.00000000e+00,\n",
       "         0.00000000e+00,   0.00000000e+00,   0.00000000e+00,\n",
       "         0.00000000e+00,   0.00000000e+00,   8.57142857e-05,\n",
       "         1.14285714e-04,   8.57142857e-05,   2.28571429e-04,\n",
       "         3.42857143e-04,   5.42857143e-04,   1.28571429e-03,\n",
       "         1.40000000e-03,   2.51428571e-03,   3.48571429e-03,\n",
       "         4.48571429e-03,   6.54285714e-03,   7.42857143e-03,\n",
       "         9.17142857e-03,   1.10000000e-02,   1.41714286e-02,\n",
       "         1.66857143e-02,   1.72000000e-02,   1.75714286e-02,\n",
       "         1.79428571e-02,   1.91142857e-02,   1.96857143e-02,\n",
       "         1.66285714e-02,   1.68285714e-02,   1.49142857e-02,\n",
       "         1.38857143e-02,   1.08571429e-02,   9.40000000e-03,\n",
       "         7.45714286e-03,   6.65714286e-03,   4.97142857e-03,\n",
       "         3.65714286e-03,   2.88571429e-03,   2.05714286e-03,\n",
       "         1.25714286e-03,   9.71428571e-04,   6.00000000e-04,\n",
       "         5.71428571e-04,   2.85714286e-04,   2.85714286e-04,\n",
       "         2.57142857e-04,   2.85714286e-05,   1.14285714e-04,\n",
       "         2.85714286e-05,   0.00000000e+00,   2.85714286e-05,\n",
       "         0.00000000e+00,   0.00000000e+00,   0.00000000e+00,\n",
       "         0.00000000e+00,   0.00000000e+00,   0.00000000e+00,\n",
       "         0.00000000e+00,   0.00000000e+00,   0.00000000e+00,\n",
       "         0.00000000e+00,   0.00000000e+00,   0.00000000e+00,\n",
       "         0.00000000e+00,   0.00000000e+00,   0.00000000e+00,\n",
       "         0.00000000e+00,   0.00000000e+00,   0.00000000e+00,\n",
       "         0.00000000e+00,   0.00000000e+00,   0.00000000e+00,\n",
       "         0.00000000e+00,   0.00000000e+00,   0.00000000e+00,\n",
       "         0.00000000e+00,   0.00000000e+00,   0.00000000e+00,\n",
       "         0.00000000e+00,   0.00000000e+00,   0.00000000e+00,\n",
       "         0.00000000e+00,   0.00000000e+00,   0.00000000e+00,\n",
       "         0.00000000e+00,   0.00000000e+00,   0.00000000e+00,\n",
       "         0.00000000e+00,   0.00000000e+00,   0.00000000e+00,\n",
       "         0.00000000e+00,   0.00000000e+00,   0.00000000e+00,\n",
       "         0.00000000e+00])), Lines(colors=['blue'], display_legend=True, interactions={'hover': 'tooltip'}, labels=['3rd smallest'], scales={'x': LinearScale(), 'y': LinearScale()}, scales_metadata={'x': {'orientation': 'horizontal', 'dimension': 'x'}, 'y': {'orientation': 'vertical', 'dimension': 'y'}, 'color': {'dimension': 'color'}}, tooltip_style={'opacity': 0.9}, x=array([  51.75,   55.25,   58.75,   62.25,   65.75,   69.25,   72.75,\n",
       "         76.25,   79.75,   83.25,   86.75,   90.25,   93.75,   97.25,\n",
       "        100.75,  104.25,  107.75,  111.25,  114.75,  118.25,  121.75,\n",
       "        125.25,  128.75,  132.25,  135.75,  139.25,  142.75,  146.25,\n",
       "        149.75,  153.25,  156.75,  160.25,  163.75,  167.25,  170.75,\n",
       "        174.25,  177.75,  181.25,  184.75,  188.25,  191.75,  195.25,\n",
       "        198.75,  202.25,  205.75,  209.25,  212.75,  216.25,  219.75,\n",
       "        223.25,  226.75,  230.25,  233.75,  237.25,  240.75,  244.25,\n",
       "        247.75,  251.25,  254.75,  258.25,  261.75,  265.25,  268.75,\n",
       "        272.25,  275.75,  279.25,  282.75,  286.25,  289.75,  293.25,\n",
       "        296.75,  300.25,  303.75,  307.25,  310.75,  314.25,  317.75,\n",
       "        321.25,  324.75,  328.25,  331.75,  335.25,  338.75,  342.25,\n",
       "        345.75,  349.25,  352.75,  356.25,  359.75,  363.25,  366.75,\n",
       "        370.25,  373.75,  377.25,  380.75,  384.25,  387.75,  391.25,\n",
       "        394.75,  398.25]), y=array([  0.00000000e+00,   0.00000000e+00,   0.00000000e+00,\n",
       "         0.00000000e+00,   0.00000000e+00,   0.00000000e+00,\n",
       "         0.00000000e+00,   0.00000000e+00,   0.00000000e+00,\n",
       "         0.00000000e+00,   0.00000000e+00,   0.00000000e+00,\n",
       "         0.00000000e+00,   0.00000000e+00,   0.00000000e+00,\n",
       "         0.00000000e+00,   2.85714286e-05,   5.71428571e-05,\n",
       "         2.00000000e-04,   2.85714286e-04,   3.42857143e-04,\n",
       "         6.57142857e-04,   1.05714286e-03,   1.74285714e-03,\n",
       "         2.57142857e-03,   4.14285714e-03,   5.00000000e-03,\n",
       "         7.31428571e-03,   9.77142857e-03,   1.00285714e-02,\n",
       "         1.20571429e-02,   1.68000000e-02,   1.74285714e-02,\n",
       "         1.94285714e-02,   1.94285714e-02,   2.00857143e-02,\n",
       "         1.89142857e-02,   1.97428571e-02,   1.82571429e-02,\n",
       "         1.53142857e-02,   1.38571429e-02,   1.16571429e-02,\n",
       "         8.88571429e-03,   8.00000000e-03,   6.34285714e-03,\n",
       "         4.51428571e-03,   3.00000000e-03,   2.94285714e-03,\n",
       "         1.77142857e-03,   1.37142857e-03,   8.85714286e-04,\n",
       "         6.28571429e-04,   4.85714286e-04,   3.14285714e-04,\n",
       "         1.14285714e-04,   5.71428571e-05,   2.85714286e-05,\n",
       "         8.57142857e-05,   5.71428571e-05,   0.00000000e+00,\n",
       "         2.85714286e-05,   0.00000000e+00,   0.00000000e+00,\n",
       "         0.00000000e+00,   2.85714286e-05,   0.00000000e+00,\n",
       "         0.00000000e+00,   0.00000000e+00,   0.00000000e+00,\n",
       "         0.00000000e+00,   0.00000000e+00,   0.00000000e+00,\n",
       "         0.00000000e+00,   0.00000000e+00,   0.00000000e+00,\n",
       "         0.00000000e+00,   0.00000000e+00,   0.00000000e+00,\n",
       "         0.00000000e+00,   0.00000000e+00,   0.00000000e+00,\n",
       "         0.00000000e+00,   0.00000000e+00,   0.00000000e+00,\n",
       "         0.00000000e+00,   0.00000000e+00,   0.00000000e+00,\n",
       "         0.00000000e+00,   0.00000000e+00,   0.00000000e+00,\n",
       "         0.00000000e+00,   0.00000000e+00,   0.00000000e+00,\n",
       "         0.00000000e+00,   0.00000000e+00,   0.00000000e+00,\n",
       "         0.00000000e+00,   0.00000000e+00,   0.00000000e+00,\n",
       "         0.00000000e+00])), Lines(colors=['cyan'], display_legend=True, interactions={'hover': 'tooltip'}, labels=['4th smallest'], scales={'x': LinearScale(), 'y': LinearScale()}, scales_metadata={'x': {'orientation': 'horizontal', 'dimension': 'x'}, 'y': {'orientation': 'vertical', 'dimension': 'y'}, 'color': {'dimension': 'color'}}, tooltip_style={'opacity': 0.9}, x=array([  51.75,   55.25,   58.75,   62.25,   65.75,   69.25,   72.75,\n",
       "         76.25,   79.75,   83.25,   86.75,   90.25,   93.75,   97.25,\n",
       "        100.75,  104.25,  107.75,  111.25,  114.75,  118.25,  121.75,\n",
       "        125.25,  128.75,  132.25,  135.75,  139.25,  142.75,  146.25,\n",
       "        149.75,  153.25,  156.75,  160.25,  163.75,  167.25,  170.75,\n",
       "        174.25,  177.75,  181.25,  184.75,  188.25,  191.75,  195.25,\n",
       "        198.75,  202.25,  205.75,  209.25,  212.75,  216.25,  219.75,\n",
       "        223.25,  226.75,  230.25,  233.75,  237.25,  240.75,  244.25,\n",
       "        247.75,  251.25,  254.75,  258.25,  261.75,  265.25,  268.75,\n",
       "        272.25,  275.75,  279.25,  282.75,  286.25,  289.75,  293.25,\n",
       "        296.75,  300.25,  303.75,  307.25,  310.75,  314.25,  317.75,\n",
       "        321.25,  324.75,  328.25,  331.75,  335.25,  338.75,  342.25,\n",
       "        345.75,  349.25,  352.75,  356.25,  359.75,  363.25,  366.75,\n",
       "        370.25,  373.75,  377.25,  380.75,  384.25,  387.75,  391.25,\n",
       "        394.75,  398.25]), y=array([  0.00000000e+00,   0.00000000e+00,   0.00000000e+00,\n",
       "         0.00000000e+00,   0.00000000e+00,   0.00000000e+00,\n",
       "         0.00000000e+00,   0.00000000e+00,   0.00000000e+00,\n",
       "         0.00000000e+00,   0.00000000e+00,   0.00000000e+00,\n",
       "         0.00000000e+00,   0.00000000e+00,   0.00000000e+00,\n",
       "         0.00000000e+00,   0.00000000e+00,   0.00000000e+00,\n",
       "         0.00000000e+00,   2.85714286e-05,   2.85714286e-05,\n",
       "         0.00000000e+00,   1.14285714e-04,   3.71428571e-04,\n",
       "         4.28571429e-04,   7.42857143e-04,   1.62857143e-03,\n",
       "         1.97142857e-03,   2.65714286e-03,   4.37142857e-03,\n",
       "         5.74285714e-03,   7.62857143e-03,   1.02857143e-02,\n",
       "         1.25428571e-02,   1.54857143e-02,   1.73714286e-02,\n",
       "         1.77714286e-02,   1.98857143e-02,   2.24000000e-02,\n",
       "         2.09714286e-02,   1.85428571e-02,   1.84571429e-02,\n",
       "         1.64857143e-02,   1.48285714e-02,   1.26000000e-02,\n",
       "         1.01714286e-02,   8.31428571e-03,   6.57142857e-03,\n",
       "         4.82857143e-03,   3.74285714e-03,   3.02857143e-03,\n",
       "         1.82857143e-03,   1.51428571e-03,   9.14285714e-04,\n",
       "         4.00000000e-04,   3.71428571e-04,   2.00000000e-04,\n",
       "         1.71428571e-04,   1.14285714e-04,   1.14285714e-04,\n",
       "         5.71428571e-05,   0.00000000e+00,   0.00000000e+00,\n",
       "         0.00000000e+00,   0.00000000e+00,   2.85714286e-05,\n",
       "         0.00000000e+00,   0.00000000e+00,   0.00000000e+00,\n",
       "         0.00000000e+00,   0.00000000e+00,   0.00000000e+00,\n",
       "         0.00000000e+00,   0.00000000e+00,   0.00000000e+00,\n",
       "         0.00000000e+00,   0.00000000e+00,   0.00000000e+00,\n",
       "         0.00000000e+00,   0.00000000e+00,   0.00000000e+00,\n",
       "         0.00000000e+00,   0.00000000e+00,   0.00000000e+00,\n",
       "         0.00000000e+00,   0.00000000e+00,   0.00000000e+00,\n",
       "         0.00000000e+00,   0.00000000e+00,   0.00000000e+00,\n",
       "         0.00000000e+00,   0.00000000e+00,   0.00000000e+00,\n",
       "         0.00000000e+00,   0.00000000e+00,   0.00000000e+00,\n",
       "         0.00000000e+00,   0.00000000e+00,   0.00000000e+00,\n",
       "         0.00000000e+00])), Lines(colors=['black'], display_legend=True, interactions={'hover': 'tooltip'}, labels=['all'], scales={'x': LinearScale(), 'y': LinearScale()}, scales_metadata={'x': {'orientation': 'horizontal', 'dimension': 'x'}, 'y': {'orientation': 'vertical', 'dimension': 'y'}, 'color': {'dimension': 'color'}}, tooltip_style={'opacity': 0.9}, x=array([  51.75,   55.25,   58.75,   62.25,   65.75,   69.25,   72.75,\n",
       "         76.25,   79.75,   83.25,   86.75,   90.25,   93.75,   97.25,\n",
       "        100.75,  104.25,  107.75,  111.25,  114.75,  118.25,  121.75,\n",
       "        125.25,  128.75,  132.25,  135.75,  139.25,  142.75,  146.25,\n",
       "        149.75,  153.25,  156.75,  160.25,  163.75,  167.25,  170.75,\n",
       "        174.25,  177.75,  181.25,  184.75,  188.25,  191.75,  195.25,\n",
       "        198.75,  202.25,  205.75,  209.25,  212.75,  216.25,  219.75,\n",
       "        223.25,  226.75,  230.25,  233.75,  237.25,  240.75,  244.25,\n",
       "        247.75,  251.25,  254.75,  258.25,  261.75,  265.25,  268.75,\n",
       "        272.25,  275.75,  279.25,  282.75,  286.25,  289.75,  293.25,\n",
       "        296.75,  300.25,  303.75,  307.25,  310.75,  314.25,  317.75,\n",
       "        321.25,  324.75,  328.25,  331.75,  335.25,  338.75,  342.25,\n",
       "        345.75,  349.25,  352.75,  356.25,  359.75,  363.25,  366.75,\n",
       "        370.25,  373.75,  377.25,  380.75,  384.25,  387.75,  391.25,\n",
       "        394.75,  398.25]), y=array([  0.00000000e+00,   0.00000000e+00,   2.09786322e-06,\n",
       "         2.09786322e-06,   4.19572644e-06,   6.29358966e-06,\n",
       "         1.25871793e-05,   1.99297006e-05,   3.77615380e-05,\n",
       "         3.46147432e-05,   7.55230760e-05,   8.81102553e-05,\n",
       "         1.08039956e-04,   1.23773930e-04,   1.95101280e-04,\n",
       "         2.19226707e-04,   3.23070936e-04,   3.96496149e-04,\n",
       "         4.42649140e-04,   5.26563669e-04,   6.03135676e-04,\n",
       "         6.98588453e-04,   8.62221784e-04,   9.40891655e-04,\n",
       "         1.02585512e-03,   1.20102669e-03,   1.40451943e-03,\n",
       "         1.52095084e-03,   1.65521408e-03,   1.71185639e-03,\n",
       "         1.90695767e-03,   2.13982049e-03,   2.29401343e-03,\n",
       "         2.40834698e-03,   2.63386727e-03,   2.76498373e-03,\n",
       "         2.92337240e-03,   3.03980381e-03,   3.36182581e-03,\n",
       "         3.36707047e-03,   3.49399120e-03,   3.69433713e-03,\n",
       "         3.76671341e-03,   3.97649974e-03,   4.01216341e-03,\n",
       "         4.23139012e-03,   4.28803242e-03,   4.33838114e-03,\n",
       "         4.45586148e-03,   4.52928670e-03,   4.70236041e-03,\n",
       "         4.72543691e-03,   4.79886212e-03,   4.98557195e-03,\n",
       "         4.80830250e-03,   4.94990827e-03,   4.90585314e-03,\n",
       "         5.09570976e-03,   4.96983797e-03,   5.03067600e-03,\n",
       "         5.08731831e-03,   4.98242515e-03,   4.95410400e-03,\n",
       "         5.02438242e-03,   4.90060849e-03,   4.93941895e-03,\n",
       "         4.94151682e-03,   4.84501511e-03,   4.71599652e-03,\n",
       "         4.73382836e-03,   4.71075186e-03,   4.58592900e-03,\n",
       "         4.61110336e-03,   4.55865678e-03,   4.52928670e-03,\n",
       "         4.38558306e-03,   4.31950037e-03,   4.20202003e-03,\n",
       "         4.14013307e-03,   3.91566170e-03,   3.99118478e-03,\n",
       "         3.98908692e-03,   3.69119034e-03,   3.64293948e-03,\n",
       "         3.59363970e-03,   3.50343158e-03,   3.37651085e-03,\n",
       "         3.32721107e-03,   3.18036064e-03,   3.01987411e-03,\n",
       "         3.02721663e-03,   2.92442133e-03,   2.80798992e-03,\n",
       "         2.69994997e-03,   2.60659505e-03,   2.58981215e-03,\n",
       "         2.56044206e-03,   2.42512988e-03,   2.25415403e-03,\n",
       "         2.57827390e-03]))], scale_x=LinearScale(allow_padding=False, max=1.0, min=0.0), scale_y=LinearScale(allow_padding=False, max=1.0, min=0.0), title='Distribution of telomeres'), Toolbar(figure=Figure(axes=[Axis(scale=LinearScale()), Axis(orientation='vertical', scale=LinearScale())], fig_margin={'top': 60, 'bottom': 60, 'left': 60, 'right': 60}, layout=Layout(min_width='125px'), marks=[Lines(colors=['red'], display_legend=True, interactions={'hover': 'tooltip'}, labels=['smallest'], scales={'x': LinearScale(), 'y': LinearScale()}, scales_metadata={'x': {'orientation': 'horizontal', 'dimension': 'x'}, 'y': {'orientation': 'vertical', 'dimension': 'y'}, 'color': {'dimension': 'color'}}, tooltip_style={'opacity': 0.9}, x=array([  51.75,   55.25,   58.75,   62.25,   65.75,   69.25,   72.75,\n",
       "         76.25,   79.75,   83.25,   86.75,   90.25,   93.75,   97.25,\n",
       "        100.75,  104.25,  107.75,  111.25,  114.75,  118.25,  121.75,\n",
       "        125.25,  128.75,  132.25,  135.75,  139.25,  142.75,  146.25,\n",
       "        149.75,  153.25,  156.75,  160.25,  163.75,  167.25,  170.75,\n",
       "        174.25,  177.75,  181.25,  184.75,  188.25,  191.75,  195.25,\n",
       "        198.75,  202.25,  205.75,  209.25,  212.75,  216.25,  219.75,\n",
       "        223.25,  226.75,  230.25,  233.75,  237.25,  240.75,  244.25,\n",
       "        247.75,  251.25,  254.75,  258.25,  261.75,  265.25,  268.75,\n",
       "        272.25,  275.75,  279.25,  282.75,  286.25,  289.75,  293.25,\n",
       "        296.75,  300.25,  303.75,  307.25,  310.75,  314.25,  317.75,\n",
       "        321.25,  324.75,  328.25,  331.75,  335.25,  338.75,  342.25,\n",
       "        345.75,  349.25,  352.75,  356.25,  359.75,  363.25,  366.75,\n",
       "        370.25,  373.75,  377.25,  380.75,  384.25,  387.75,  391.25,\n",
       "        394.75,  398.25]), y=array([  0.00000000e+00,   0.00000000e+00,   5.71428571e-05,\n",
       "         5.71428571e-05,   1.14285714e-04,   1.71428571e-04,\n",
       "         3.42857143e-04,   5.42857143e-04,   1.02857143e-03,\n",
       "         9.42857143e-04,   2.05714286e-03,   2.31428571e-03,\n",
       "         2.82857143e-03,   3.28571429e-03,   5.08571429e-03,\n",
       "         5.62857143e-03,   8.22857143e-03,   9.45714286e-03,\n",
       "         1.04571429e-02,   1.15142857e-02,   1.25714286e-02,\n",
       "         1.38857143e-02,   1.57142857e-02,   1.60857143e-02,\n",
       "         1.57428571e-02,   1.67714286e-02,   1.72571429e-02,\n",
       "         1.51428571e-02,   1.44857143e-02,   1.30285714e-02,\n",
       "         1.31428571e-02,   1.09142857e-02,   9.02857143e-03,\n",
       "         8.08571429e-03,   6.57142857e-03,   5.62857143e-03,\n",
       "         4.65714286e-03,   3.02857143e-03,   2.45714286e-03,\n",
       "         2.20000000e-03,   1.80000000e-03,   1.08571429e-03,\n",
       "         8.28571429e-04,   6.57142857e-04,   4.28571429e-04,\n",
       "         1.42857143e-04,   8.57142857e-05,   1.14285714e-04,\n",
       "         0.00000000e+00,   2.85714286e-05,   0.00000000e+00,\n",
       "         2.85714286e-05,   0.00000000e+00,   0.00000000e+00,\n",
       "         0.00000000e+00,   0.00000000e+00,   0.00000000e+00,\n",
       "         0.00000000e+00,   0.00000000e+00,   0.00000000e+00,\n",
       "         0.00000000e+00,   0.00000000e+00,   0.00000000e+00,\n",
       "         0.00000000e+00,   0.00000000e+00,   0.00000000e+00,\n",
       "         0.00000000e+00,   0.00000000e+00,   0.00000000e+00,\n",
       "         0.00000000e+00,   0.00000000e+00,   0.00000000e+00,\n",
       "         0.00000000e+00,   0.00000000e+00,   0.00000000e+00,\n",
       "         0.00000000e+00,   0.00000000e+00,   0.00000000e+00,\n",
       "         0.00000000e+00,   0.00000000e+00,   0.00000000e+00,\n",
       "         0.00000000e+00,   0.00000000e+00,   0.00000000e+00,\n",
       "         0.00000000e+00,   0.00000000e+00,   0.00000000e+00,\n",
       "         0.00000000e+00,   0.00000000e+00,   0.00000000e+00,\n",
       "         0.00000000e+00,   0.00000000e+00,   0.00000000e+00,\n",
       "         0.00000000e+00,   0.00000000e+00,   0.00000000e+00,\n",
       "         0.00000000e+00,   0.00000000e+00,   0.00000000e+00,\n",
       "         0.00000000e+00])), Lines(colors=['magenta'], display_legend=True, interactions={'hover': 'tooltip'}, labels=['2nd smallest'], scales={'x': LinearScale(), 'y': LinearScale()}, scales_metadata={'x': {'orientation': 'horizontal', 'dimension': 'x'}, 'y': {'orientation': 'vertical', 'dimension': 'y'}, 'color': {'dimension': 'color'}}, tooltip_style={'opacity': 0.9}, x=array([  51.75,   55.25,   58.75,   62.25,   65.75,   69.25,   72.75,\n",
       "         76.25,   79.75,   83.25,   86.75,   90.25,   93.75,   97.25,\n",
       "        100.75,  104.25,  107.75,  111.25,  114.75,  118.25,  121.75,\n",
       "        125.25,  128.75,  132.25,  135.75,  139.25,  142.75,  146.25,\n",
       "        149.75,  153.25,  156.75,  160.25,  163.75,  167.25,  170.75,\n",
       "        174.25,  177.75,  181.25,  184.75,  188.25,  191.75,  195.25,\n",
       "        198.75,  202.25,  205.75,  209.25,  212.75,  216.25,  219.75,\n",
       "        223.25,  226.75,  230.25,  233.75,  237.25,  240.75,  244.25,\n",
       "        247.75,  251.25,  254.75,  258.25,  261.75,  265.25,  268.75,\n",
       "        272.25,  275.75,  279.25,  282.75,  286.25,  289.75,  293.25,\n",
       "        296.75,  300.25,  303.75,  307.25,  310.75,  314.25,  317.75,\n",
       "        321.25,  324.75,  328.25,  331.75,  335.25,  338.75,  342.25,\n",
       "        345.75,  349.25,  352.75,  356.25,  359.75,  363.25,  366.75,\n",
       "        370.25,  373.75,  377.25,  380.75,  384.25,  387.75,  391.25,\n",
       "        394.75,  398.25]), y=array([  0.00000000e+00,   0.00000000e+00,   0.00000000e+00,\n",
       "         0.00000000e+00,   0.00000000e+00,   0.00000000e+00,\n",
       "         0.00000000e+00,   0.00000000e+00,   0.00000000e+00,\n",
       "         0.00000000e+00,   0.00000000e+00,   8.57142857e-05,\n",
       "         1.14285714e-04,   8.57142857e-05,   2.28571429e-04,\n",
       "         3.42857143e-04,   5.42857143e-04,   1.28571429e-03,\n",
       "         1.40000000e-03,   2.51428571e-03,   3.48571429e-03,\n",
       "         4.48571429e-03,   6.54285714e-03,   7.42857143e-03,\n",
       "         9.17142857e-03,   1.10000000e-02,   1.41714286e-02,\n",
       "         1.66857143e-02,   1.72000000e-02,   1.75714286e-02,\n",
       "         1.79428571e-02,   1.91142857e-02,   1.96857143e-02,\n",
       "         1.66285714e-02,   1.68285714e-02,   1.49142857e-02,\n",
       "         1.38857143e-02,   1.08571429e-02,   9.40000000e-03,\n",
       "         7.45714286e-03,   6.65714286e-03,   4.97142857e-03,\n",
       "         3.65714286e-03,   2.88571429e-03,   2.05714286e-03,\n",
       "         1.25714286e-03,   9.71428571e-04,   6.00000000e-04,\n",
       "         5.71428571e-04,   2.85714286e-04,   2.85714286e-04,\n",
       "         2.57142857e-04,   2.85714286e-05,   1.14285714e-04,\n",
       "         2.85714286e-05,   0.00000000e+00,   2.85714286e-05,\n",
       "         0.00000000e+00,   0.00000000e+00,   0.00000000e+00,\n",
       "         0.00000000e+00,   0.00000000e+00,   0.00000000e+00,\n",
       "         0.00000000e+00,   0.00000000e+00,   0.00000000e+00,\n",
       "         0.00000000e+00,   0.00000000e+00,   0.00000000e+00,\n",
       "         0.00000000e+00,   0.00000000e+00,   0.00000000e+00,\n",
       "         0.00000000e+00,   0.00000000e+00,   0.00000000e+00,\n",
       "         0.00000000e+00,   0.00000000e+00,   0.00000000e+00,\n",
       "         0.00000000e+00,   0.00000000e+00,   0.00000000e+00,\n",
       "         0.00000000e+00,   0.00000000e+00,   0.00000000e+00,\n",
       "         0.00000000e+00,   0.00000000e+00,   0.00000000e+00,\n",
       "         0.00000000e+00,   0.00000000e+00,   0.00000000e+00,\n",
       "         0.00000000e+00,   0.00000000e+00,   0.00000000e+00,\n",
       "         0.00000000e+00,   0.00000000e+00,   0.00000000e+00,\n",
       "         0.00000000e+00,   0.00000000e+00,   0.00000000e+00,\n",
       "         0.00000000e+00])), Lines(colors=['blue'], display_legend=True, interactions={'hover': 'tooltip'}, labels=['3rd smallest'], scales={'x': LinearScale(), 'y': LinearScale()}, scales_metadata={'x': {'orientation': 'horizontal', 'dimension': 'x'}, 'y': {'orientation': 'vertical', 'dimension': 'y'}, 'color': {'dimension': 'color'}}, tooltip_style={'opacity': 0.9}, x=array([  51.75,   55.25,   58.75,   62.25,   65.75,   69.25,   72.75,\n",
       "         76.25,   79.75,   83.25,   86.75,   90.25,   93.75,   97.25,\n",
       "        100.75,  104.25,  107.75,  111.25,  114.75,  118.25,  121.75,\n",
       "        125.25,  128.75,  132.25,  135.75,  139.25,  142.75,  146.25,\n",
       "        149.75,  153.25,  156.75,  160.25,  163.75,  167.25,  170.75,\n",
       "        174.25,  177.75,  181.25,  184.75,  188.25,  191.75,  195.25,\n",
       "        198.75,  202.25,  205.75,  209.25,  212.75,  216.25,  219.75,\n",
       "        223.25,  226.75,  230.25,  233.75,  237.25,  240.75,  244.25,\n",
       "        247.75,  251.25,  254.75,  258.25,  261.75,  265.25,  268.75,\n",
       "        272.25,  275.75,  279.25,  282.75,  286.25,  289.75,  293.25,\n",
       "        296.75,  300.25,  303.75,  307.25,  310.75,  314.25,  317.75,\n",
       "        321.25,  324.75,  328.25,  331.75,  335.25,  338.75,  342.25,\n",
       "        345.75,  349.25,  352.75,  356.25,  359.75,  363.25,  366.75,\n",
       "        370.25,  373.75,  377.25,  380.75,  384.25,  387.75,  391.25,\n",
       "        394.75,  398.25]), y=array([  0.00000000e+00,   0.00000000e+00,   0.00000000e+00,\n",
       "         0.00000000e+00,   0.00000000e+00,   0.00000000e+00,\n",
       "         0.00000000e+00,   0.00000000e+00,   0.00000000e+00,\n",
       "         0.00000000e+00,   0.00000000e+00,   0.00000000e+00,\n",
       "         0.00000000e+00,   0.00000000e+00,   0.00000000e+00,\n",
       "         0.00000000e+00,   2.85714286e-05,   5.71428571e-05,\n",
       "         2.00000000e-04,   2.85714286e-04,   3.42857143e-04,\n",
       "         6.57142857e-04,   1.05714286e-03,   1.74285714e-03,\n",
       "         2.57142857e-03,   4.14285714e-03,   5.00000000e-03,\n",
       "         7.31428571e-03,   9.77142857e-03,   1.00285714e-02,\n",
       "         1.20571429e-02,   1.68000000e-02,   1.74285714e-02,\n",
       "         1.94285714e-02,   1.94285714e-02,   2.00857143e-02,\n",
       "         1.89142857e-02,   1.97428571e-02,   1.82571429e-02,\n",
       "         1.53142857e-02,   1.38571429e-02,   1.16571429e-02,\n",
       "         8.88571429e-03,   8.00000000e-03,   6.34285714e-03,\n",
       "         4.51428571e-03,   3.00000000e-03,   2.94285714e-03,\n",
       "         1.77142857e-03,   1.37142857e-03,   8.85714286e-04,\n",
       "         6.28571429e-04,   4.85714286e-04,   3.14285714e-04,\n",
       "         1.14285714e-04,   5.71428571e-05,   2.85714286e-05,\n",
       "         8.57142857e-05,   5.71428571e-05,   0.00000000e+00,\n",
       "         2.85714286e-05,   0.00000000e+00,   0.00000000e+00,\n",
       "         0.00000000e+00,   2.85714286e-05,   0.00000000e+00,\n",
       "         0.00000000e+00,   0.00000000e+00,   0.00000000e+00,\n",
       "         0.00000000e+00,   0.00000000e+00,   0.00000000e+00,\n",
       "         0.00000000e+00,   0.00000000e+00,   0.00000000e+00,\n",
       "         0.00000000e+00,   0.00000000e+00,   0.00000000e+00,\n",
       "         0.00000000e+00,   0.00000000e+00,   0.00000000e+00,\n",
       "         0.00000000e+00,   0.00000000e+00,   0.00000000e+00,\n",
       "         0.00000000e+00,   0.00000000e+00,   0.00000000e+00,\n",
       "         0.00000000e+00,   0.00000000e+00,   0.00000000e+00,\n",
       "         0.00000000e+00,   0.00000000e+00,   0.00000000e+00,\n",
       "         0.00000000e+00,   0.00000000e+00,   0.00000000e+00,\n",
       "         0.00000000e+00,   0.00000000e+00,   0.00000000e+00,\n",
       "         0.00000000e+00])), Lines(colors=['cyan'], display_legend=True, interactions={'hover': 'tooltip'}, labels=['4th smallest'], scales={'x': LinearScale(), 'y': LinearScale()}, scales_metadata={'x': {'orientation': 'horizontal', 'dimension': 'x'}, 'y': {'orientation': 'vertical', 'dimension': 'y'}, 'color': {'dimension': 'color'}}, tooltip_style={'opacity': 0.9}, x=array([  51.75,   55.25,   58.75,   62.25,   65.75,   69.25,   72.75,\n",
       "         76.25,   79.75,   83.25,   86.75,   90.25,   93.75,   97.25,\n",
       "        100.75,  104.25,  107.75,  111.25,  114.75,  118.25,  121.75,\n",
       "        125.25,  128.75,  132.25,  135.75,  139.25,  142.75,  146.25,\n",
       "        149.75,  153.25,  156.75,  160.25,  163.75,  167.25,  170.75,\n",
       "        174.25,  177.75,  181.25,  184.75,  188.25,  191.75,  195.25,\n",
       "        198.75,  202.25,  205.75,  209.25,  212.75,  216.25,  219.75,\n",
       "        223.25,  226.75,  230.25,  233.75,  237.25,  240.75,  244.25,\n",
       "        247.75,  251.25,  254.75,  258.25,  261.75,  265.25,  268.75,\n",
       "        272.25,  275.75,  279.25,  282.75,  286.25,  289.75,  293.25,\n",
       "        296.75,  300.25,  303.75,  307.25,  310.75,  314.25,  317.75,\n",
       "        321.25,  324.75,  328.25,  331.75,  335.25,  338.75,  342.25,\n",
       "        345.75,  349.25,  352.75,  356.25,  359.75,  363.25,  366.75,\n",
       "        370.25,  373.75,  377.25,  380.75,  384.25,  387.75,  391.25,\n",
       "        394.75,  398.25]), y=array([  0.00000000e+00,   0.00000000e+00,   0.00000000e+00,\n",
       "         0.00000000e+00,   0.00000000e+00,   0.00000000e+00,\n",
       "         0.00000000e+00,   0.00000000e+00,   0.00000000e+00,\n",
       "         0.00000000e+00,   0.00000000e+00,   0.00000000e+00,\n",
       "         0.00000000e+00,   0.00000000e+00,   0.00000000e+00,\n",
       "         0.00000000e+00,   0.00000000e+00,   0.00000000e+00,\n",
       "         0.00000000e+00,   2.85714286e-05,   2.85714286e-05,\n",
       "         0.00000000e+00,   1.14285714e-04,   3.71428571e-04,\n",
       "         4.28571429e-04,   7.42857143e-04,   1.62857143e-03,\n",
       "         1.97142857e-03,   2.65714286e-03,   4.37142857e-03,\n",
       "         5.74285714e-03,   7.62857143e-03,   1.02857143e-02,\n",
       "         1.25428571e-02,   1.54857143e-02,   1.73714286e-02,\n",
       "         1.77714286e-02,   1.98857143e-02,   2.24000000e-02,\n",
       "         2.09714286e-02,   1.85428571e-02,   1.84571429e-02,\n",
       "         1.64857143e-02,   1.48285714e-02,   1.26000000e-02,\n",
       "         1.01714286e-02,   8.31428571e-03,   6.57142857e-03,\n",
       "         4.82857143e-03,   3.74285714e-03,   3.02857143e-03,\n",
       "         1.82857143e-03,   1.51428571e-03,   9.14285714e-04,\n",
       "         4.00000000e-04,   3.71428571e-04,   2.00000000e-04,\n",
       "         1.71428571e-04,   1.14285714e-04,   1.14285714e-04,\n",
       "         5.71428571e-05,   0.00000000e+00,   0.00000000e+00,\n",
       "         0.00000000e+00,   0.00000000e+00,   2.85714286e-05,\n",
       "         0.00000000e+00,   0.00000000e+00,   0.00000000e+00,\n",
       "         0.00000000e+00,   0.00000000e+00,   0.00000000e+00,\n",
       "         0.00000000e+00,   0.00000000e+00,   0.00000000e+00,\n",
       "         0.00000000e+00,   0.00000000e+00,   0.00000000e+00,\n",
       "         0.00000000e+00,   0.00000000e+00,   0.00000000e+00,\n",
       "         0.00000000e+00,   0.00000000e+00,   0.00000000e+00,\n",
       "         0.00000000e+00,   0.00000000e+00,   0.00000000e+00,\n",
       "         0.00000000e+00,   0.00000000e+00,   0.00000000e+00,\n",
       "         0.00000000e+00,   0.00000000e+00,   0.00000000e+00,\n",
       "         0.00000000e+00,   0.00000000e+00,   0.00000000e+00,\n",
       "         0.00000000e+00,   0.00000000e+00,   0.00000000e+00,\n",
       "         0.00000000e+00])), Lines(colors=['black'], display_legend=True, interactions={'hover': 'tooltip'}, labels=['all'], scales={'x': LinearScale(), 'y': LinearScale()}, scales_metadata={'x': {'orientation': 'horizontal', 'dimension': 'x'}, 'y': {'orientation': 'vertical', 'dimension': 'y'}, 'color': {'dimension': 'color'}}, tooltip_style={'opacity': 0.9}, x=array([  51.75,   55.25,   58.75,   62.25,   65.75,   69.25,   72.75,\n",
       "         76.25,   79.75,   83.25,   86.75,   90.25,   93.75,   97.25,\n",
       "        100.75,  104.25,  107.75,  111.25,  114.75,  118.25,  121.75,\n",
       "        125.25,  128.75,  132.25,  135.75,  139.25,  142.75,  146.25,\n",
       "        149.75,  153.25,  156.75,  160.25,  163.75,  167.25,  170.75,\n",
       "        174.25,  177.75,  181.25,  184.75,  188.25,  191.75,  195.25,\n",
       "        198.75,  202.25,  205.75,  209.25,  212.75,  216.25,  219.75,\n",
       "        223.25,  226.75,  230.25,  233.75,  237.25,  240.75,  244.25,\n",
       "        247.75,  251.25,  254.75,  258.25,  261.75,  265.25,  268.75,\n",
       "        272.25,  275.75,  279.25,  282.75,  286.25,  289.75,  293.25,\n",
       "        296.75,  300.25,  303.75,  307.25,  310.75,  314.25,  317.75,\n",
       "        321.25,  324.75,  328.25,  331.75,  335.25,  338.75,  342.25,\n",
       "        345.75,  349.25,  352.75,  356.25,  359.75,  363.25,  366.75,\n",
       "        370.25,  373.75,  377.25,  380.75,  384.25,  387.75,  391.25,\n",
       "        394.75,  398.25]), y=array([  0.00000000e+00,   0.00000000e+00,   2.09786322e-06,\n",
       "         2.09786322e-06,   4.19572644e-06,   6.29358966e-06,\n",
       "         1.25871793e-05,   1.99297006e-05,   3.77615380e-05,\n",
       "         3.46147432e-05,   7.55230760e-05,   8.81102553e-05,\n",
       "         1.08039956e-04,   1.23773930e-04,   1.95101280e-04,\n",
       "         2.19226707e-04,   3.23070936e-04,   3.96496149e-04,\n",
       "         4.42649140e-04,   5.26563669e-04,   6.03135676e-04,\n",
       "         6.98588453e-04,   8.62221784e-04,   9.40891655e-04,\n",
       "         1.02585512e-03,   1.20102669e-03,   1.40451943e-03,\n",
       "         1.52095084e-03,   1.65521408e-03,   1.71185639e-03,\n",
       "         1.90695767e-03,   2.13982049e-03,   2.29401343e-03,\n",
       "         2.40834698e-03,   2.63386727e-03,   2.76498373e-03,\n",
       "         2.92337240e-03,   3.03980381e-03,   3.36182581e-03,\n",
       "         3.36707047e-03,   3.49399120e-03,   3.69433713e-03,\n",
       "         3.76671341e-03,   3.97649974e-03,   4.01216341e-03,\n",
       "         4.23139012e-03,   4.28803242e-03,   4.33838114e-03,\n",
       "         4.45586148e-03,   4.52928670e-03,   4.70236041e-03,\n",
       "         4.72543691e-03,   4.79886212e-03,   4.98557195e-03,\n",
       "         4.80830250e-03,   4.94990827e-03,   4.90585314e-03,\n",
       "         5.09570976e-03,   4.96983797e-03,   5.03067600e-03,\n",
       "         5.08731831e-03,   4.98242515e-03,   4.95410400e-03,\n",
       "         5.02438242e-03,   4.90060849e-03,   4.93941895e-03,\n",
       "         4.94151682e-03,   4.84501511e-03,   4.71599652e-03,\n",
       "         4.73382836e-03,   4.71075186e-03,   4.58592900e-03,\n",
       "         4.61110336e-03,   4.55865678e-03,   4.52928670e-03,\n",
       "         4.38558306e-03,   4.31950037e-03,   4.20202003e-03,\n",
       "         4.14013307e-03,   3.91566170e-03,   3.99118478e-03,\n",
       "         3.98908692e-03,   3.69119034e-03,   3.64293948e-03,\n",
       "         3.59363970e-03,   3.50343158e-03,   3.37651085e-03,\n",
       "         3.32721107e-03,   3.18036064e-03,   3.01987411e-03,\n",
       "         3.02721663e-03,   2.92442133e-03,   2.80798992e-03,\n",
       "         2.69994997e-03,   2.60659505e-03,   2.58981215e-03,\n",
       "         2.56044206e-03,   2.42512988e-03,   2.25415403e-03,\n",
       "         2.57827390e-03]))], scale_x=LinearScale(allow_padding=False, max=1.0, min=0.0), scale_y=LinearScale(allow_padding=False, max=1.0, min=0.0), title='Distribution of telomeres'))))"
      ]
     },
     "metadata": {},
     "output_type": "display_data"
    },
    {
     "name": "stdout",
     "output_type": "stream",
     "text": [
      "Mean of the smallest telomere length: 138 and its variance: 24\n",
      "Mean of the 2nd smallest telomere length: 161 and its variance: 21\n",
      "Mean of the 3rd smallest telomere length: 175 and its variance: 20\n",
      "Mean of the 4th smallest telomere length: 187 and its variance: 19\n"
     ]
    }
   ],
   "source": [
    "plt.figure(title='Distribution of telomeres')\n",
    "plt.clear()\n",
    "colors = ['red', 'magenta', 'blue', 'cyan', 'black']\n",
    "labels=['smallest', '2nd smallest', '3rd smallest', '4th smallest', 'all']\n",
    "i = 0\n",
    "for L in [L_1, L_2, L_3, L_4, L_all]:\n",
    "    hist, bin_edges = np.histogram(L, bins=100, range=(50., 400.), density=True)\n",
    "    plt.plot([0.5*(bin_edges[i]+bin_edges[i+1]) for i in range(len(bin_edges)-1)], hist, colors=colors[i:i+1], labels=labels[i:i+1])\n",
    "    i += 1\n",
    "plt.legend()\n",
    "plt.show()\n",
    "\n",
    "i = 0\n",
    "for L in [L_1, L_2, L_3, L_4]:\n",
    "    print('Mean of the %s telomere length: %.0f and its variance: %.0f' % (labels[i], np.mean(L), np.std(L)))\n",
    "    i += 1"
   ]
  },
  {
   "cell_type": "code",
   "execution_count": null,
   "metadata": {
    "collapsed": true
   },
   "outputs": [],
   "source": []
  }
 ],
 "metadata": {
  "kernelspec": {
   "display_name": "Python 3",
   "language": "python",
   "name": "python3"
  },
  "language_info": {
   "codemirror_mode": {
    "name": "ipython",
    "version": 3
   },
   "file_extension": ".py",
   "mimetype": "text/x-python",
   "name": "python",
   "nbconvert_exporter": "python",
   "pygments_lexer": "ipython3",
   "version": "3.6.3"
  }
 },
 "nbformat": 4,
 "nbformat_minor": 2
}
