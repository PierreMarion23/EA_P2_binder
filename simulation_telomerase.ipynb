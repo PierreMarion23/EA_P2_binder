{
 "cells": [
  {
   "cell_type": "markdown",
   "metadata": {},
   "source": [
    "# Project EA P2"
   ]
  },
  {
   "cell_type": "markdown",
   "metadata": {},
   "source": [
    "## References:\n",
    "1. The asymmetry of telomere replication contributes to replicative senescence heterogeneity\n",
    "2. The Length of the Shortest Telomere as the Major Determinant of the Onset of Replicative Senescence"
   ]
  },
  {
   "cell_type": "code",
   "execution_count": 1,
   "metadata": {
    "collapsed": true
   },
   "outputs": [],
   "source": [
    "from numpy import random as npr\n",
    "import random\n",
    "from matplotlib import pyplot as plt\n",
    "import numpy as np\n",
    "from scipy import stats as scs\n",
    "from ipywidgets import FloatSlider, IntSlider, Text, IntProgress, VBox, HBox\n",
    "from bqplot import pyplot as plt"
   ]
  },
  {
   "cell_type": "markdown",
   "metadata": {},
   "source": [
    "We want to determiine the parameters $\\beta$ and $L_0$ of the distribution to fit the following empirical statistical parameters:\n",
    "+ mode = 260 (taken from [1])\n",
    "+ skewness = 0.73 (taken from [2])"
   ]
  },
  {
   "cell_type": "code",
   "execution_count": 2,
   "metadata": {
    "collapsed": true
   },
   "outputs": [],
   "source": [
    "# Parameters from the model\n",
    "s = 3.5\n",
    "p = 0.026\n",
    "L_0 = 430\n",
    "beta = 1\n",
    "n = 1700    # maximal length allowed for one telomere (>> mode length, which is around L_0)"
   ]
  },
  {
   "cell_type": "code",
   "execution_count": 3,
   "metadata": {
    "collapsed": true
   },
   "outputs": [],
   "source": [
    "# gives the probability of action of telomerase as a function of telomere length\n",
    "def P(L, L_0, beta):\n",
    "    if L >= L_0:\n",
    "        return 1./(1 + beta*(L-L_0))\n",
    "    else:\n",
    "        return 1"
   ]
  },
  {
   "cell_type": "code",
   "execution_count": 4,
   "metadata": {
    "collapsed": true
   },
   "outputs": [],
   "source": [
    "# markov chain\n",
    "def evolution(L, L_0, beta):\n",
    "    prob = P(L, L_0, beta)\n",
    "    x = random.random()\n",
    "    if x >= prob:\n",
    "        return L - 2*s\n",
    "    else:\n",
    "        return L - 2*s + 2*npr.geometric(p=p)"
   ]
  },
  {
   "cell_type": "markdown",
   "metadata": {},
   "source": [
    "**Remark**: we modified a little bit the equations found in the paper to transform the state space from half integers to integers."
   ]
  },
  {
   "cell_type": "code",
   "execution_count": 5,
   "metadata": {},
   "outputs": [
    {
     "data": {
      "application/vnd.jupyter.widget-view+json": {
       "model_id": "821aab907f9649f3bbf9d294cf88f176",
       "version_major": 2,
       "version_minor": 0
      },
      "text/html": [
       "<p>Failed to display Jupyter Widget of type <code>VBox</code>.</p>\n",
       "<p>\n",
       "  If you're reading this message in the Jupyter Notebook or JupyterLab Notebook, it may mean\n",
       "  that the widgets JavaScript is still loading. If this message persists, it\n",
       "  likely means that the widgets JavaScript library is either not installed or\n",
       "  not enabled. See the <a href=\"https://ipywidgets.readthedocs.io/en/stable/user_install.html\">Jupyter\n",
       "  Widgets Documentation</a> for setup instructions.\n",
       "</p>\n",
       "<p>\n",
       "  If you're reading this message in another frontend (for example, a static\n",
       "  rendering on GitHub or <a href=\"https://nbviewer.jupyter.org/\">NBViewer</a>),\n",
       "  it may mean that your frontend doesn't currently support widgets.\n",
       "</p>\n"
      ],
      "text/plain": [
       "VBox(children=(Figure(axes=[Axis(scale=LinearScale()), Axis(orientation='vertical', scale=LinearScale())], fig_margin={'top': 60, 'bottom': 60, 'left': 60, 'right': 60}, layout=Layout(min_width='125px'), marks=[Lines(colors=['#1f77b4', '#ff7f0e', '#2ca02c', '#d62728', '#9467bd', '#8c564b', '#e377c2', '#7f7f7f', '#bcbd22', '#17becf'], display_legend=True, interactions={'hover': 'tooltip'}, labels=['Une réalisation'], scales={'x': LinearScale(), 'y': LinearScale()}, scales_metadata={'x': {'orientation': 'horizontal', 'dimension': 'x'}, 'y': {'orientation': 'vertical', 'dimension': 'y'}, 'color': {'dimension': 'color'}}, tooltip_style={'opacity': 0.9}, x=array([  0,   1,   2,   3,   4,   5,   6,   7,   8,   9,  10,  11,  12,\n",
       "        13,  14,  15,  16,  17,  18,  19,  20,  21,  22,  23,  24,  25,\n",
       "        26,  27,  28,  29,  30,  31,  32,  33,  34,  35,  36,  37,  38,\n",
       "        39,  40,  41,  42,  43,  44,  45,  46,  47,  48,  49,  50,  51,\n",
       "        52,  53,  54,  55,  56,  57,  58,  59,  60,  61,  62,  63,  64,\n",
       "        65,  66,  67,  68,  69,  70,  71,  72,  73,  74,  75,  76,  77,\n",
       "        78,  79,  80,  81,  82,  83,  84,  85,  86,  87,  88,  89,  90,\n",
       "        91,  92,  93,  94,  95,  96,  97,  98,  99, 100]), y=array([ 450.,  443.,  436.,  429.,  692.,  685.,  678.,  671.,  664.,\n",
       "        657.,  650.,  643.,  636.,  629.,  622.,  615.,  608.,  601.,\n",
       "        594.,  587.,  580.,  573.,  566.,  559.,  552.,  545.,  538.,\n",
       "        531.,  524.,  517.,  510.,  503.,  496.,  489.,  482.,  475.,\n",
       "        468.,  461.,  454.,  447.,  440.,  433.,  426.,  511.,  504.,\n",
       "        497.,  490.,  483.,  476.,  469.,  462.,  455.,  448.,  441.,\n",
       "        434.,  427.,  546.,  539.,  532.,  525.,  518.,  511.,  504.,\n",
       "        497.,  490.,  483.,  476.,  469.,  462.,  455.,  448.,  441.,\n",
       "        434.,  427.,  454.,  447.,  440.,  499.,  492.,  485.,  478.,\n",
       "        471.,  464.,  457.,  450.,  443.,  436.,  429.,  570.,  563.,\n",
       "        638.,  631.,  624.,  617.,  610.,  603.,  596.,  589.,  582.,\n",
       "        575.,  568.])), Lines(colors=['red'], display_legend=True, interactions={'hover': 'tooltip'}, labels=['L_0'], scales={'x': LinearScale(), 'y': LinearScale()}, scales_metadata={'x': {'orientation': 'horizontal', 'dimension': 'x'}, 'y': {'orientation': 'vertical', 'dimension': 'y'}, 'color': {'dimension': 'color'}}, tooltip_style={'opacity': 0.9}, x=array([  1, 101]), y=array([430, 430]))], scale_x=LinearScale(allow_padding=False, max=1.0, min=0.0), scale_y=LinearScale(allow_padding=False, max=1.0, min=0.0), title='Line Chart'), Toolbar(figure=Figure(axes=[Axis(scale=LinearScale()), Axis(orientation='vertical', scale=LinearScale())], fig_margin={'top': 60, 'bottom': 60, 'left': 60, 'right': 60}, layout=Layout(min_width='125px'), marks=[Lines(colors=['#1f77b4', '#ff7f0e', '#2ca02c', '#d62728', '#9467bd', '#8c564b', '#e377c2', '#7f7f7f', '#bcbd22', '#17becf'], display_legend=True, interactions={'hover': 'tooltip'}, labels=['Une réalisation'], scales={'x': LinearScale(), 'y': LinearScale()}, scales_metadata={'x': {'orientation': 'horizontal', 'dimension': 'x'}, 'y': {'orientation': 'vertical', 'dimension': 'y'}, 'color': {'dimension': 'color'}}, tooltip_style={'opacity': 0.9}, x=array([  0,   1,   2,   3,   4,   5,   6,   7,   8,   9,  10,  11,  12,\n",
       "        13,  14,  15,  16,  17,  18,  19,  20,  21,  22,  23,  24,  25,\n",
       "        26,  27,  28,  29,  30,  31,  32,  33,  34,  35,  36,  37,  38,\n",
       "        39,  40,  41,  42,  43,  44,  45,  46,  47,  48,  49,  50,  51,\n",
       "        52,  53,  54,  55,  56,  57,  58,  59,  60,  61,  62,  63,  64,\n",
       "        65,  66,  67,  68,  69,  70,  71,  72,  73,  74,  75,  76,  77,\n",
       "        78,  79,  80,  81,  82,  83,  84,  85,  86,  87,  88,  89,  90,\n",
       "        91,  92,  93,  94,  95,  96,  97,  98,  99, 100]), y=array([ 450.,  443.,  436.,  429.,  692.,  685.,  678.,  671.,  664.,\n",
       "        657.,  650.,  643.,  636.,  629.,  622.,  615.,  608.,  601.,\n",
       "        594.,  587.,  580.,  573.,  566.,  559.,  552.,  545.,  538.,\n",
       "        531.,  524.,  517.,  510.,  503.,  496.,  489.,  482.,  475.,\n",
       "        468.,  461.,  454.,  447.,  440.,  433.,  426.,  511.,  504.,\n",
       "        497.,  490.,  483.,  476.,  469.,  462.,  455.,  448.,  441.,\n",
       "        434.,  427.,  546.,  539.,  532.,  525.,  518.,  511.,  504.,\n",
       "        497.,  490.,  483.,  476.,  469.,  462.,  455.,  448.,  441.,\n",
       "        434.,  427.,  454.,  447.,  440.,  499.,  492.,  485.,  478.,\n",
       "        471.,  464.,  457.,  450.,  443.,  436.,  429.,  570.,  563.,\n",
       "        638.,  631.,  624.,  617.,  610.,  603.,  596.,  589.,  582.,\n",
       "        575.,  568.])), Lines(colors=['red'], display_legend=True, interactions={'hover': 'tooltip'}, labels=['L_0'], scales={'x': LinearScale(), 'y': LinearScale()}, scales_metadata={'x': {'orientation': 'horizontal', 'dimension': 'x'}, 'y': {'orientation': 'vertical', 'dimension': 'y'}, 'color': {'dimension': 'color'}}, tooltip_style={'opacity': 0.9}, x=array([  1, 101]), y=array([430, 430]))], scale_x=LinearScale(allow_padding=False, max=1.0, min=0.0), scale_y=LinearScale(allow_padding=False, max=1.0, min=0.0), title='Line Chart'))))"
      ]
     },
     "metadata": {},
     "output_type": "display_data"
    }
   ],
   "source": [
    "# an example of trajectory\n",
    "L = [450]\n",
    "n_ex = 100\n",
    "for k in range(n_ex):\n",
    "    L.append(evolution(L[-1], L_0, beta))\n",
    "plt.figure(2, title='Line Chart')\n",
    "plt.clear()\n",
    "plt.plot(range(n_ex+1), L, labels=['Une réalisation'])\n",
    "plt.plot([1, n_ex+1], [L_0, L_0], colors=['red'], labels=['L_0'])\n",
    "plt.legend()\n",
    "plt.show()"
   ]
  },
  {
   "cell_type": "markdown",
   "metadata": {},
   "source": [
    "## Approximation of the distribution using simulation of the Markov chain"
   ]
  },
  {
   "cell_type": "code",
   "execution_count": 6,
   "metadata": {},
   "outputs": [
    {
     "data": {
      "application/vnd.jupyter.widget-view+json": {
       "model_id": "e66935cf77424aeb961a48ae52f8b0e6",
       "version_major": 2,
       "version_minor": 0
      },
      "text/html": [
       "<p>Failed to display Jupyter Widget of type <code>VBox</code>.</p>\n",
       "<p>\n",
       "  If you're reading this message in the Jupyter Notebook or JupyterLab Notebook, it may mean\n",
       "  that the widgets JavaScript is still loading. If this message persists, it\n",
       "  likely means that the widgets JavaScript library is either not installed or\n",
       "  not enabled. See the <a href=\"https://ipywidgets.readthedocs.io/en/stable/user_install.html\">Jupyter\n",
       "  Widgets Documentation</a> for setup instructions.\n",
       "</p>\n",
       "<p>\n",
       "  If you're reading this message in another frontend (for example, a static\n",
       "  rendering on GitHub or <a href=\"https://nbviewer.jupyter.org/\">NBViewer</a>),\n",
       "  it may mean that your frontend doesn't currently support widgets.\n",
       "</p>\n"
      ],
      "text/plain": [
       "VBox(children=(Figure(axes=[Axis(orientation='vertical', scale=LinearScale()), Axis(scale=LinearScale())], fig_margin={'top': 60, 'bottom': 60, 'left': 60, 'right': 60}, layout=Layout(min_width='125px'), marks=[Hist(bins=86, colors=['#1f77b4', '#ff7f0e', '#2ca02c', '#d62728', '#9467bd', '#8c564b', '#e377c2', '#7f7f7f', '#bcbd22', '#17becf'], interactions={'hover': 'tooltip'}, sample=array([ 466.,  432.,  462., ...,  426.,  432.,  472.]), scales={'count': LinearScale(), 'sample': LinearScale()}, scales_metadata={'sample': {'orientation': 'horizontal', 'dimension': 'x'}, 'count': {'orientation': 'vertical', 'dimension': 'y'}}, tooltip_style={'opacity': 0.9})], scale_x=LinearScale(allow_padding=False, max=1.0, min=0.0), scale_y=LinearScale(allow_padding=False, max=1.0, min=0.0), title='Figure 3'), Toolbar(figure=Figure(axes=[Axis(orientation='vertical', scale=LinearScale()), Axis(scale=LinearScale())], fig_margin={'top': 60, 'bottom': 60, 'left': 60, 'right': 60}, layout=Layout(min_width='125px'), marks=[Hist(bins=86, colors=['#1f77b4', '#ff7f0e', '#2ca02c', '#d62728', '#9467bd', '#8c564b', '#e377c2', '#7f7f7f', '#bcbd22', '#17becf'], interactions={'hover': 'tooltip'}, sample=array([ 466.,  432.,  462., ...,  426.,  432.,  472.]), scales={'count': LinearScale(), 'sample': LinearScale()}, scales_metadata={'sample': {'orientation': 'horizontal', 'dimension': 'x'}, 'count': {'orientation': 'vertical', 'dimension': 'y'}}, tooltip_style={'opacity': 0.9})], scale_x=LinearScale(allow_padding=False, max=1.0, min=0.0), scale_y=LinearScale(allow_padding=False, max=1.0, min=0.0), title='Figure 3'))))"
      ]
     },
     "metadata": {},
     "output_type": "display_data"
    }
   ],
   "source": [
    "# computes histogram from many independant draws from the Markov chain\n",
    "L = 450\n",
    "L_realisation = []\n",
    "n_realisation = 10**4\n",
    "len_buffer = 500\n",
    "for i in range(n_realisation):\n",
    "    for k in range(len_buffer):\n",
    "        L = evolution(L, L_0, beta)\n",
    "    L_realisation.append(L)\n",
    "plt.figure(3)\n",
    "plt.hist(L_realisation, bins=int(4*(n_realisation)**(1/3)), range=(0, max(L_realisation)))\n",
    "plt.show()"
   ]
  },
  {
   "cell_type": "code",
   "execution_count": 7,
   "metadata": {},
   "outputs": [
    {
     "data": {
      "application/vnd.jupyter.widget-view+json": {
       "model_id": "c23edef5c3ae499881c9dda2d6c913c3",
       "version_major": 2,
       "version_minor": 0
      },
      "text/html": [
       "<p>Failed to display Jupyter Widget of type <code>VBox</code>.</p>\n",
       "<p>\n",
       "  If you're reading this message in the Jupyter Notebook or JupyterLab Notebook, it may mean\n",
       "  that the widgets JavaScript is still loading. If this message persists, it\n",
       "  likely means that the widgets JavaScript library is either not installed or\n",
       "  not enabled. See the <a href=\"https://ipywidgets.readthedocs.io/en/stable/user_install.html\">Jupyter\n",
       "  Widgets Documentation</a> for setup instructions.\n",
       "</p>\n",
       "<p>\n",
       "  If you're reading this message in another frontend (for example, a static\n",
       "  rendering on GitHub or <a href=\"https://nbviewer.jupyter.org/\">NBViewer</a>),\n",
       "  it may mean that your frontend doesn't currently support widgets.\n",
       "</p>\n"
      ],
      "text/plain": [
       "VBox(children=(Figure(axes=[Axis(scale=LinearScale()), Axis(orientation='vertical', scale=LinearScale())], fig_margin={'top': 60, 'bottom': 60, 'left': 60, 'right': 60}, layout=Layout(min_width='125px'), marks=[Lines(colors=['#1f77b4', '#ff7f0e', '#2ca02c', '#d62728', '#9467bd', '#8c564b', '#e377c2', '#7f7f7f', '#bcbd22', '#17becf'], interactions={'hover': 'tooltip'}, scales={'x': LinearScale(), 'y': LinearScale()}, scales_metadata={'x': {'orientation': 'horizontal', 'dimension': 'x'}, 'y': {'orientation': 'vertical', 'dimension': 'y'}, 'color': {'dimension': 'color'}}, tooltip_style={'opacity': 0.9}, x=array([    8.13953488,    24.41860465,    40.69767442,    56.97674419,\n",
       "          73.25581395,    89.53488372,   105.81395349,   122.09302326,\n",
       "         138.37209302,   154.65116279,   170.93023256,   187.20930233,\n",
       "         203.48837209,   219.76744186,   236.04651163,   252.3255814 ,\n",
       "         268.60465116,   284.88372093,   301.1627907 ,   317.44186047,\n",
       "         333.72093023,   350.        ,   366.27906977,   382.55813953,\n",
       "         398.8372093 ,   415.11627907,   431.39534884,   447.6744186 ,\n",
       "         463.95348837,   480.23255814,   496.51162791,   512.79069767,\n",
       "         529.06976744,   545.34883721,   561.62790698,   577.90697674,\n",
       "         594.18604651,   610.46511628,   626.74418605,   643.02325581,\n",
       "         659.30232558,   675.58139535,   691.86046512,   708.13953488,\n",
       "         724.41860465,   740.69767442,   756.97674419,   773.25581395,\n",
       "         789.53488372,   805.81395349,   822.09302326,   838.37209302,\n",
       "         854.65116279,   870.93023256,   887.20930233,   903.48837209,\n",
       "         919.76744186,   936.04651163,   952.3255814 ,   968.60465116,\n",
       "         984.88372093,  1001.1627907 ,  1017.44186047,  1033.72093023,\n",
       "        1050.        ,  1066.27906977,  1082.55813953,  1098.8372093 ,\n",
       "        1115.11627907,  1131.39534884,  1147.6744186 ,  1163.95348837,\n",
       "        1180.23255814,  1196.51162791,  1212.79069767,  1229.06976744,\n",
       "        1245.34883721,  1261.62790698,  1277.90697674,  1294.18604651,\n",
       "        1310.46511628,  1326.74418605,  1343.02325581,  1359.30232558,\n",
       "        1375.58139535,  1391.86046512]), y=array([  0.00000000e+00,   0.00000000e+00,   0.00000000e+00,\n",
       "         0.00000000e+00,   0.00000000e+00,   0.00000000e+00,\n",
       "         0.00000000e+00,   0.00000000e+00,   0.00000000e+00,\n",
       "         0.00000000e+00,   0.00000000e+00,   0.00000000e+00,\n",
       "         0.00000000e+00,   0.00000000e+00,   0.00000000e+00,\n",
       "         0.00000000e+00,   0.00000000e+00,   0.00000000e+00,\n",
       "         0.00000000e+00,   0.00000000e+00,   0.00000000e+00,\n",
       "         0.00000000e+00,   0.00000000e+00,   0.00000000e+00,\n",
       "         0.00000000e+00,   1.22857143e-04,   8.48942857e-03,\n",
       "         8.10242857e-03,   8.54471429e-03,   6.22885714e-03,\n",
       "         5.30742857e-03,   4.33071429e-03,   3.72871429e-03,\n",
       "         2.97314286e-03,   2.34042857e-03,   2.31585714e-03,\n",
       "         1.72000000e-03,   1.33914286e-03,   1.05042857e-03,\n",
       "         7.80142857e-04,   6.51142857e-04,   6.45000000e-04,\n",
       "         4.60714286e-04,   4.54571429e-04,   3.62428571e-04,\n",
       "         2.88714286e-04,   1.84285714e-04,   1.53571429e-04,\n",
       "         1.04428571e-04,   2.02714286e-04,   1.04428571e-04,\n",
       "         8.60000000e-05,   5.52857143e-05,   4.91428571e-05,\n",
       "         8.60000000e-05,   6.14285714e-06,   5.52857143e-05,\n",
       "         2.45714286e-05,   1.84285714e-05,   1.22857143e-05,\n",
       "         6.14285714e-06,   6.14285714e-06,   0.00000000e+00,\n",
       "         6.14285714e-06,   0.00000000e+00,   0.00000000e+00,\n",
       "         6.14285714e-06,   6.14285714e-06,   0.00000000e+00,\n",
       "         0.00000000e+00,   6.14285714e-06,   0.00000000e+00,\n",
       "         6.14285714e-06,   0.00000000e+00,   6.14285714e-06,\n",
       "         0.00000000e+00,   0.00000000e+00,   0.00000000e+00,\n",
       "         0.00000000e+00,   0.00000000e+00,   0.00000000e+00,\n",
       "         0.00000000e+00,   0.00000000e+00,   0.00000000e+00,\n",
       "         0.00000000e+00,   0.00000000e+00]))], scale_x=LinearScale(allow_padding=False, max=1.0, min=0.0), scale_y=LinearScale(allow_padding=False, max=1.0, min=0.0)), Toolbar(figure=Figure(axes=[Axis(scale=LinearScale()), Axis(orientation='vertical', scale=LinearScale())], fig_margin={'top': 60, 'bottom': 60, 'left': 60, 'right': 60}, layout=Layout(min_width='125px'), marks=[Lines(colors=['#1f77b4', '#ff7f0e', '#2ca02c', '#d62728', '#9467bd', '#8c564b', '#e377c2', '#7f7f7f', '#bcbd22', '#17becf'], interactions={'hover': 'tooltip'}, scales={'x': LinearScale(), 'y': LinearScale()}, scales_metadata={'x': {'orientation': 'horizontal', 'dimension': 'x'}, 'y': {'orientation': 'vertical', 'dimension': 'y'}, 'color': {'dimension': 'color'}}, tooltip_style={'opacity': 0.9}, x=array([    8.13953488,    24.41860465,    40.69767442,    56.97674419,\n",
       "          73.25581395,    89.53488372,   105.81395349,   122.09302326,\n",
       "         138.37209302,   154.65116279,   170.93023256,   187.20930233,\n",
       "         203.48837209,   219.76744186,   236.04651163,   252.3255814 ,\n",
       "         268.60465116,   284.88372093,   301.1627907 ,   317.44186047,\n",
       "         333.72093023,   350.        ,   366.27906977,   382.55813953,\n",
       "         398.8372093 ,   415.11627907,   431.39534884,   447.6744186 ,\n",
       "         463.95348837,   480.23255814,   496.51162791,   512.79069767,\n",
       "         529.06976744,   545.34883721,   561.62790698,   577.90697674,\n",
       "         594.18604651,   610.46511628,   626.74418605,   643.02325581,\n",
       "         659.30232558,   675.58139535,   691.86046512,   708.13953488,\n",
       "         724.41860465,   740.69767442,   756.97674419,   773.25581395,\n",
       "         789.53488372,   805.81395349,   822.09302326,   838.37209302,\n",
       "         854.65116279,   870.93023256,   887.20930233,   903.48837209,\n",
       "         919.76744186,   936.04651163,   952.3255814 ,   968.60465116,\n",
       "         984.88372093,  1001.1627907 ,  1017.44186047,  1033.72093023,\n",
       "        1050.        ,  1066.27906977,  1082.55813953,  1098.8372093 ,\n",
       "        1115.11627907,  1131.39534884,  1147.6744186 ,  1163.95348837,\n",
       "        1180.23255814,  1196.51162791,  1212.79069767,  1229.06976744,\n",
       "        1245.34883721,  1261.62790698,  1277.90697674,  1294.18604651,\n",
       "        1310.46511628,  1326.74418605,  1343.02325581,  1359.30232558,\n",
       "        1375.58139535,  1391.86046512]), y=array([  0.00000000e+00,   0.00000000e+00,   0.00000000e+00,\n",
       "         0.00000000e+00,   0.00000000e+00,   0.00000000e+00,\n",
       "         0.00000000e+00,   0.00000000e+00,   0.00000000e+00,\n",
       "         0.00000000e+00,   0.00000000e+00,   0.00000000e+00,\n",
       "         0.00000000e+00,   0.00000000e+00,   0.00000000e+00,\n",
       "         0.00000000e+00,   0.00000000e+00,   0.00000000e+00,\n",
       "         0.00000000e+00,   0.00000000e+00,   0.00000000e+00,\n",
       "         0.00000000e+00,   0.00000000e+00,   0.00000000e+00,\n",
       "         0.00000000e+00,   1.22857143e-04,   8.48942857e-03,\n",
       "         8.10242857e-03,   8.54471429e-03,   6.22885714e-03,\n",
       "         5.30742857e-03,   4.33071429e-03,   3.72871429e-03,\n",
       "         2.97314286e-03,   2.34042857e-03,   2.31585714e-03,\n",
       "         1.72000000e-03,   1.33914286e-03,   1.05042857e-03,\n",
       "         7.80142857e-04,   6.51142857e-04,   6.45000000e-04,\n",
       "         4.60714286e-04,   4.54571429e-04,   3.62428571e-04,\n",
       "         2.88714286e-04,   1.84285714e-04,   1.53571429e-04,\n",
       "         1.04428571e-04,   2.02714286e-04,   1.04428571e-04,\n",
       "         8.60000000e-05,   5.52857143e-05,   4.91428571e-05,\n",
       "         8.60000000e-05,   6.14285714e-06,   5.52857143e-05,\n",
       "         2.45714286e-05,   1.84285714e-05,   1.22857143e-05,\n",
       "         6.14285714e-06,   6.14285714e-06,   0.00000000e+00,\n",
       "         6.14285714e-06,   0.00000000e+00,   0.00000000e+00,\n",
       "         6.14285714e-06,   6.14285714e-06,   0.00000000e+00,\n",
       "         0.00000000e+00,   6.14285714e-06,   0.00000000e+00,\n",
       "         6.14285714e-06,   0.00000000e+00,   6.14285714e-06,\n",
       "         0.00000000e+00,   0.00000000e+00,   0.00000000e+00,\n",
       "         0.00000000e+00,   0.00000000e+00,   0.00000000e+00,\n",
       "         0.00000000e+00,   0.00000000e+00,   0.00000000e+00,\n",
       "         0.00000000e+00,   0.00000000e+00]))], scale_x=LinearScale(allow_padding=False, max=1.0, min=0.0), scale_y=LinearScale(allow_padding=False, max=1.0, min=0.0)))))"
      ]
     },
     "metadata": {},
     "output_type": "display_data"
    }
   ],
   "source": [
    "# compute a curve from the histogram\n",
    "plt.figure()\n",
    "hist, bin_edges = np.histogram(L_realisation, bins=int(4*(n_realisation)**(1/3)), range=(0., 1400.), density=True)\n",
    "plt.plot([0.5*(bin_edges[i]+bin_edges[i+1]) for i in range(len(bin_edges)-1)], hist)\n",
    "plt.show()"
   ]
  },
  {
   "cell_type": "code",
   "execution_count": 8,
   "metadata": {},
   "outputs": [
    {
     "name": "stdout",
     "output_type": "stream",
     "text": [
      "Skewness:1.906103034943918\n",
      "Mode:[ 439.53488372  455.81395349]\n"
     ]
    }
   ],
   "source": [
    "# Empirical computation of the mode and the skewness\n",
    "print('Skewness:' + str(scs.skew(L_realisation)))\n",
    "print('Mode:' + str(bin_edges[np.argmax(hist)-1: np.argmax(hist)+1]))"
   ]
  },
  {
   "cell_type": "markdown",
   "metadata": {},
   "source": [
    "## Iterative computation of the distribution"
   ]
  },
  {
   "cell_type": "markdown",
   "metadata": {},
   "source": [
    "We use the following formula to compute iteratively the distribution, where $\\Pi_n$ designate the value of the distribution at the $n$-th iteration."
   ]
  },
  {
   "cell_type": "markdown",
   "metadata": {},
   "source": [
    "$$\\Pi_{n+1}(i)= \\Pi_{n}(i+3.5)(1-P_{n}(i+3.5))+ \\sum_{k=1}^{i+3.5}p (1-p)^{k-1}P_{n}(i+3.5-k) \\Pi_{n}(i+3.5-k)$$"
   ]
  },
  {
   "cell_type": "code",
   "execution_count": 9,
   "metadata": {
    "collapsed": true
   },
   "outputs": [],
   "source": [
    "# useful for quick computation\n",
    "def precompute_arrays(L_0, beta):\n",
    "    geom = np.array([p*(1-p)**k for k in range(n)])\n",
    "    probas = np.array([P(k, L_0, beta) for k in range(n)])\n",
    "    return geom, probas"
   ]
  },
  {
   "cell_type": "code",
   "execution_count": 10,
   "metadata": {
    "collapsed": true
   },
   "outputs": [],
   "source": [
    "# one iteration from the distribution computation\n",
    "def iter_distr(pi, L_0, beta, geom, probas):\n",
    "    new_pi = np.array([0.]*len(pi))\n",
    "    for i in range(len(pi)-7):\n",
    "        pi_i = pi[i+7]*(1-P(i+7, L_0, beta)) + np.sum(geom[:int(i/2.+3.5)]*probas[i+5::-2]*pi[i+5::-2])\n",
    "        new_pi[i] = pi_i\n",
    "    for i in range(len(pi)-7, len(pi)):\n",
    "        new_pi[i] = 0.\n",
    "    return new_pi"
   ]
  },
  {
   "cell_type": "code",
   "execution_count": 11,
   "metadata": {
    "collapsed": true
   },
   "outputs": [],
   "source": [
    "# Many iterations for the distribution computation + graph plot + skewness and mode computation\n",
    "def evol_distr(n_iter, pi, L_0, beta, verbose=True):\n",
    "    geom, probas = precompute_arrays(L_0, beta)\n",
    "    pi2 = np.copy(pi)\n",
    "    for k in range(n_iter):\n",
    "        pi2 = iter_distr(pi2, L_0, beta, geom, probas)\n",
    "        pi2 = pi2 / np.sum(pi2)\n",
    "    \n",
    "    r = np.array(range(n))/2\n",
    "    if verbose:\n",
    "        plt.figure()\n",
    "        plt.plot(r, pi2)\n",
    "        plt.show()\n",
    "    mode = r[np.argmax(pi2)]\n",
    "    mean = np.sum(r*pi2)\n",
    "    std = np.sqrt(np.sum(r**2*pi2)-mean**2)\n",
    "    skewness = np.sum(((r-mean)/std)**3*pi2)\n",
    "    \n",
    "    if verbose:\n",
    "        print('Mode: ' + str(mode))\n",
    "        print('Skewness: ' + str(skewness))\n",
    "        print('Check sum==1: sum=' + str(np.sum(pi2)))\n",
    "    return pi2, mode, skewness"
   ]
  },
  {
   "cell_type": "markdown",
   "metadata": {},
   "source": [
    "### Using a piecewise constant function as an initialization"
   ]
  },
  {
   "cell_type": "code",
   "execution_count": 12,
   "metadata": {
    "collapsed": true
   },
   "outputs": [],
   "source": [
    "pi = np.array([0.]*n)\n",
    "for k in range(L_0, 2*L_0):\n",
    "    pi[k] = 1./L_0"
   ]
  },
  {
   "cell_type": "code",
   "execution_count": 13,
   "metadata": {},
   "outputs": [
    {
     "data": {
      "application/vnd.jupyter.widget-view+json": {
       "model_id": "b62090368e4748d2b6f8bf97951e3bfd",
       "version_major": 2,
       "version_minor": 0
      },
      "text/html": [
       "<p>Failed to display Jupyter Widget of type <code>VBox</code>.</p>\n",
       "<p>\n",
       "  If you're reading this message in the Jupyter Notebook or JupyterLab Notebook, it may mean\n",
       "  that the widgets JavaScript is still loading. If this message persists, it\n",
       "  likely means that the widgets JavaScript library is either not installed or\n",
       "  not enabled. See the <a href=\"https://ipywidgets.readthedocs.io/en/stable/user_install.html\">Jupyter\n",
       "  Widgets Documentation</a> for setup instructions.\n",
       "</p>\n",
       "<p>\n",
       "  If you're reading this message in another frontend (for example, a static\n",
       "  rendering on GitHub or <a href=\"https://nbviewer.jupyter.org/\">NBViewer</a>),\n",
       "  it may mean that your frontend doesn't currently support widgets.\n",
       "</p>\n"
      ],
      "text/plain": [
       "VBox(children=(Figure(axes=[Axis(scale=LinearScale()), Axis(orientation='vertical', scale=LinearScale())], fig_margin={'top': 60, 'bottom': 60, 'left': 60, 'right': 60}, layout=Layout(min_width='125px'), marks=[Lines(colors=['#1f77b4', '#ff7f0e', '#2ca02c', '#d62728', '#9467bd', '#8c564b', '#e377c2', '#7f7f7f', '#bcbd22', '#17becf'], interactions={'hover': 'tooltip'}, scales={'x': LinearScale(), 'y': LinearScale()}, scales_metadata={'x': {'orientation': 'horizontal', 'dimension': 'x'}, 'y': {'orientation': 'vertical', 'dimension': 'y'}, 'color': {'dimension': 'color'}}, tooltip_style={'opacity': 0.9}, x=array([   0,    1,    2, ..., 1697, 1698, 1699]), y=array([ 0.,  0.,  0., ...,  0.,  0.,  0.]))], scale_x=LinearScale(allow_padding=False, max=1.0, min=0.0), scale_y=LinearScale(allow_padding=False, max=1.0, min=0.0)), Toolbar(figure=Figure(axes=[Axis(scale=LinearScale()), Axis(orientation='vertical', scale=LinearScale())], fig_margin={'top': 60, 'bottom': 60, 'left': 60, 'right': 60}, layout=Layout(min_width='125px'), marks=[Lines(colors=['#1f77b4', '#ff7f0e', '#2ca02c', '#d62728', '#9467bd', '#8c564b', '#e377c2', '#7f7f7f', '#bcbd22', '#17becf'], interactions={'hover': 'tooltip'}, scales={'x': LinearScale(), 'y': LinearScale()}, scales_metadata={'x': {'orientation': 'horizontal', 'dimension': 'x'}, 'y': {'orientation': 'vertical', 'dimension': 'y'}, 'color': {'dimension': 'color'}}, tooltip_style={'opacity': 0.9}, x=array([   0,    1,    2, ..., 1697, 1698, 1699]), y=array([ 0.,  0.,  0., ...,  0.,  0.,  0.]))], scale_x=LinearScale(allow_padding=False, max=1.0, min=0.0), scale_y=LinearScale(allow_padding=False, max=1.0, min=0.0)))))"
      ]
     },
     "metadata": {},
     "output_type": "display_data"
    }
   ],
   "source": [
    "plt.figure()\n",
    "plt.plot(range(n), pi)\n",
    "plt.show()"
   ]
  },
  {
   "cell_type": "code",
   "execution_count": 14,
   "metadata": {},
   "outputs": [
    {
     "data": {
      "application/vnd.jupyter.widget-view+json": {
       "model_id": "3638c0903d6246b38396f7f0d8d55600",
       "version_major": 2,
       "version_minor": 0
      },
      "text/html": [
       "<p>Failed to display Jupyter Widget of type <code>VBox</code>.</p>\n",
       "<p>\n",
       "  If you're reading this message in the Jupyter Notebook or JupyterLab Notebook, it may mean\n",
       "  that the widgets JavaScript is still loading. If this message persists, it\n",
       "  likely means that the widgets JavaScript library is either not installed or\n",
       "  not enabled. See the <a href=\"https://ipywidgets.readthedocs.io/en/stable/user_install.html\">Jupyter\n",
       "  Widgets Documentation</a> for setup instructions.\n",
       "</p>\n",
       "<p>\n",
       "  If you're reading this message in another frontend (for example, a static\n",
       "  rendering on GitHub or <a href=\"https://nbviewer.jupyter.org/\">NBViewer</a>),\n",
       "  it may mean that your frontend doesn't currently support widgets.\n",
       "</p>\n"
      ],
      "text/plain": [
       "VBox(children=(Figure(axes=[Axis(scale=LinearScale()), Axis(orientation='vertical', scale=LinearScale())], fig_margin={'top': 60, 'bottom': 60, 'left': 60, 'right': 60}, layout=Layout(min_width='125px'), marks=[Lines(colors=['#1f77b4', '#ff7f0e', '#2ca02c', '#d62728', '#9467bd', '#8c564b', '#e377c2', '#7f7f7f', '#bcbd22', '#17becf'], interactions={'hover': 'tooltip'}, scales={'x': LinearScale(), 'y': LinearScale()}, scales_metadata={'x': {'orientation': 'horizontal', 'dimension': 'x'}, 'y': {'orientation': 'vertical', 'dimension': 'y'}, 'color': {'dimension': 'color'}}, tooltip_style={'opacity': 0.9}, x=array([  0.00000000e+00,   5.00000000e-01,   1.00000000e+00, ...,\n",
       "         8.48500000e+02,   8.49000000e+02,   8.49500000e+02]), y=array([ 0.,  0.,  0., ...,  0.,  0.,  0.]))], scale_x=LinearScale(allow_padding=False, max=1.0, min=0.0), scale_y=LinearScale(allow_padding=False, max=1.0, min=0.0)), Toolbar(figure=Figure(axes=[Axis(scale=LinearScale()), Axis(orientation='vertical', scale=LinearScale())], fig_margin={'top': 60, 'bottom': 60, 'left': 60, 'right': 60}, layout=Layout(min_width='125px'), marks=[Lines(colors=['#1f77b4', '#ff7f0e', '#2ca02c', '#d62728', '#9467bd', '#8c564b', '#e377c2', '#7f7f7f', '#bcbd22', '#17becf'], interactions={'hover': 'tooltip'}, scales={'x': LinearScale(), 'y': LinearScale()}, scales_metadata={'x': {'orientation': 'horizontal', 'dimension': 'x'}, 'y': {'orientation': 'vertical', 'dimension': 'y'}, 'color': {'dimension': 'color'}}, tooltip_style={'opacity': 0.9}, x=array([  0.00000000e+00,   5.00000000e-01,   1.00000000e+00, ...,\n",
       "         8.48500000e+02,   8.49000000e+02,   8.49500000e+02]), y=array([ 0.,  0.,  0., ...,  0.,  0.,  0.]))], scale_x=LinearScale(allow_padding=False, max=1.0, min=0.0), scale_y=LinearScale(allow_padding=False, max=1.0, min=0.0)))))"
      ]
     },
     "metadata": {},
     "output_type": "display_data"
    },
    {
     "name": "stdout",
     "output_type": "stream",
     "text": [
      "Mode: 219.5\n",
      "Skewness: 1.82956242226\n",
      "Check sum==1: sum=0.999999729718\n"
     ]
    }
   ],
   "source": [
    "n_iter = 40\n",
    "pi_final, m, s = evol_distr(n_iter, pi, L_0, beta)"
   ]
  },
  {
   "cell_type": "code",
   "execution_count": 15,
   "metadata": {},
   "outputs": [
    {
     "data": {
      "application/vnd.jupyter.widget-view+json": {
       "model_id": "a8eb74701d76469bb5290a6cf8ccbed7",
       "version_major": 2,
       "version_minor": 0
      },
      "text/html": [
       "<p>Failed to display Jupyter Widget of type <code>VBox</code>.</p>\n",
       "<p>\n",
       "  If you're reading this message in the Jupyter Notebook or JupyterLab Notebook, it may mean\n",
       "  that the widgets JavaScript is still loading. If this message persists, it\n",
       "  likely means that the widgets JavaScript library is either not installed or\n",
       "  not enabled. See the <a href=\"https://ipywidgets.readthedocs.io/en/stable/user_install.html\">Jupyter\n",
       "  Widgets Documentation</a> for setup instructions.\n",
       "</p>\n",
       "<p>\n",
       "  If you're reading this message in another frontend (for example, a static\n",
       "  rendering on GitHub or <a href=\"https://nbviewer.jupyter.org/\">NBViewer</a>),\n",
       "  it may mean that your frontend doesn't currently support widgets.\n",
       "</p>\n"
      ],
      "text/plain": [
       "VBox(children=(Figure(axes=[Axis(scale=LinearScale()), Axis(orientation='vertical', scale=LinearScale())], fig_margin={'top': 60, 'bottom': 60, 'left': 60, 'right': 60}, layout=Layout(min_width='125px'), marks=[Lines(colors=['#1f77b4', '#ff7f0e', '#2ca02c', '#d62728', '#9467bd', '#8c564b', '#e377c2', '#7f7f7f', '#bcbd22', '#17becf'], interactions={'hover': 'tooltip'}, scales={'x': LinearScale(), 'y': LinearScale()}, scales_metadata={'x': {'orientation': 'horizontal', 'dimension': 'x'}, 'y': {'orientation': 'vertical', 'dimension': 'y'}, 'color': {'dimension': 'color'}}, tooltip_style={'opacity': 0.9}, x=array([  0.00000000e+00,   5.00000000e-01,   1.00000000e+00, ...,\n",
       "         8.48500000e+02,   8.49000000e+02,   8.49500000e+02]), y=array([  6.49345975e-127,   1.28625633e-126,   2.51821316e-126, ...,\n",
       "         0.00000000e+000,   0.00000000e+000,   0.00000000e+000]))], scale_x=LinearScale(allow_padding=False, max=1.0, min=0.0), scale_y=LinearScale(allow_padding=False, max=1.0, min=0.0)), Toolbar(figure=Figure(axes=[Axis(scale=LinearScale()), Axis(orientation='vertical', scale=LinearScale())], fig_margin={'top': 60, 'bottom': 60, 'left': 60, 'right': 60}, layout=Layout(min_width='125px'), marks=[Lines(colors=['#1f77b4', '#ff7f0e', '#2ca02c', '#d62728', '#9467bd', '#8c564b', '#e377c2', '#7f7f7f', '#bcbd22', '#17becf'], interactions={'hover': 'tooltip'}, scales={'x': LinearScale(), 'y': LinearScale()}, scales_metadata={'x': {'orientation': 'horizontal', 'dimension': 'x'}, 'y': {'orientation': 'vertical', 'dimension': 'y'}, 'color': {'dimension': 'color'}}, tooltip_style={'opacity': 0.9}, x=array([  0.00000000e+00,   5.00000000e-01,   1.00000000e+00, ...,\n",
       "         8.48500000e+02,   8.49000000e+02,   8.49500000e+02]), y=array([  6.49345975e-127,   1.28625633e-126,   2.51821316e-126, ...,\n",
       "         0.00000000e+000,   0.00000000e+000,   0.00000000e+000]))], scale_x=LinearScale(allow_padding=False, max=1.0, min=0.0), scale_y=LinearScale(allow_padding=False, max=1.0, min=0.0)))))"
      ]
     },
     "metadata": {},
     "output_type": "display_data"
    },
    {
     "name": "stdout",
     "output_type": "stream",
     "text": [
      "Mode: 218.5\n",
      "Skewness: 1.86811564268\n",
      "Check sum==1: sum=0.999998510154\n"
     ]
    }
   ],
   "source": [
    "n_iter = 200\n",
    "pi_final, m, s = evol_distr(n_iter, pi, L_0, beta)"
   ]
  },
  {
   "cell_type": "markdown",
   "metadata": {},
   "source": [
    "### Using the empirical distribution as an initialization"
   ]
  },
  {
   "cell_type": "code",
   "execution_count": 16,
   "metadata": {
    "collapsed": true
   },
   "outputs": [],
   "source": [
    "pi = np.array([0.]*n)\n",
    "for k in range(n):\n",
    "    i = 0\n",
    "    while i<len(bin_edges)-1 and bin_edges[i] < k:\n",
    "        i += 1\n",
    "    pi[k] = hist[i-1]\n",
    "# Renormalize to take into account small errors\n",
    "s = np.sum(pi)\n",
    "for k in range(n):\n",
    "    pi[k] = pi[k]/s"
   ]
  },
  {
   "cell_type": "code",
   "execution_count": 17,
   "metadata": {
    "scrolled": false
   },
   "outputs": [
    {
     "data": {
      "application/vnd.jupyter.widget-view+json": {
       "model_id": "52125bc2161948649aa3fdabace0e901",
       "version_major": 2,
       "version_minor": 0
      },
      "text/html": [
       "<p>Failed to display Jupyter Widget of type <code>VBox</code>.</p>\n",
       "<p>\n",
       "  If you're reading this message in the Jupyter Notebook or JupyterLab Notebook, it may mean\n",
       "  that the widgets JavaScript is still loading. If this message persists, it\n",
       "  likely means that the widgets JavaScript library is either not installed or\n",
       "  not enabled. See the <a href=\"https://ipywidgets.readthedocs.io/en/stable/user_install.html\">Jupyter\n",
       "  Widgets Documentation</a> for setup instructions.\n",
       "</p>\n",
       "<p>\n",
       "  If you're reading this message in another frontend (for example, a static\n",
       "  rendering on GitHub or <a href=\"https://nbviewer.jupyter.org/\">NBViewer</a>),\n",
       "  it may mean that your frontend doesn't currently support widgets.\n",
       "</p>\n"
      ],
      "text/plain": [
       "VBox(children=(Figure(axes=[Axis(scale=LinearScale()), Axis(orientation='vertical', scale=LinearScale())], fig_margin={'top': 60, 'bottom': 60, 'left': 60, 'right': 60}, layout=Layout(min_width='125px'), marks=[Lines(colors=['#1f77b4', '#ff7f0e', '#2ca02c', '#d62728', '#9467bd', '#8c564b', '#e377c2', '#7f7f7f', '#bcbd22', '#17becf'], interactions={'hover': 'tooltip'}, scales={'x': LinearScale(), 'y': LinearScale()}, scales_metadata={'x': {'orientation': 'horizontal', 'dimension': 'x'}, 'y': {'orientation': 'vertical', 'dimension': 'y'}, 'color': {'dimension': 'color'}}, tooltip_style={'opacity': 0.9}, x=array([   0,    1,    2, ..., 1697, 1698, 1699]), y=array([ 0.,  0.,  0., ...,  0.,  0.,  0.]))], scale_x=LinearScale(allow_padding=False, max=1.0, min=0.0), scale_y=LinearScale(allow_padding=False, max=1.0, min=0.0)), Toolbar(figure=Figure(axes=[Axis(scale=LinearScale()), Axis(orientation='vertical', scale=LinearScale())], fig_margin={'top': 60, 'bottom': 60, 'left': 60, 'right': 60}, layout=Layout(min_width='125px'), marks=[Lines(colors=['#1f77b4', '#ff7f0e', '#2ca02c', '#d62728', '#9467bd', '#8c564b', '#e377c2', '#7f7f7f', '#bcbd22', '#17becf'], interactions={'hover': 'tooltip'}, scales={'x': LinearScale(), 'y': LinearScale()}, scales_metadata={'x': {'orientation': 'horizontal', 'dimension': 'x'}, 'y': {'orientation': 'vertical', 'dimension': 'y'}, 'color': {'dimension': 'color'}}, tooltip_style={'opacity': 0.9}, x=array([   0,    1,    2, ..., 1697, 1698, 1699]), y=array([ 0.,  0.,  0., ...,  0.,  0.,  0.]))], scale_x=LinearScale(allow_padding=False, max=1.0, min=0.0), scale_y=LinearScale(allow_padding=False, max=1.0, min=0.0)))))"
      ]
     },
     "metadata": {},
     "output_type": "display_data"
    }
   ],
   "source": [
    "plt.figure()\n",
    "plt.plot(range(n), pi)\n",
    "plt.show()"
   ]
  },
  {
   "cell_type": "code",
   "execution_count": 18,
   "metadata": {
    "scrolled": false
   },
   "outputs": [
    {
     "data": {
      "application/vnd.jupyter.widget-view+json": {
       "model_id": "224b02834157438391c948964934a779",
       "version_major": 2,
       "version_minor": 0
      },
      "text/html": [
       "<p>Failed to display Jupyter Widget of type <code>VBox</code>.</p>\n",
       "<p>\n",
       "  If you're reading this message in the Jupyter Notebook or JupyterLab Notebook, it may mean\n",
       "  that the widgets JavaScript is still loading. If this message persists, it\n",
       "  likely means that the widgets JavaScript library is either not installed or\n",
       "  not enabled. See the <a href=\"https://ipywidgets.readthedocs.io/en/stable/user_install.html\">Jupyter\n",
       "  Widgets Documentation</a> for setup instructions.\n",
       "</p>\n",
       "<p>\n",
       "  If you're reading this message in another frontend (for example, a static\n",
       "  rendering on GitHub or <a href=\"https://nbviewer.jupyter.org/\">NBViewer</a>),\n",
       "  it may mean that your frontend doesn't currently support widgets.\n",
       "</p>\n"
      ],
      "text/plain": [
       "VBox(children=(Figure(axes=[Axis(scale=LinearScale()), Axis(orientation='vertical', scale=LinearScale())], fig_margin={'top': 60, 'bottom': 60, 'left': 60, 'right': 60}, layout=Layout(min_width='125px'), marks=[Lines(colors=['#1f77b4', '#ff7f0e', '#2ca02c', '#d62728', '#9467bd', '#8c564b', '#e377c2', '#7f7f7f', '#bcbd22', '#17becf'], interactions={'hover': 'tooltip'}, scales={'x': LinearScale(), 'y': LinearScale()}, scales_metadata={'x': {'orientation': 'horizontal', 'dimension': 'x'}, 'y': {'orientation': 'vertical', 'dimension': 'y'}, 'color': {'dimension': 'color'}}, tooltip_style={'opacity': 0.9}, x=array([  0.00000000e+00,   5.00000000e-01,   1.00000000e+00, ...,\n",
       "         8.48500000e+02,   8.49000000e+02,   8.49500000e+02]), y=array([ 0.,  0.,  0., ...,  0.,  0.,  0.]))], scale_x=LinearScale(allow_padding=False, max=1.0, min=0.0), scale_y=LinearScale(allow_padding=False, max=1.0, min=0.0)), Toolbar(figure=Figure(axes=[Axis(scale=LinearScale()), Axis(orientation='vertical', scale=LinearScale())], fig_margin={'top': 60, 'bottom': 60, 'left': 60, 'right': 60}, layout=Layout(min_width='125px'), marks=[Lines(colors=['#1f77b4', '#ff7f0e', '#2ca02c', '#d62728', '#9467bd', '#8c564b', '#e377c2', '#7f7f7f', '#bcbd22', '#17becf'], interactions={'hover': 'tooltip'}, scales={'x': LinearScale(), 'y': LinearScale()}, scales_metadata={'x': {'orientation': 'horizontal', 'dimension': 'x'}, 'y': {'orientation': 'vertical', 'dimension': 'y'}, 'color': {'dimension': 'color'}}, tooltip_style={'opacity': 0.9}, x=array([  0.00000000e+00,   5.00000000e-01,   1.00000000e+00, ...,\n",
       "         8.48500000e+02,   8.49000000e+02,   8.49500000e+02]), y=array([ 0.,  0.,  0., ...,  0.,  0.,  0.]))], scale_x=LinearScale(allow_padding=False, max=1.0, min=0.0), scale_y=LinearScale(allow_padding=False, max=1.0, min=0.0)))))"
      ]
     },
     "metadata": {},
     "output_type": "display_data"
    },
    {
     "name": "stdout",
     "output_type": "stream",
     "text": [
      "Mode: 218.0\n",
      "Skewness: 1.86795954247\n",
      "Check sum==1: sum=0.99999969476\n"
     ]
    }
   ],
   "source": [
    "n_iter = 40\n",
    "pi_final, m, s = evol_distr(n_iter, pi, L_0, beta)"
   ]
  },
  {
   "cell_type": "code",
   "execution_count": 19,
   "metadata": {},
   "outputs": [
    {
     "data": {
      "application/vnd.jupyter.widget-view+json": {
       "model_id": "ddf9d17ba53b47d195ade1fba30d7d07",
       "version_major": 2,
       "version_minor": 0
      },
      "text/html": [
       "<p>Failed to display Jupyter Widget of type <code>VBox</code>.</p>\n",
       "<p>\n",
       "  If you're reading this message in the Jupyter Notebook or JupyterLab Notebook, it may mean\n",
       "  that the widgets JavaScript is still loading. If this message persists, it\n",
       "  likely means that the widgets JavaScript library is either not installed or\n",
       "  not enabled. See the <a href=\"https://ipywidgets.readthedocs.io/en/stable/user_install.html\">Jupyter\n",
       "  Widgets Documentation</a> for setup instructions.\n",
       "</p>\n",
       "<p>\n",
       "  If you're reading this message in another frontend (for example, a static\n",
       "  rendering on GitHub or <a href=\"https://nbviewer.jupyter.org/\">NBViewer</a>),\n",
       "  it may mean that your frontend doesn't currently support widgets.\n",
       "</p>\n"
      ],
      "text/plain": [
       "VBox(children=(Figure(axes=[Axis(scale=LinearScale()), Axis(orientation='vertical', scale=LinearScale())], fig_margin={'top': 60, 'bottom': 60, 'left': 60, 'right': 60}, layout=Layout(min_width='125px'), marks=[Lines(colors=['#1f77b4', '#ff7f0e', '#2ca02c', '#d62728', '#9467bd', '#8c564b', '#e377c2', '#7f7f7f', '#bcbd22', '#17becf'], interactions={'hover': 'tooltip'}, scales={'x': LinearScale(), 'y': LinearScale()}, scales_metadata={'x': {'orientation': 'horizontal', 'dimension': 'x'}, 'y': {'orientation': 'vertical', 'dimension': 'y'}, 'color': {'dimension': 'color'}}, tooltip_style={'opacity': 0.9}, x=array([  0.00000000e+00,   5.00000000e-01,   1.00000000e+00, ...,\n",
       "         8.48500000e+02,   8.49000000e+02,   8.49500000e+02]), y=array([  6.53460049e-127,   1.27747694e-126,   2.53420811e-126, ...,\n",
       "         0.00000000e+000,   0.00000000e+000,   0.00000000e+000]))], scale_x=LinearScale(allow_padding=False, max=1.0, min=0.0), scale_y=LinearScale(allow_padding=False, max=1.0, min=0.0)), Toolbar(figure=Figure(axes=[Axis(scale=LinearScale()), Axis(orientation='vertical', scale=LinearScale())], fig_margin={'top': 60, 'bottom': 60, 'left': 60, 'right': 60}, layout=Layout(min_width='125px'), marks=[Lines(colors=['#1f77b4', '#ff7f0e', '#2ca02c', '#d62728', '#9467bd', '#8c564b', '#e377c2', '#7f7f7f', '#bcbd22', '#17becf'], interactions={'hover': 'tooltip'}, scales={'x': LinearScale(), 'y': LinearScale()}, scales_metadata={'x': {'orientation': 'horizontal', 'dimension': 'x'}, 'y': {'orientation': 'vertical', 'dimension': 'y'}, 'color': {'dimension': 'color'}}, tooltip_style={'opacity': 0.9}, x=array([  0.00000000e+00,   5.00000000e-01,   1.00000000e+00, ...,\n",
       "         8.48500000e+02,   8.49000000e+02,   8.49500000e+02]), y=array([  6.53460049e-127,   1.27747694e-126,   2.53420811e-126, ...,\n",
       "         0.00000000e+000,   0.00000000e+000,   0.00000000e+000]))], scale_x=LinearScale(allow_padding=False, max=1.0, min=0.0), scale_y=LinearScale(allow_padding=False, max=1.0, min=0.0)))))"
      ]
     },
     "metadata": {},
     "output_type": "display_data"
    },
    {
     "name": "stdout",
     "output_type": "stream",
     "text": [
      "Mode: 218.0\n",
      "Skewness: 1.86810725524\n",
      "Check sum==1: sum=0.999998468984\n"
     ]
    }
   ],
   "source": [
    "n_iter = 200\n",
    "pi_final, m, s = evol_distr(n_iter, pi, L_0, beta)"
   ]
  },
  {
   "cell_type": "markdown",
   "metadata": {
    "collapsed": true
   },
   "source": [
    "## Determination of $\\beta$ and $L_0$"
   ]
  },
  {
   "cell_type": "markdown",
   "metadata": {},
   "source": [
    "### Fancy way (with GUI)"
   ]
  },
  {
   "cell_type": "code",
   "execution_count": null,
   "metadata": {
    "collapsed": true
   },
   "outputs": [],
   "source": [
    "slider_beta = FloatSlider(min=0.02, max=0.03, value=0.0236, step=0.0001, readout_format='.4f', description='beta:', continuous_update=False)\n",
    "slider_L_0 = IntSlider(min=80, max=150, value=101, step=1, description='L_0:', continuous_update=False)\n",
    "slider_n_iter = IntSlider(min=100, max=1500, value=300, step=50, description='n_iter:', continuous_update=False)\n",
    "mode_output = Text(value='0.0', placeholder='Type something', description='Mode:', disabled=False)\n",
    "skewness_output = Text(value='0.0', placeholder='Type something', description='Skewness:', disabled=False)\n",
    "\n",
    "n_iter_initial = 1000\n",
    "progress_bar = IntProgress(value=0, min=0, max=slider_n_iter.value, step=1,description='Progress:', bar_style='success')\n",
    "\n",
    "global pi\n",
    "pi = np.array([0.]*n)\n",
    "for k in range(L_0, 2*L_0):\n",
    "    pi[k] = 1./L_0\n",
    "\n",
    "items = []\n",
    "left_box = VBox([slider_beta, slider_L_0, slider_n_iter])\n",
    "right_box = VBox([progress_bar, mode_output, skewness_output])\n",
    "box = HBox([left_box, right_box])\n",
    "display(box)\n",
    "\n",
    "plt.figure(1, title='Line Chart')\n",
    "plt.show()\n",
    "\n",
    "def on_value_change(change, **kwargs):\n",
    "    global pi\n",
    "    beta = slider_beta.value\n",
    "    L_0 = slider_L_0.value\n",
    "    geom, probas = precompute_arrays(L_0, beta)\n",
    "    \n",
    "    r = np.array(range(n))/2\n",
    "    \n",
    "    if 'init' in kwargs:\n",
    "        n_iter = n_iter_initial\n",
    "    else:\n",
    "        n_iter = slider_n_iter.value\n",
    "    progress_bar.max = n_iter\n",
    "    for k in range(n_iter):\n",
    "        pi = iter_distr(pi, L_0, beta, geom, probas)\n",
    "        pi = pi / np.sum(pi)\n",
    "        if k % 50 == 0:\n",
    "            plt.clear()\n",
    "            plt.plot(r, pi)\n",
    "        \n",
    "            mode = r[np.argmax(pi)]\n",
    "            mean = np.sum(r*pi)\n",
    "            std = np.sqrt(np.sum(r**2*pi)-mean**2)\n",
    "            skewness = np.sum(((r-mean)/std)**3*pi)\n",
    "            mode_output.value = str(mode)\n",
    "            skewness_output.value = str(skewness)\n",
    "        progress_bar.value = k+1\n",
    "\n",
    "#def change_n_iter(change):\n",
    "#    progress_bar.max = slider_n_iter.value\n",
    "        \n",
    "slider_beta.observe(on_value_change, names='value')\n",
    "slider_L_0.observe(on_value_change, names='value')\n",
    "slider_n_iter.observe(on_value_change, names='value')\n",
    "on_value_change(None, init=True)"
   ]
  },
  {
   "cell_type": "markdown",
   "metadata": {},
   "source": [
    "### Less fancy way (with grid search)"
   ]
  },
  {
   "cell_type": "code",
   "execution_count": 20,
   "metadata": {
    "collapsed": true
   },
   "outputs": [],
   "source": [
    "def find_beta_L0(mode_exp, skewness_exp, n_iter):\n",
    "    betas = np.linspace(0.02, 0.03, num=11)\n",
    "    L_0s = np.linspace(80, 150, num=10)\n",
    "    \n",
    "    best_beta = betas[0]\n",
    "    best_L_0 = L_0s[0]\n",
    "    best_mode = 0\n",
    "    best_skewness = 0\n",
    "    \n",
    "    for beta in betas:\n",
    "        for L_0 in L_0s:\n",
    "            L_0 = int(L_0)\n",
    "            pi = np.array([0.]*n)\n",
    "            for k in range(L_0, 2*L_0):\n",
    "                pi[k] = 1./L_0\n",
    "            \n",
    "            pi_final, mode, skewness = evol_distr(n_iter, pi, L_0, beta, verbose=False)\n",
    "            if abs(mode-mode_exp) < abs(best_mode-mode_exp) and abs(skewness-skewness_exp) < abs(best_skewness-skewness_exp):\n",
    "                print('Found new best parameters:')\n",
    "                print('beta = ' + str(beta))\n",
    "                print('L_0 = ' + str(L_0))\n",
    "                print('mode = ' + str(mode))\n",
    "                print('skewness = ' + str(skewness))\n",
    "                best_beta = beta\n",
    "                best_L_0 = L_0\n",
    "                best_mode = mode\n",
    "                best_skewness = skewness\n",
    "                \n",
    "    return best_beta, best_L_0"
   ]
  },
  {
   "cell_type": "code",
   "execution_count": 21,
   "metadata": {
    "collapsed": true
   },
   "outputs": [],
   "source": [
    "n_iter = 200\n",
    "mode_exp = 260\n",
    "skewness_exp = 0.73"
   ]
  },
  {
   "cell_type": "code",
   "execution_count": 22,
   "metadata": {
    "scrolled": false
   },
   "outputs": [
    {
     "name": "stdout",
     "output_type": "stream",
     "text": [
      "Found new best parameters:\n",
      "beta = 0.02\n",
      "L_0 = 100\n",
      "mode = 288.0\n",
      "skewness = 0.673346739569\n",
      "Found new best parameters:\n",
      "beta = 0.021\n",
      "L_0 = 100\n",
      "mode = 277.5\n",
      "skewness = 0.694905324977\n",
      "Found new best parameters:\n",
      "beta = 0.022\n",
      "L_0 = 100\n",
      "mode = 268.0\n",
      "skewness = 0.714769960915\n",
      "Found new best parameters:\n",
      "beta = 0.023\n",
      "L_0 = 100\n",
      "mode = 259.0\n",
      "skewness = 0.733218603288\n"
     ]
    },
    {
     "data": {
      "text/plain": [
       "(0.023, 100)"
      ]
     },
     "execution_count": 22,
     "metadata": {},
     "output_type": "execute_result"
    }
   ],
   "source": [
    "# Takes a couple of minutes\n",
    "find_beta_L0(mode_exp, skewness_exp, n_iter)"
   ]
  },
  {
   "cell_type": "code",
   "execution_count": null,
   "metadata": {
    "collapsed": true
   },
   "outputs": [],
   "source": []
  }
 ],
 "metadata": {
  "kernelspec": {
   "display_name": "Python 3",
   "language": "python",
   "name": "python3"
  },
  "language_info": {
   "codemirror_mode": {
    "name": "ipython",
    "version": 3
   },
   "file_extension": ".py",
   "mimetype": "text/x-python",
   "name": "python",
   "nbconvert_exporter": "python",
   "pygments_lexer": "ipython3",
   "version": "3.6.3"
  }
 },
 "nbformat": 4,
 "nbformat_minor": 2
}
