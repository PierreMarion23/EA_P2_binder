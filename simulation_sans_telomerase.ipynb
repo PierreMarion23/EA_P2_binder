{
 "cells": [
  {
   "cell_type": "markdown",
   "metadata": {},
   "source": [
    "# Project EA P2"
   ]
  },
  {
   "cell_type": "markdown",
   "metadata": {},
   "source": [
    "# Simulations of the model without telomerase"
   ]
  },
  {
   "cell_type": "markdown",
   "metadata": {
    "collapsed": true
   },
   "source": [
    "## References:\n",
    "1. The asymmetry of telomere replication contributes to replicative senescence heterogeneity\n",
    "2. The Length of the Shortest Telomere as the Major Determinant of the Onset of Replicative Senescence"
   ]
  },
  {
   "cell_type": "markdown",
   "metadata": {},
   "source": [
    "We have two goals here: \n",
    "+ to investigate some of the results found in [1], and see if we can find them back, by simulation means.\n",
    "+ to check the theoretical computations in our report, which aimed at finding theoretical values for the mean and variance of the number of cellular divisions before senescence."
   ]
  },
  {
   "cell_type": "code",
   "execution_count": 17,
   "metadata": {
    "collapsed": true
   },
   "outputs": [],
   "source": [
    "from numpy import random as npr\n",
    "import random\n",
    "from matplotlib import pyplot as plt\n",
    "import numpy as np\n",
    "from scipy import stats as scs"
   ]
  },
  {
   "cell_type": "markdown",
   "metadata": {},
   "source": [
    "## Reconstructing the stationary distribution with telomerase"
   ]
  },
  {
   "cell_type": "markdown",
   "metadata": {},
   "source": [
    "This stationary distribution is taken as a starting point for the evolution without telomerase."
   ]
  },
  {
   "cell_type": "code",
   "execution_count": 3,
   "metadata": {
    "collapsed": true
   },
   "outputs": [],
   "source": [
    "# Parameters from the model - the parameters values are taken either from [1] or from the other notebook\n",
    "s = 3.5\n",
    "p = 0.026\n",
    "beta = 0.0236\n",
    "L_0 = 101\n",
    "n = 1700 "
   ]
  },
  {
   "cell_type": "code",
   "execution_count": 4,
   "metadata": {
    "collapsed": true
   },
   "outputs": [],
   "source": [
    "# gives the probability of action of telomerase as a function of telomere length\n",
    "def P(L, L_0, beta):\n",
    "    if L >= L_0:\n",
    "        return 1./(1 + beta*(L-L_0))\n",
    "    else:\n",
    "        return 1\n",
    "\n",
    "# useful for quick computation\n",
    "def precompute_arrays(L_0, beta):\n",
    "    geom = np.array([p*(1-p)**k for k in range(n)])\n",
    "    probas = np.array([P(k, L_0, beta) for k in range(n)])\n",
    "    return geom, probas\n",
    "\n",
    "# one iteration from the distribution computation\n",
    "def iter_distr(pi, L_0, beta, geom, probas):\n",
    "    new_pi = np.array([0.]*len(pi))\n",
    "    for i in range(len(pi)-7):\n",
    "        pi_i = pi[i+7]*(1-P(i+7, L_0, beta)) + np.sum(geom[:int(i/2.+3.5)]*probas[i+5::-2]*pi[i+5::-2])\n",
    "        new_pi[i] = pi_i\n",
    "    for i in range(len(pi)-7, len(pi)):\n",
    "        new_pi[i] = 0.\n",
    "    return new_pi\n",
    "\n",
    "# Many iterations for the distribution computation + graph plot + skewness and mode computation\n",
    "def evol_distr(n_iter, pi, L_0, beta, verbose=True):\n",
    "    geom, probas = precompute_arrays(L_0, beta)\n",
    "    pi2 = np.copy(pi)\n",
    "    for k in range(n_iter):\n",
    "        pi2 = iter_distr(pi2, L_0, beta, geom, probas)\n",
    "        pi2 = pi2 / np.sum(pi2)\n",
    "    \n",
    "    r = np.array(range(n))/2\n",
    "    if verbose:\n",
    "        plt.figure()\n",
    "        plt.plot(r, pi2)\n",
    "        plt.show()\n",
    "    mode = r[np.argmax(pi2)]\n",
    "    mean = np.sum(r*pi2)\n",
    "    std = np.sqrt(np.sum(r**2*pi2)-mean**2)\n",
    "    skewness = np.sum(((r-mean)/std)**3*pi2)\n",
    "    \n",
    "    if verbose:\n",
    "        print('Mode: ' + str(mode))\n",
    "        print('Skewness: ' + str(skewness))\n",
    "    return pi2, mode, skewness"
   ]
  },
  {
   "cell_type": "code",
   "execution_count": 7,
   "metadata": {
    "collapsed": true
   },
   "outputs": [],
   "source": [
    "# Initialization\n",
    "pi = np.array([0.]*n)\n",
    "for k in range(L_0, 2*L_0):\n",
    "    pi[k] = 1./L_0"
   ]
  },
  {
   "cell_type": "code",
   "execution_count": 9,
   "metadata": {},
   "outputs": [
    {
     "name": "stdout",
     "output_type": "stream",
     "text": [
      "Stationary distribution (one thousand iteration, takes a dozen seconds):\n"
     ]
    },
    {
     "data": {
      "image/png": "[encoded data removed]",
      "text/plain": [
       "<matplotlib.figure.Figure at 0x7f42f2bee128>"
      ]
     },
     "metadata": {},
     "output_type": "display_data"
    },
    {
     "name": "stdout",
     "output_type": "stream",
     "text": [
      "Mode: 260.5\n",
      "Skewness: 0.729789529549\n",
      "Cumulated sum of the stationary distribution:\n"
     ]
    },
    {
     "data": {
      "image/png": "[encoded data removed]",
      "text/plain": [
       "<matplotlib.figure.Figure at 0x7f42faaf3198>"
      ]
     },
     "metadata": {},
     "output_type": "display_data"
    }
   ],
   "source": [
    "n_iter = 1000\n",
    "print('Stationary distribution (one thousand iteration, takes a dozen seconds):')\n",
    "pi_final, m, s = evol_distr(n_iter, pi, L_0, beta)\n",
    "cdf = np.cumsum(pi_final)\n",
    "print('Cumulated sum of the stationary distribution:')\n",
    "plt.plot(np.arange(0, 850, step=0.5), cdf)\n",
    "plt.show()"
   ]
  },
  {
   "cell_type": "markdown",
   "metadata": {},
   "source": [
    "## Simulation without telomerase"
   ]
  },
  {
   "cell_type": "markdown",
   "metadata": {},
   "source": [
    "Here we investigate the results in [1] in Figure 4: four models are compared, which differ by:\n",
    "+ the type of initialization used: independent founder cells (random), or single founder cell (deterministic)\n",
    "+ the evolution model used: random or deterministic\n",
    "\n",
    "For each model, the (coefficient of variation)[https://en.wikipedia.org/wiki/Coefficient_of_variation] is computed. We want to compute this statistical measure here again, and check we obtain coherent results with [1]. We do so for three of the four models investigated in [1]. For all these models, we find a value coherent with [1]."
   ]
  },
  {
   "cell_type": "code",
   "execution_count": 27,
   "metadata": {
    "collapsed": true
   },
   "outputs": [],
   "source": [
    "length_senescence = 19    # parameter taken from [1]"
   ]
  },
  {
   "cell_type": "code",
   "execution_count": 28,
   "metadata": {
    "collapsed": true
   },
   "outputs": [],
   "source": [
    "# Initialization of the simulation without telomerase : a random variable following the above distribution\n",
    "def initialization_from_distr():\n",
    "    u = npr.rand()\n",
    "    return np.where(cdf>u)[0][0] / 2."
   ]
  },
  {
   "cell_type": "markdown",
   "metadata": {},
   "source": [
    "### Asymetric model"
   ]
  },
  {
   "cell_type": "code",
   "execution_count": 29,
   "metadata": {
    "collapsed": true
   },
   "outputs": [],
   "source": [
    "# Evolution of the telomere lengths during one cellular division - asymetric model\n",
    "def evolution(list_lengths):\n",
    "    permutation = np.arange(32)\n",
    "    npr.shuffle(permutation)\n",
    "    new_lengths = [0]*32\n",
    "    for k in range(32):\n",
    "        if permutation[k] >= 17:\n",
    "            new_lengths[k] = list_lengths[k]\n",
    "        else:\n",
    "            new_lengths[k] = list_lengths[k] - npr.randint(5, 11)\n",
    "    return new_lengths"
   ]
  },
  {
   "cell_type": "code",
   "execution_count": 30,
   "metadata": {},
   "outputs": [
    {
     "data": {
      "image/png": "[encoded data removed]",
      "text/plain": [
       "<matplotlib.figure.Figure at 0x7f42f2878780>"
      ]
     },
     "metadata": {},
     "output_type": "display_data"
    }
   ],
   "source": [
    "# Example with 32 telomeres and 30 cell divisions. The telomere of minimal length is in red.\n",
    "T = 30\n",
    "list_lengths = [initialization_from_distr() for k in range(32)]\n",
    "big_list = [list_lengths]\n",
    "for t in range(T):\n",
    "    list_lengths = evolution(list_lengths)\n",
    "    big_list.append(list_lengths)\n",
    "for k in range(32):\n",
    "    plt.plot(range(T+1), [big_list[i][k] for i in range(T+1)], color='grey')\n",
    "plt.plot(range(T+1), [min(big_list[i]) for i in range(T+1)], color='red')\n",
    "plt.show()"
   ]
  },
  {
   "cell_type": "markdown",
   "metadata": {},
   "source": [
    "### Asymetric model -  deterministic initialization ('single founder cell')"
   ]
  },
  {
   "cell_type": "code",
   "execution_count": 55,
   "metadata": {
    "collapsed": true
   },
   "outputs": [],
   "source": [
    "n_exp = 10000\n",
    "L_finales = []\n",
    "T_final = []\n",
    "list_lengths_init = [initialization_from_distr() for k in range(32)]\n",
    "\n",
    "for exp in range(n_exp):\n",
    "    T = 0\n",
    "    list_lengths = list_lengths_init\n",
    "    longueur = min(list_lengths)\n",
    "    while longueur > length_senescence:\n",
    "        T += 1\n",
    "        list_lengths = evolution(list_lengths)\n",
    "        longueur = min(list_lengths)\n",
    "    T_final.append(T)"
   ]
  },
  {
   "cell_type": "code",
   "execution_count": 56,
   "metadata": {
    "scrolled": true
   },
   "outputs": [
    {
     "data": {
      "image/png": "[encoded data removed]",
      "text/plain": [
       "<matplotlib.figure.Figure at 0x7f42f28f4710>"
      ]
     },
     "metadata": {},
     "output_type": "display_data"
    }
   ],
   "source": [
    "# Histogram of the number of cellular divisions before senescence\n",
    "plt.hist(T_final, bins=12)\n",
    "plt.show()"
   ]
  },
  {
   "cell_type": "code",
   "execution_count": 57,
   "metadata": {},
   "outputs": [
    {
     "name": "stdout",
     "output_type": "stream",
     "text": [
      "0.150381950135\n"
     ]
    }
   ],
   "source": [
    "# Coefficient of variation for single founder cell, asymmetric telomere replication model\n",
    "# In [1], they find 0.16 +- 0.05\n",
    "print(np.std(T_final)/np.mean(T_final))"
   ]
  },
  {
   "cell_type": "markdown",
   "metadata": {},
   "source": [
    "### Asymetric model -  random initialization ('independent founder cell')"
   ]
  },
  {
   "cell_type": "code",
   "execution_count": 46,
   "metadata": {
    "collapsed": true
   },
   "outputs": [],
   "source": [
    "n_exp = 10000\n",
    "L_finales = []\n",
    "T_final = []\n",
    "for exp in range(n_exp):\n",
    "    T = 0\n",
    "    list_lengths = [initialisation_from_distr() for k in range(32)]\n",
    "    longueur = min(list_lengths)\n",
    "    while longueur > length_senescence:\n",
    "        T += 1\n",
    "        list_lengths = evolution(list_lengths)\n",
    "        longueur = min(list_lengths)\n",
    "    T_final.append(T)"
   ]
  },
  {
   "cell_type": "code",
   "execution_count": 47,
   "metadata": {},
   "outputs": [
    {
     "data": {
      "image/png": "[encoded data removed]",
      "text/plain": [
       "<matplotlib.figure.Figure at 0x7f42f2995358>"
      ]
     },
     "metadata": {},
     "output_type": "display_data"
    }
   ],
   "source": [
    "# Histogram of the number of cellular divisions before senescence\n",
    "plt.hist(T_final, bins=14)\n",
    "plt.show()"
   ]
  },
  {
   "cell_type": "code",
   "execution_count": 48,
   "metadata": {},
   "outputs": [
    {
     "name": "stdout",
     "output_type": "stream",
     "text": [
      "0.220152599912\n"
     ]
    }
   ],
   "source": [
    "# Coefficient of variation for single founder cell, asymmetric telomere replication model\n",
    "# In [1], they find 0.24 +- 0.04\n",
    "print(np.std(T_final)/np.mean(T_final))"
   ]
  },
  {
   "cell_type": "markdown",
   "metadata": {},
   "source": [
    "### Symetric model -  random initialization ('independent founder cell')"
   ]
  },
  {
   "cell_type": "code",
   "execution_count": 43,
   "metadata": {
    "collapsed": true
   },
   "outputs": [],
   "source": [
    "n_exp = 10000\n",
    "L_finales = []\n",
    "T_final = []\n",
    "for exp in range(n_exp):\n",
    "    T = 0\n",
    "    list_lengths = [initialisation_from_distr() for k in range(32)]\n",
    "    longueur = min(list_lengths)\n",
    "    T_final.append(int((longueur-length_senescence)/3.75)+1)"
   ]
  },
  {
   "cell_type": "code",
   "execution_count": 44,
   "metadata": {},
   "outputs": [
    {
     "data": {
      "image/png": "[encoded data removed]",
      "text/plain": [
       "<matplotlib.figure.Figure at 0x7f42f29b4a58>"
      ]
     },
     "metadata": {},
     "output_type": "display_data"
    }
   ],
   "source": [
    "# Histogram of the number of cellular divisions before senescence\n",
    "plt.hist(T_final, bins=14)\n",
    "plt.show()"
   ]
  },
  {
   "cell_type": "code",
   "execution_count": 45,
   "metadata": {},
   "outputs": [
    {
     "name": "stdout",
     "output_type": "stream",
     "text": [
      "0.199568051864\n"
     ]
    }
   ],
   "source": [
    "# Coefficient of variation for single founder cell, asymmetric telomere replication model\n",
    "# In [1], they find 0.20 +- 0.03\n",
    "print(np.std(T_final)/np.mean(T_final))"
   ]
  },
  {
   "cell_type": "markdown",
   "metadata": {
    "collapsed": true
   },
   "source": [
    "# Verification of useful facts for theoretical analysis"
   ]
  },
  {
   "cell_type": "code",
   "execution_count": 43,
   "metadata": {
    "collapsed": true
   },
   "outputs": [],
   "source": [
    "def simple_evolution(longueur):\n",
    "    x = npr.rand()\n",
    "    if x > 0.5:\n",
    "        return longueur + npr.randint(5, 11)\n",
    "    return longueur"
   ]
  },
  {
   "cell_type": "code",
   "execution_count": 91,
   "metadata": {
    "collapsed": true
   },
   "outputs": [],
   "source": [
    "a = 240         # for instance, not too far from the biological value"
   ]
  },
  {
   "cell_type": "code",
   "execution_count": 92,
   "metadata": {},
   "outputs": [
    {
     "data": {
      "image/png": "[encoded data removed]",
      "text/plain": [
       "<matplotlib.figure.Figure at 0x7f3f7875be48>"
      ]
     },
     "metadata": {},
     "output_type": "display_data"
    }
   ],
   "source": [
    "# An example of trajectory\n",
    "T = 0\n",
    "longueur = 0\n",
    "L = [longueur]\n",
    "while longueur < a:\n",
    "    T += 1\n",
    "    longueur = simple_evolution(longueur)\n",
    "    L.append(longueur)\n",
    "plt.plot(range(T+1), L, color='red')\n",
    "plt.title('An example of trajectory')\n",
    "plt.show()"
   ]
  },
  {
   "cell_type": "markdown",
   "metadata": {},
   "source": [
    "Check that the walk is uniformely distributed, given that it's between $a-10$ and $a-1$, for $a >> 1$:"
   ]
  },
  {
   "cell_type": "code",
   "execution_count": 93,
   "metadata": {},
   "outputs": [
    {
     "data": {
      "image/png": "[encoded data removed]",
      "text/plain": [
       "<matplotlib.figure.Figure at 0x7f3f783a9c18>"
      ]
     },
     "metadata": {},
     "output_type": "display_data"
    }
   ],
   "source": [
    "n_exp = 10000\n",
    "L_select = []\n",
    "longueur = 0\n",
    "L = [longueur]*n_exp\n",
    "L_finales = []\n",
    "for T in range(100):\n",
    "    for exp in range(n_exp):\n",
    "        n = evolution_simple(L[exp])\n",
    "        L[exp] = n\n",
    "        if n >= a-10 and n < a:\n",
    "            L_finales.append(n)\n",
    "plt.hist(L_finales, bins=10)\n",
    "plt.title(\"Histogram of the random walk, given that it's between 190 and 200\")\n",
    "plt.show()"
   ]
  },
  {
   "cell_type": "markdown",
   "metadata": {},
   "source": [
    "Law of $S_\\tau$ and independance with $\\tau$:"
   ]
  },
  {
   "cell_type": "code",
   "execution_count": 94,
   "metadata": {
    "collapsed": true
   },
   "outputs": [],
   "source": [
    "# Takes a few seconds\n",
    "n_exp = 10**5\n",
    "L_finales = []\n",
    "T_final = []\n",
    "for exp in range(n_exp):\n",
    "    T = 0\n",
    "    longueur = 0\n",
    "    L = [longueur]\n",
    "    while longueur < a:\n",
    "        T += 1\n",
    "        longueur = evolution_simple(longueur)\n",
    "        L.append(longueur)\n",
    "    L_finales.append(L[-1])\n",
    "    T_final.append(T)"
   ]
  },
  {
   "cell_type": "code",
   "execution_count": 95,
   "metadata": {},
   "outputs": [
    {
     "data": {
      "image/png": "[encoded data removed]",
      "text/plain": [
       "<matplotlib.figure.Figure at 0x7f3f783456a0>"
      ]
     },
     "metadata": {},
     "output_type": "display_data"
    }
   ],
   "source": [
    "plt.hist(L_finales, bins=10)\n",
    "plt.title('Histogram of S_tau')\n",
    "plt.show()"
   ]
  },
  {
   "cell_type": "code",
   "execution_count": 96,
   "metadata": {},
   "outputs": [
    {
     "name": "stdout",
     "output_type": "stream",
     "text": [
      "Experimental mean: 243.45071\n",
      "Theoretical mean: 243.44444444444446\n",
      "Relative error: 2.5737106344e-05\n",
      "Experimental mean of the square: 59274.30639\n",
      "Theoretical mean of the square: 59271.222222222226\n",
      "Relative error: 5.20348267193e-05\n"
     ]
    }
   ],
   "source": [
    "# Computation of the first moments of S_tau\n",
    "mean_exp = np.mean(L_finales)\n",
    "mean_th = a + 31./9\n",
    "print('Experimental mean: ' + str(mean_exp))\n",
    "print('Theoretical mean: ' + str(mean_th))\n",
    "print('Relative error: ' + str(abs((mean_exp - mean_th))/mean_th))\n",
    "\n",
    "mean_sq_exp = np.mean(np.array(L_finales)**2)\n",
    "mean_sq_th = a**2 + 62./9 * a + 161./9\n",
    "print('Experimental mean of the square: ' + str(mean_sq_exp))\n",
    "print('Theoretical mean of the square: ' + str(mean_sq_th))\n",
    "print('Relative error: ' + str(abs((mean_sq_exp - mean_sq_th))/mean_sq_th))"
   ]
  },
  {
   "cell_type": "code",
   "execution_count": 97,
   "metadata": {},
   "outputs": [
    {
     "data": {
      "text/plain": [
       "array([[  6.05825108,   1.3963273 ],\n",
       "       [  1.3963273 ,  72.03700385]])"
      ]
     },
     "execution_count": 97,
     "metadata": {},
     "output_type": "execute_result"
    }
   ],
   "source": [
    "# cov(L_finales, T_final) is neglectible compared to var(T_final). Thus we neglect this term in future computations.\n",
    "np.cov(L_finales, T_final)"
   ]
  },
  {
   "cell_type": "markdown",
   "metadata": {},
   "source": [
    "Law of $\\tau$:"
   ]
  },
  {
   "cell_type": "code",
   "execution_count": 98,
   "metadata": {},
   "outputs": [
    {
     "name": "stdout",
     "output_type": "stream",
     "text": [
      "Experimental mean: 64.95797\n",
      "Theoretical mean: 64.91851851851852\n",
      "Relative error: 0.000607707667732\n",
      "Experimental mean of the square: 4291.57415\n",
      "Theoretical mean of the square: 4285.504\n",
      "Relative error: 0.00141643783322\n"
     ]
    }
   ],
   "source": [
    "# Computation of the first moments of tau\n",
    "mean_exp = np.mean(T_final)\n",
    "mean_th = 4./15 * a + 124./135\n",
    "print('Experimental mean: ' + str(mean_exp))\n",
    "print('Theoretical mean: ' + str(mean_th))\n",
    "print('Relative error: ' + str(abs((mean_exp - mean_th))/mean_th))\n",
    "\n",
    "mean_sq_exp = np.mean(np.array(T_final)**2)\n",
    "mean_sq_th = (4./15)**2*(a**2+11.02*a + 20.1)\n",
    "print('Experimental mean of the square: ' + str(mean_sq_exp))\n",
    "print('Theoretical mean of the square: ' + str(mean_sq_th))\n",
    "print('Relative error: ' + str(abs((mean_sq_exp - mean_sq_th))/mean_sq_th))"
   ]
  },
  {
   "cell_type": "code",
   "execution_count": 105,
   "metadata": {},
   "outputs": [
    {
     "data": {
      "text/plain": [
       "0.1298779766687071"
      ]
     },
     "execution_count": 105,
     "metadata": {},
     "output_type": "execute_result"
    }
   ],
   "source": [
    "# Theoretical coefficient of variation\n",
    "np.sqrt((mean_sq_th - mean_th**2))/mean_th"
   ]
  },
  {
   "cell_type": "code",
   "execution_count": null,
   "metadata": {
    "collapsed": true
   },
   "outputs": [],
   "source": []
  },
  {
   "cell_type": "code",
   "execution_count": null,
   "metadata": {
    "collapsed": true
   },
   "outputs": [],
   "source": []
  }
 ],
 "metadata": {
  "kernelspec": {
   "display_name": "Python 3",
   "language": "python",
   "name": "python3"
  },
  "language_info": {
   "codemirror_mode": {
    "name": "ipython",
    "version": 3
   },
   "file_extension": ".py",
   "mimetype": "text/x-python",
   "name": "python",
   "nbconvert_exporter": "python",
   "pygments_lexer": "ipython3",
   "version": "3.6.3"
  }
 },
 "nbformat": 4,
 "nbformat_minor": 2
}
