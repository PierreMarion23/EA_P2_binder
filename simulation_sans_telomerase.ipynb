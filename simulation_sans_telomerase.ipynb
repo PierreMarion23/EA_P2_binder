{
 "cells": [
  {
   "cell_type": "code",
   "execution_count": 46,
   "metadata": {
    "collapsed": true
   },
   "outputs": [],
   "source": [
    "from numpy import random as npr\n",
    "import random\n",
    "from matplotlib import pyplot as plt\n",
    "import numpy as np\n",
    "from scipy import stats as scs"
   ]
  },
  {
   "cell_type": "markdown",
   "metadata": {},
   "source": [
    "# Simulations en l'absence de télomèrase"
   ]
  },
  {
   "cell_type": "markdown",
   "metadata": {},
   "source": [
    "## Reconstruction de la distribution stationnaire en présence de télomèrase"
   ]
  },
  {
   "cell_type": "code",
   "execution_count": 47,
   "metadata": {
    "collapsed": true
   },
   "outputs": [],
   "source": [
    "# Parameters from the model\n",
    "s = 3.5\n",
    "p = 0.026\n",
    "beta = 0.0236\n",
    "L_0 = 101\n",
    "n = 1700 "
   ]
  },
  {
   "cell_type": "code",
   "execution_count": 48,
   "metadata": {
    "collapsed": true
   },
   "outputs": [],
   "source": [
    "# gives the probability of action of telomerase as a function of telomere length\n",
    "def P(L, L_0, beta):\n",
    "    if L >= L_0:\n",
    "        return 1./(1 + beta*(L-L_0))\n",
    "    else:\n",
    "        return 1\n",
    "\n",
    "# useful for quick computation\n",
    "def precompute_arrays(L_0, beta):\n",
    "    geom = np.array([p*(1-p)**k for k in range(n)])\n",
    "    probas = np.array([P(k, L_0, beta) for k in range(n)])\n",
    "    return geom, probas\n",
    "\n",
    "# one iteration from the distribution computation\n",
    "def iter_distr(pi, L_0, beta, geom, probas):\n",
    "    new_pi = np.array([0.]*len(pi))\n",
    "    for i in range(len(pi)-7):\n",
    "        pi_i = pi[i+7]*(1-P(i+7, L_0, beta)) + np.sum(geom[:int(i/2.+3.5)]*probas[i+5::-2]*pi[i+5::-2])\n",
    "        new_pi[i] = pi_i\n",
    "    for i in range(len(pi)-7, len(pi)):\n",
    "        new_pi[i] = 0.\n",
    "    return new_pi\n",
    "\n",
    "# Many iterations for the distribution computation + graph plot + skewness and mode computation\n",
    "def evol_distr(n_iter, pi, L_0, beta, verbose=True):\n",
    "    geom, probas = precompute_arrays(L_0, beta)\n",
    "    pi2 = np.copy(pi)\n",
    "    for k in range(n_iter):\n",
    "        pi2 = iter_distr(pi2, L_0, beta, geom, probas)\n",
    "        pi2 = pi2 / np.sum(pi2)\n",
    "    \n",
    "    r = np.array(range(n))/2\n",
    "    if verbose:\n",
    "        plt.figure()\n",
    "        plt.plot(r, pi2)\n",
    "        plt.show()\n",
    "    mode = r[np.argmax(pi2)]\n",
    "    mean = np.sum(r*pi2)\n",
    "    std = np.sqrt(np.sum(r**2*pi2)-mean**2)\n",
    "    skewness = np.sum(((r-mean)/std)**3*pi2)\n",
    "    \n",
    "    if verbose:\n",
    "        print('Mode: ' + str(mode))\n",
    "        print('Skewness: ' + str(skewness))\n",
    "        print('Check sum==1: sum=' + str(np.sum(pi2)))\n",
    "    return pi2, mode, skewness"
   ]
  },
  {
   "cell_type": "code",
   "execution_count": 49,
   "metadata": {
    "collapsed": true
   },
   "outputs": [],
   "source": [
    "pi = np.array([0.]*n)\n",
    "for k in range(L_0, 2*L_0):\n",
    "    pi[k] = 1./L_0"
   ]
  },
  {
   "cell_type": "code",
   "execution_count": 50,
   "metadata": {},
   "outputs": [
    {
     "data": {
      "image/png": "[encoded data removed]",
      "text/plain": [
       "<matplotlib.figure.Figure at 0x7fb1fc308278>"
      ]
     },
     "metadata": {},
     "output_type": "display_data"
    },
    {
     "name": "stdout",
     "output_type": "stream",
     "text": [
      "Mode: 260.5\n",
      "Skewness: 0.729789529549\n",
      "Check sum==1: sum=1.0\n",
      "Cumulated sum:\n"
     ]
    },
    {
     "data": {
      "image/png": "[encoded data removed]",
      "text/plain": [
       "<matplotlib.figure.Figure at 0x7fb1fc2ea588>"
      ]
     },
     "metadata": {},
     "output_type": "display_data"
    }
   ],
   "source": [
    "n_iter = 1000\n",
    "pi_final, m, s = evol_distr(n_iter, pi, L_0, beta)\n",
    "cdf = np.cumsum(pi_final)\n",
    "print('Cumulated sum:')\n",
    "plt.plot(np.arange(0, 850, step=0.5), cdf)\n",
    "plt.show()"
   ]
  },
  {
   "cell_type": "code",
   "execution_count": 51,
   "metadata": {
    "collapsed": true
   },
   "outputs": [],
   "source": [
    "def initialisation_from_distr():\n",
    "    u = npr.rand()\n",
    "    return np.where(cdf>u)[0][0] / 2."
   ]
  },
  {
   "cell_type": "code",
   "execution_count": 52,
   "metadata": {
    "collapsed": true
   },
   "outputs": [],
   "source": [
    "def evolution(list_lengths):\n",
    "    permutation = np.arange(32)\n",
    "    npr.shuffle(permutation)\n",
    "    new_lengths = [0]*32\n",
    "    for k in range(32):\n",
    "        if permutation[k] >= 17:\n",
    "            new_lengths[k] = list_lengths[k]\n",
    "        else:\n",
    "            new_lengths[k] = list_lengths[k] - npr.randint(5, 11)\n",
    "    return new_lengths"
   ]
  },
  {
   "cell_type": "markdown",
   "metadata": {},
   "source": [
    "## Modèle asymétrique"
   ]
  },
  {
   "cell_type": "code",
   "execution_count": 53,
   "metadata": {},
   "outputs": [
    {
     "data": {
      "image/png": "[encoded data removed]",
      "text/plain": [
       "<matplotlib.figure.Figure at 0x7fb1fc1376d8>"
      ]
     },
     "metadata": {},
     "output_type": "display_data"
    }
   ],
   "source": [
    "# Exemple\n",
    "T = 30\n",
    "list_lengths = [initialisation_from_distr() for k in range(32)]\n",
    "big_list = [list_lengths]\n",
    "for t in range(T):\n",
    "    list_lengths = evolution(list_lengths)\n",
    "    big_list.append(list_lengths)\n",
    "for k in range(32):\n",
    "    plt.plot(range(T+1), [big_list[i][k] for i in range(T+1)], color='grey')\n",
    "plt.plot(range(T+1), [min(big_list[i]) for i in range(T+1)], color='red')\n",
    "plt.show()"
   ]
  },
  {
   "cell_type": "markdown",
   "metadata": {},
   "source": [
    "### Initialisation déterministe ('single founder cell')"
   ]
  },
  {
   "cell_type": "code",
   "execution_count": 54,
   "metadata": {
    "collapsed": true
   },
   "outputs": [],
   "source": [
    "n_exp = 10000\n",
    "L_finales = []\n",
    "T_final = []\n",
    "list_lengths_init = [initialisation_from_distr() for k in range(32)]\n",
    "\n",
    "for exp in range(n_exp):\n",
    "    T = 0\n",
    "    list_lengths = list_lengths_init\n",
    "    longueur = min(list_lengths)\n",
    "    while longueur > 19:\n",
    "        T += 1\n",
    "        list_lengths = evolution(list_lengths)\n",
    "        longueur = min(list_lengths)\n",
    "    T_final.append(T)"
   ]
  },
  {
   "cell_type": "code",
   "execution_count": 55,
   "metadata": {
    "scrolled": true
   },
   "outputs": [
    {
     "data": {
      "image/png": "[encoded data removed]",
      "text/plain": [
       "<matplotlib.figure.Figure at 0x7fb1fc0bfa20>"
      ]
     },
     "metadata": {},
     "output_type": "display_data"
    }
   ],
   "source": [
    "plt.hist(T_final, bins=12)\n",
    "plt.show()"
   ]
  },
  {
   "cell_type": "code",
   "execution_count": 56,
   "metadata": {},
   "outputs": [
    {
     "name": "stdout",
     "output_type": "stream",
     "text": [
      "0.162200480339\n"
     ]
    }
   ],
   "source": [
    "# Coefficient of variation for single founder cell, asymmetric telomere replication model\n",
    "print(np.std(T_final)/np.mean(T_final))"
   ]
  },
  {
   "cell_type": "markdown",
   "metadata": {},
   "source": [
    "### Initialisation aléatoire ('independent founder cells')"
   ]
  },
  {
   "cell_type": "code",
   "execution_count": 57,
   "metadata": {
    "collapsed": true
   },
   "outputs": [],
   "source": [
    "n_exp = 10000\n",
    "L_finales = []\n",
    "T_final = []\n",
    "for exp in range(n_exp):\n",
    "    T = 0\n",
    "    list_lengths = [initialisation_from_distr() for k in range(32)]\n",
    "    longueur = min(list_lengths)\n",
    "    while longueur > 19:\n",
    "        T += 1\n",
    "        list_lengths = evolution(list_lengths)\n",
    "        longueur = min(list_lengths)\n",
    "    T_final.append(T)"
   ]
  },
  {
   "cell_type": "code",
   "execution_count": 58,
   "metadata": {},
   "outputs": [
    {
     "data": {
      "image/png": "[encoded data removed]",
      "text/plain": [
       "<matplotlib.figure.Figure at 0x7fb1fc196ac8>"
      ]
     },
     "metadata": {},
     "output_type": "display_data"
    }
   ],
   "source": [
    "plt.hist(T_final, bins=14)\n",
    "plt.show()"
   ]
  },
  {
   "cell_type": "code",
   "execution_count": 59,
   "metadata": {},
   "outputs": [
    {
     "name": "stdout",
     "output_type": "stream",
     "text": [
      "0.221721998126\n"
     ]
    }
   ],
   "source": [
    "# Coefficient of variation for single founder cell, asymmetric telomere replication model\n",
    "print(np.std(T_final)/np.mean(T_final))"
   ]
  },
  {
   "cell_type": "markdown",
   "metadata": {},
   "source": [
    "## Modèle symétrique"
   ]
  },
  {
   "cell_type": "markdown",
   "metadata": {},
   "source": [
    "### Initialisation aléatoire ('independent founder cells')"
   ]
  },
  {
   "cell_type": "code",
   "execution_count": 60,
   "metadata": {
    "collapsed": true
   },
   "outputs": [],
   "source": [
    "n_exp = 10000\n",
    "L_finales = []\n",
    "T_final = []\n",
    "for exp in range(n_exp):\n",
    "    T = 0\n",
    "    list_lengths = [initialisation_from_distr() for k in range(32)]\n",
    "    longueur = min(list_lengths)\n",
    "    T_final.append(int((longueur-19)/3.75)+1)"
   ]
  },
  {
   "cell_type": "code",
   "execution_count": 61,
   "metadata": {},
   "outputs": [
    {
     "data": {
      "image/png": "[encoded data removed]",
      "text/plain": [
       "<matplotlib.figure.Figure at 0x7fb1fc312dd8>"
      ]
     },
     "metadata": {},
     "output_type": "display_data"
    }
   ],
   "source": [
    "plt.hist(T_final, bins=14)\n",
    "plt.show()"
   ]
  },
  {
   "cell_type": "code",
   "execution_count": 62,
   "metadata": {},
   "outputs": [
    {
     "name": "stdout",
     "output_type": "stream",
     "text": [
      "0.199351070557\n"
     ]
    }
   ],
   "source": [
    "# Coefficient of variation for single founder cell, asymmetric telomere replication model\n",
    "print(np.std(T_final)/np.mean(T_final))"
   ]
  },
  {
   "cell_type": "markdown",
   "metadata": {
    "collapsed": true
   },
   "source": [
    "# Verification of useful facts for theoretical analysis"
   ]
  },
  {
   "cell_type": "code",
   "execution_count": 63,
   "metadata": {
    "collapsed": true
   },
   "outputs": [],
   "source": [
    "def evolution_simple(longueur):\n",
    "    x = npr.rand()\n",
    "    if x > 0.5:\n",
    "        return longueur - npr.randint(5, 11)\n",
    "    return longueur"
   ]
  },
  {
   "cell_type": "code",
   "execution_count": 64,
   "metadata": {},
   "outputs": [
    {
     "data": {
      "image/png": "[encoded data removed]",
      "text/plain": [
       "<matplotlib.figure.Figure at 0x7fb1fc6ec3c8>"
      ]
     },
     "metadata": {},
     "output_type": "display_data"
    }
   ],
   "source": [
    "T = 10\n",
    "longueur = 150\n",
    "L = [longueur]\n",
    "for t in range(T):\n",
    "    longueur = evolution_simple(longueur)\n",
    "    L.append(longueur)\n",
    "plt.plot(range(T+1), L, color='red')\n",
    "plt.show()"
   ]
  },
  {
   "cell_type": "code",
   "execution_count": 65,
   "metadata": {},
   "outputs": [
    {
     "data": {
      "image/png": "[encoded data removed]",
      "text/plain": [
       "<matplotlib.figure.Figure at 0x7fb1fc7dd518>"
      ]
     },
     "metadata": {},
     "output_type": "display_data"
    }
   ],
   "source": [
    "T = 0\n",
    "longueur = 150\n",
    "L = [longueur]\n",
    "while longueur > 0:\n",
    "    T += 1\n",
    "    longueur = evolution_simple(longueur)\n",
    "    L.append(longueur)\n",
    "plt.plot(range(T+1), L, color='red')\n",
    "plt.show()"
   ]
  },
  {
   "cell_type": "markdown",
   "metadata": {},
   "source": [
    "Vérification de l'uniformité de la loi de la marche sachant qu'elle est entre 1 et 10 :"
   ]
  },
  {
   "cell_type": "code",
   "execution_count": 66,
   "metadata": {},
   "outputs": [
    {
     "data": {
      "image/png": "[encoded data removed]",
      "text/plain": [
       "<matplotlib.figure.Figure at 0x7fb1fc7d2860>"
      ]
     },
     "metadata": {},
     "output_type": "display_data"
    }
   ],
   "source": [
    "n_exp = 10000\n",
    "L_select = []\n",
    "longueur = 150\n",
    "L = [longueur]*n_exp\n",
    "L_finales = []\n",
    "for T in range(100):\n",
    "    for exp in range(n_exp):\n",
    "        a = evolution_simple(L[exp])\n",
    "        L[exp] = a\n",
    "        if a > 0 and a <= 10:\n",
    "            L_finales.append(a)\n",
    "plt.hist(L_finales, bins=10)\n",
    "plt.show()"
   ]
  },
  {
   "cell_type": "markdown",
   "metadata": {},
   "source": [
    "Loi de $S_\\tau$ et indépendance avec $\\tau$ :"
   ]
  },
  {
   "cell_type": "code",
   "execution_count": 67,
   "metadata": {
    "collapsed": true
   },
   "outputs": [],
   "source": [
    "n_exp = 100000\n",
    "L_finales = []\n",
    "T_final = []\n",
    "for exp in range(n_exp):\n",
    "    T = 0\n",
    "    longueur = 240\n",
    "    L = [longueur]\n",
    "    while longueur > 0:\n",
    "        T += 1\n",
    "        longueur = evolution_simple(longueur)\n",
    "        L.append(longueur)\n",
    "    L_finales.append(L[-1])\n",
    "    T_final.append(T)"
   ]
  },
  {
   "cell_type": "code",
   "execution_count": 68,
   "metadata": {},
   "outputs": [
    {
     "data": {
      "image/png": "[encoded data removed]",
      "text/plain": [
       "<matplotlib.figure.Figure at 0x7fb1fc67a5c0>"
      ]
     },
     "metadata": {},
     "output_type": "display_data"
    }
   ],
   "source": [
    "plt.hist(L_finales, bins=10)\n",
    "plt.show()"
   ]
  },
  {
   "cell_type": "code",
   "execution_count": 69,
   "metadata": {},
   "outputs": [
    {
     "data": {
      "text/plain": [
       "array([[  6.04216629,  -1.26178881],\n",
       "       [ -1.26178881,  71.99095043]])"
      ]
     },
     "execution_count": 69,
     "metadata": {},
     "output_type": "execute_result"
    }
   ],
   "source": [
    "np.cov(L_finales, T_final)"
   ]
  },
  {
   "cell_type": "code",
   "execution_count": 70,
   "metadata": {},
   "outputs": [
    {
     "data": {
      "text/plain": [
       "64.930289999999999"
      ]
     },
     "execution_count": 70,
     "metadata": {},
     "output_type": "execute_result"
    }
   ],
   "source": [
    "# Empirical mean\n",
    "np.mean(T_final)"
   ]
  },
  {
   "cell_type": "code",
   "execution_count": 72,
   "metadata": {},
   "outputs": [
    {
     "data": {
      "text/plain": [
       "64.77037037037037"
      ]
     },
     "execution_count": 72,
     "metadata": {},
     "output_type": "execute_result"
    }
   ],
   "source": [
    "# Theoretical mean\n",
    "4*240/15 + 104./135"
   ]
  },
  {
   "cell_type": "code",
   "execution_count": null,
   "metadata": {
    "collapsed": true
   },
   "outputs": [],
   "source": []
  }
 ],
 "metadata": {
  "kernelspec": {
   "display_name": "Python 3",
   "language": "python",
   "name": "python3"
  },
  "language_info": {
   "codemirror_mode": {
    "name": "ipython",
    "version": 3
   },
   "file_extension": ".py",
   "mimetype": "text/x-python",
   "name": "python",
   "nbconvert_exporter": "python",
   "pygments_lexer": "ipython3",
   "version": "3.6.3"
  }
 },
 "nbformat": 4,
 "nbformat_minor": 2
}
